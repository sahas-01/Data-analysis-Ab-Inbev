{
 "cells": [
  {
   "cell_type": "code",
   "execution_count": 2,
   "metadata": {},
   "outputs": [],
   "source": [
    "import pandas as pd\n",
    "import matplotlib.pyplot as plt"
   ]
  },
  {
   "cell_type": "markdown",
   "metadata": {},
   "source": [
    "<!-- Reading the excel file and getting initial insights about the data -->"
   ]
  },
  {
   "cell_type": "code",
   "execution_count": 3,
   "metadata": {},
   "outputs": [],
   "source": [
    "df = pd.read_excel('Dataset.xlsx',sheet_name='E-Commerce Reviews_Data',skiprows=[0,1,2,3,4])"
   ]
  },
  {
   "cell_type": "code",
   "execution_count": 4,
   "metadata": {},
   "outputs": [
    {
     "data": {
      "text/plain": [
       "Index(['Sl.No', 'Flavour Name', 'Review', 'Link'], dtype='object')"
      ]
     },
     "execution_count": 4,
     "metadata": {},
     "output_type": "execute_result"
    }
   ],
   "source": [
    "df.columns"
   ]
  },
  {
   "cell_type": "code",
   "execution_count": 5,
   "metadata": {},
   "outputs": [
    {
     "data": {
      "text/html": [
       "<div>\n",
       "<style scoped>\n",
       "    .dataframe tbody tr th:only-of-type {\n",
       "        vertical-align: middle;\n",
       "    }\n",
       "\n",
       "    .dataframe tbody tr th {\n",
       "        vertical-align: top;\n",
       "    }\n",
       "\n",
       "    .dataframe thead th {\n",
       "        text-align: right;\n",
       "    }\n",
       "</style>\n",
       "<table border=\"1\" class=\"dataframe\">\n",
       "  <thead>\n",
       "    <tr style=\"text-align: right;\">\n",
       "      <th></th>\n",
       "      <th>Sl.No</th>\n",
       "      <th>Flavour Name</th>\n",
       "      <th>Review</th>\n",
       "      <th>Link</th>\n",
       "    </tr>\n",
       "  </thead>\n",
       "  <tbody>\n",
       "    <tr>\n",
       "      <th>0</th>\n",
       "      <td>1</td>\n",
       "      <td>Blonde</td>\n",
       "      <td>I really like this beer but I want the rest of...</td>\n",
       "      <td>https://www.amazon.co.uk/gp/customer-reviews/R...</td>\n",
       "    </tr>\n",
       "    <tr>\n",
       "      <th>1</th>\n",
       "      <td>2</td>\n",
       "      <td>Ruby</td>\n",
       "      <td>rubbish, when I ordered it was two days premiu...</td>\n",
       "      <td>https://www.amazon.co.uk/gp/customer-reviews/R...</td>\n",
       "    </tr>\n",
       "    <tr>\n",
       "      <th>2</th>\n",
       "      <td>3</td>\n",
       "      <td>Ruby</td>\n",
       "      <td>This is a Berry flavoured beer and tastes real...</td>\n",
       "      <td>https://www.amazon.co.uk/gp/customer-reviews/R...</td>\n",
       "    </tr>\n",
       "    <tr>\n",
       "      <th>3</th>\n",
       "      <td>4</td>\n",
       "      <td>Ruby</td>\n",
       "      <td>Sorry to say didn’t like this at all, but wort...</td>\n",
       "      <td>https://www.amazon.co.uk/gp/customer-reviews/R...</td>\n",
       "    </tr>\n",
       "    <tr>\n",
       "      <th>4</th>\n",
       "      <td>5</td>\n",
       "      <td>Ruby</td>\n",
       "      <td>Buyer beware.\\nAfter reading reviews about how...</td>\n",
       "      <td>https://www.amazon.co.uk/gp/customer-reviews/R...</td>\n",
       "    </tr>\n",
       "  </tbody>\n",
       "</table>\n",
       "</div>"
      ],
      "text/plain": [
       "   Sl.No Flavour Name                                             Review  \\\n",
       "0      1       Blonde  I really like this beer but I want the rest of...   \n",
       "1      2         Ruby  rubbish, when I ordered it was two days premiu...   \n",
       "2      3         Ruby  This is a Berry flavoured beer and tastes real...   \n",
       "3      4         Ruby  Sorry to say didn’t like this at all, but wort...   \n",
       "4      5         Ruby  Buyer beware.\\nAfter reading reviews about how...   \n",
       "\n",
       "                                                Link  \n",
       "0  https://www.amazon.co.uk/gp/customer-reviews/R...  \n",
       "1  https://www.amazon.co.uk/gp/customer-reviews/R...  \n",
       "2  https://www.amazon.co.uk/gp/customer-reviews/R...  \n",
       "3  https://www.amazon.co.uk/gp/customer-reviews/R...  \n",
       "4  https://www.amazon.co.uk/gp/customer-reviews/R...  "
      ]
     },
     "execution_count": 5,
     "metadata": {},
     "output_type": "execute_result"
    }
   ],
   "source": [
    "df.head()"
   ]
  },
  {
   "cell_type": "code",
   "execution_count": 6,
   "metadata": {},
   "outputs": [
    {
     "data": {
      "text/plain": [
       "(73, 4)"
      ]
     },
     "execution_count": 6,
     "metadata": {},
     "output_type": "execute_result"
    }
   ],
   "source": [
    "df.shape"
   ]
  },
  {
   "cell_type": "markdown",
   "metadata": {},
   "source": [
    "<!-- Sentiment analysis on the Ecommerce data -->"
   ]
  },
  {
   "cell_type": "code",
   "execution_count": 37,
   "metadata": {},
   "outputs": [
    {
     "name": "stderr",
     "output_type": "stream",
     "text": [
      "[nltk_data] Downloading package vader_lexicon to C:\\Users\\Sahas\n",
      "[nltk_data]     Vivek\\AppData\\Roaming\\nltk_data...\n",
      "[nltk_data]   Package vader_lexicon is already up-to-date!\n"
     ]
    },
    {
     "data": {
      "text/html": [
       "<div>\n",
       "<style scoped>\n",
       "    .dataframe tbody tr th:only-of-type {\n",
       "        vertical-align: middle;\n",
       "    }\n",
       "\n",
       "    .dataframe tbody tr th {\n",
       "        vertical-align: top;\n",
       "    }\n",
       "\n",
       "    .dataframe thead th {\n",
       "        text-align: right;\n",
       "    }\n",
       "</style>\n",
       "<table border=\"1\" class=\"dataframe\">\n",
       "  <thead>\n",
       "    <tr style=\"text-align: right;\">\n",
       "      <th></th>\n",
       "      <th>Sl.No</th>\n",
       "      <th>Flavour Name</th>\n",
       "      <th>Review</th>\n",
       "      <th>Link</th>\n",
       "      <th>sentiment</th>\n",
       "    </tr>\n",
       "  </thead>\n",
       "  <tbody>\n",
       "    <tr>\n",
       "      <th>0</th>\n",
       "      <td>1</td>\n",
       "      <td>Blonde</td>\n",
       "      <td>I really like this beer but I want the rest of...</td>\n",
       "      <td>https://www.amazon.co.uk/gp/customer-reviews/R...</td>\n",
       "      <td>positive</td>\n",
       "    </tr>\n",
       "    <tr>\n",
       "      <th>1</th>\n",
       "      <td>2</td>\n",
       "      <td>Ruby</td>\n",
       "      <td>rubbish, when I ordered it was two days premiu...</td>\n",
       "      <td>https://www.amazon.co.uk/gp/customer-reviews/R...</td>\n",
       "      <td>negative</td>\n",
       "    </tr>\n",
       "    <tr>\n",
       "      <th>2</th>\n",
       "      <td>3</td>\n",
       "      <td>Ruby</td>\n",
       "      <td>This is a Berry flavoured beer and tastes real...</td>\n",
       "      <td>https://www.amazon.co.uk/gp/customer-reviews/R...</td>\n",
       "      <td>positive</td>\n",
       "    </tr>\n",
       "    <tr>\n",
       "      <th>3</th>\n",
       "      <td>4</td>\n",
       "      <td>Ruby</td>\n",
       "      <td>Sorry to say didn’t like this at all, but wort...</td>\n",
       "      <td>https://www.amazon.co.uk/gp/customer-reviews/R...</td>\n",
       "      <td>positive</td>\n",
       "    </tr>\n",
       "    <tr>\n",
       "      <th>4</th>\n",
       "      <td>5</td>\n",
       "      <td>Ruby</td>\n",
       "      <td>Buyer beware.\\nAfter reading reviews about how...</td>\n",
       "      <td>https://www.amazon.co.uk/gp/customer-reviews/R...</td>\n",
       "      <td>positive</td>\n",
       "    </tr>\n",
       "  </tbody>\n",
       "</table>\n",
       "</div>"
      ],
      "text/plain": [
       "   Sl.No Flavour Name                                             Review  \\\n",
       "0      1       Blonde  I really like this beer but I want the rest of...   \n",
       "1      2         Ruby  rubbish, when I ordered it was two days premiu...   \n",
       "2      3         Ruby  This is a Berry flavoured beer and tastes real...   \n",
       "3      4         Ruby  Sorry to say didn’t like this at all, but wort...   \n",
       "4      5         Ruby  Buyer beware.\\nAfter reading reviews about how...   \n",
       "\n",
       "                                                Link sentiment  \n",
       "0  https://www.amazon.co.uk/gp/customer-reviews/R...  positive  \n",
       "1  https://www.amazon.co.uk/gp/customer-reviews/R...  negative  \n",
       "2  https://www.amazon.co.uk/gp/customer-reviews/R...  positive  \n",
       "3  https://www.amazon.co.uk/gp/customer-reviews/R...  positive  \n",
       "4  https://www.amazon.co.uk/gp/customer-reviews/R...  positive  "
      ]
     },
     "execution_count": 37,
     "metadata": {},
     "output_type": "execute_result"
    }
   ],
   "source": [
    "import nltk\n",
    "from nltk.sentiment import SentimentIntensityAnalyzer\n",
    "import pandas as pd\n",
    "\n",
    "# Download the VADER lexicon for sentiment analysis\n",
    "nltk.download('vader_lexicon')\n",
    "\n",
    "# Initialize the Sentiment Intensity Analyzer\n",
    "sia = SentimentIntensityAnalyzer()\n",
    "\n",
    "# Function to get sentiment polarity\n",
    "def get_sentiment(text):\n",
    "    sentiment_score = sia.polarity_scores(text)['compound']\n",
    "    \n",
    "    if sentiment_score >= 0.05:\n",
    "        return 'positive'\n",
    "    elif sentiment_score >= -0.05 and sentiment_score < 0.05:\n",
    "        return 'neutral'\n",
    "    else:\n",
    "        return 'negative'\n",
    "    \n",
    "df['sentiment'] = df['Review'].apply(get_sentiment)\n",
    "\n",
    "# give the positive, negative and neutral sentiment for each flavor name\n",
    "df.head()\n",
    "\n",
    "\n",
    "\n",
    "\n"
   ]
  },
  {
   "cell_type": "code",
   "execution_count": 40,
   "metadata": {},
   "outputs": [
    {
     "data": {
      "image/png": "[encoded data removed]",
      "text/plain": [
       "<Figure size 720x576 with 1 Axes>"
      ]
     },
     "metadata": {
      "needs_background": "light"
     },
     "output_type": "display_data"
    }
   ],
   "source": [
    "import matplotlib.pyplot as plt\n",
    "from matplotlib.font_manager import FontProperties\n",
    "\n",
    "# Assuming you have sentiment_counts from your previous code\n",
    "sentiment_counts = df.groupby(['Flavour Name', 'sentiment']).size().unstack(fill_value=0)\n",
    "\n",
    "# Plot the bar graph\n",
    "# give the negative in red, positive in green and neutral in blue color, the x-axis is the flavor name and y-axis is the count of each sentiment\n",
    "sentiment_counts.plot(kind='bar', color=['red', 'blue', 'green'], figsize=(10, 8))\n",
    "plt.xlabel('Flavour Name', fontweight='bold', fontsize=14, labelpad=10)  # Customize x-axis label\n",
    "plt.ylabel('Count', fontweight='bold', fontsize=12, labelpad=10)  # Customize y-axis label\n",
    "\n",
    "# Customize the legend title\n",
    "legend_title = 'Sentiment'\n",
    "font_properties = FontProperties(weight='bold', size=16)\n",
    "plt.legend(title=legend_title, title_fontsize=18, prop=font_properties)\n",
    "\n",
    "plt.xticks(rotation=0)\n",
    "\n",
    "# Set the y-axis limit to a higher value\n",
    "plt.ylim(0, sentiment_counts.max().max() + 10)\n",
    "\n",
    "plt.grid(axis='y')\n",
    "\n",
    "# Display the plot\n",
    "plt.show()\n"
   ]
  },
  {
   "cell_type": "code",
   "execution_count": 39,
   "metadata": {},
   "outputs": [
    {
     "data": {
      "text/html": [
       "<div>\n",
       "<style scoped>\n",
       "    .dataframe tbody tr th:only-of-type {\n",
       "        vertical-align: middle;\n",
       "    }\n",
       "\n",
       "    .dataframe tbody tr th {\n",
       "        vertical-align: top;\n",
       "    }\n",
       "\n",
       "    .dataframe thead th {\n",
       "        text-align: right;\n",
       "    }\n",
       "</style>\n",
       "<table border=\"1\" class=\"dataframe\">\n",
       "  <thead>\n",
       "    <tr style=\"text-align: right;\">\n",
       "      <th>sentiment</th>\n",
       "      <th>negative</th>\n",
       "      <th>neutral</th>\n",
       "      <th>positive</th>\n",
       "    </tr>\n",
       "    <tr>\n",
       "      <th>Flavour Name</th>\n",
       "      <th></th>\n",
       "      <th></th>\n",
       "      <th></th>\n",
       "    </tr>\n",
       "  </thead>\n",
       "  <tbody>\n",
       "    <tr>\n",
       "      <th>Blonde</th>\n",
       "      <td>1</td>\n",
       "      <td>1</td>\n",
       "      <td>17</td>\n",
       "    </tr>\n",
       "    <tr>\n",
       "      <th>Brune</th>\n",
       "      <td>0</td>\n",
       "      <td>0</td>\n",
       "      <td>12</td>\n",
       "    </tr>\n",
       "    <tr>\n",
       "      <th>Ruby</th>\n",
       "      <td>5</td>\n",
       "      <td>2</td>\n",
       "      <td>35</td>\n",
       "    </tr>\n",
       "  </tbody>\n",
       "</table>\n",
       "</div>"
      ],
      "text/plain": [
       "sentiment     negative  neutral  positive\n",
       "Flavour Name                             \n",
       "Blonde               1        1        17\n",
       "Brune                0        0        12\n",
       "Ruby                 5        2        35"
      ]
     },
     "execution_count": 39,
     "metadata": {},
     "output_type": "execute_result"
    }
   ],
   "source": [
    "import pandas as pd\n",
    "\n",
    "# Group by 'Flavour Name' and 'sentiment' and count occurrences\n",
    "sentiment_counts = df.groupby(['Flavour Name', 'sentiment']).size().unstack(fill_value=0)\n",
    "\n",
    "# Display the result\n",
    "sentiment_counts\n"
   ]
  }
 ],
 "metadata": {
  "kernelspec": {
   "display_name": "Python 3",
   "language": "python",
   "name": "python3"
  },
  "language_info": {
   "codemirror_mode": {
    "name": "ipython",
    "version": 3
   },
   "file_extension": ".py",
   "mimetype": "text/x-python",
   "name": "python",
   "nbconvert_exporter": "python",
   "pygments_lexer": "ipython3",
   "version": "3.9.7"
  }
 },
 "nbformat": 4,
 "nbformat_minor": 4
}
