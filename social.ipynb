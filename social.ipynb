{
 "cells": [
  {
   "cell_type": "code",
   "execution_count": 2,
   "metadata": {},
   "outputs": [],
   "source": [
    "import pandas as pd"
   ]
  },
  {
   "cell_type": "code",
   "execution_count": 3,
   "metadata": {},
   "outputs": [],
   "source": [
    "df = pd.read_excel('Dataset.xlsx',sheet_name='Social Listening_Data',skiprows=[0,1,2,3,4])\n"
   ]
  },
  {
   "cell_type": "code",
   "execution_count": 4,
   "metadata": {},
   "outputs": [
    {
     "data": {
      "text/html": [
       "<div>\n",
       "<style scoped>\n",
       "    .dataframe tbody tr th:only-of-type {\n",
       "        vertical-align: middle;\n",
       "    }\n",
       "\n",
       "    .dataframe tbody tr th {\n",
       "        vertical-align: top;\n",
       "    }\n",
       "\n",
       "    .dataframe thead th {\n",
       "        text-align: right;\n",
       "    }\n",
       "</style>\n",
       "<table border=\"1\" class=\"dataframe\">\n",
       "  <thead>\n",
       "    <tr style=\"text-align: right;\">\n",
       "      <th></th>\n",
       "      <th>Sl.No</th>\n",
       "      <th>Query Id</th>\n",
       "      <th>Query Name</th>\n",
       "      <th>Date</th>\n",
       "      <th>Title</th>\n",
       "      <th>Social Mention/Comment</th>\n",
       "      <th>Url</th>\n",
       "      <th>Domain</th>\n",
       "      <th>Sentiment</th>\n",
       "      <th>Emotion</th>\n",
       "      <th>...</th>\n",
       "      <th>Reddit Comments</th>\n",
       "      <th>Subreddit</th>\n",
       "      <th>Subreddit Subscribers</th>\n",
       "      <th>Sina Weibo Post Count</th>\n",
       "      <th>Sina Weibo Favourites Count</th>\n",
       "      <th>Sina Weibo Followers</th>\n",
       "      <th>Sina Weibo Following</th>\n",
       "      <th>Sina Weibo Bi Followers</th>\n",
       "      <th>Sina Weibo Raw Location</th>\n",
       "      <th>EPL Teams</th>\n",
       "    </tr>\n",
       "  </thead>\n",
       "  <tbody>\n",
       "    <tr>\n",
       "      <th>0</th>\n",
       "      <td>1</td>\n",
       "      <td>2000571055</td>\n",
       "      <td>Leffe_UK_DoNotDelete</td>\n",
       "      <td>2021-10-01 20:40:13.000</td>\n",
       "      <td>@R1100GSBlueNose I'm on the Leffe. Yum!</td>\n",
       "      <td>@R1100GSBlueNose I'm on the Leffe. Yum!</td>\n",
       "      <td>http://twitter.com/ChrisScanlan13/statuses/144...</td>\n",
       "      <td>twitter.com</td>\n",
       "      <td>positive</td>\n",
       "      <td>NaN</td>\n",
       "      <td>...</td>\n",
       "      <td>NaN</td>\n",
       "      <td>NaN</td>\n",
       "      <td>NaN</td>\n",
       "      <td>NaN</td>\n",
       "      <td>NaN</td>\n",
       "      <td>NaN</td>\n",
       "      <td>NaN</td>\n",
       "      <td>NaN</td>\n",
       "      <td>NaN</td>\n",
       "      <td>NaN</td>\n",
       "    </tr>\n",
       "    <tr>\n",
       "      <th>1</th>\n",
       "      <td>2</td>\n",
       "      <td>2000571055</td>\n",
       "      <td>Leffe_UK_DoNotDelete</td>\n",
       "      <td>2021-03-15 21:59:55.000</td>\n",
       "      <td>@vonney88 No difference in taste at all, first...</td>\n",
       "      <td>@vonney88 No difference in taste at all, first...</td>\n",
       "      <td>http://twitter.com/fitzy_ge/statuses/137158195...</td>\n",
       "      <td>twitter.com</td>\n",
       "      <td>neutral</td>\n",
       "      <td>NaN</td>\n",
       "      <td>...</td>\n",
       "      <td>NaN</td>\n",
       "      <td>NaN</td>\n",
       "      <td>NaN</td>\n",
       "      <td>NaN</td>\n",
       "      <td>NaN</td>\n",
       "      <td>NaN</td>\n",
       "      <td>NaN</td>\n",
       "      <td>NaN</td>\n",
       "      <td>NaN</td>\n",
       "      <td>NaN</td>\n",
       "    </tr>\n",
       "    <tr>\n",
       "      <th>2</th>\n",
       "      <td>3</td>\n",
       "      <td>2000571055</td>\n",
       "      <td>Leffe_UK_DoNotDelete</td>\n",
       "      <td>2021-11-20 21:09:54.000</td>\n",
       "      <td>Watching In Brugges and not opening the big bo...</td>\n",
       "      <td>Watching In Brugges and not opening the big bo...</td>\n",
       "      <td>http://twitter.com/chris_wilkin/statuses/14621...</td>\n",
       "      <td>twitter.com</td>\n",
       "      <td>negative</td>\n",
       "      <td>NaN</td>\n",
       "      <td>...</td>\n",
       "      <td>NaN</td>\n",
       "      <td>NaN</td>\n",
       "      <td>NaN</td>\n",
       "      <td>NaN</td>\n",
       "      <td>NaN</td>\n",
       "      <td>NaN</td>\n",
       "      <td>NaN</td>\n",
       "      <td>NaN</td>\n",
       "      <td>NaN</td>\n",
       "      <td>NaN</td>\n",
       "    </tr>\n",
       "    <tr>\n",
       "      <th>3</th>\n",
       "      <td>4</td>\n",
       "      <td>2000571055</td>\n",
       "      <td>Leffe_UK_DoNotDelete</td>\n",
       "      <td>2022-03-12 18:44:09.000</td>\n",
       "      <td>@jules_wink Fist time I ordered a Leffe, I dra...</td>\n",
       "      <td>@jules_wink Fist time I ordered a Leffe, I dra...</td>\n",
       "      <td>http://twitter.com/BiscuitVanGuy/statuses/1502...</td>\n",
       "      <td>twitter.com</td>\n",
       "      <td>negative</td>\n",
       "      <td>NaN</td>\n",
       "      <td>...</td>\n",
       "      <td>NaN</td>\n",
       "      <td>NaN</td>\n",
       "      <td>NaN</td>\n",
       "      <td>NaN</td>\n",
       "      <td>NaN</td>\n",
       "      <td>NaN</td>\n",
       "      <td>NaN</td>\n",
       "      <td>NaN</td>\n",
       "      <td>NaN</td>\n",
       "      <td>NaN</td>\n",
       "    </tr>\n",
       "    <tr>\n",
       "      <th>4</th>\n",
       "      <td>5</td>\n",
       "      <td>2000571055</td>\n",
       "      <td>Leffe_UK_DoNotDelete</td>\n",
       "      <td>2022-01-20 18:11:03.000</td>\n",
       "      <td>This is lovely!! - Drinking a Leffe Blonde / B...</td>\n",
       "      <td>This is lovely!! - Drinking a Leffe Blonde / B...</td>\n",
       "      <td>http://twitter.com/ETumman/statuses/1484226983...</td>\n",
       "      <td>twitter.com</td>\n",
       "      <td>positive</td>\n",
       "      <td>NaN</td>\n",
       "      <td>...</td>\n",
       "      <td>NaN</td>\n",
       "      <td>NaN</td>\n",
       "      <td>NaN</td>\n",
       "      <td>NaN</td>\n",
       "      <td>NaN</td>\n",
       "      <td>NaN</td>\n",
       "      <td>NaN</td>\n",
       "      <td>NaN</td>\n",
       "      <td>NaN</td>\n",
       "      <td>NaN</td>\n",
       "    </tr>\n",
       "  </tbody>\n",
       "</table>\n",
       "<p>5 rows × 93 columns</p>\n",
       "</div>"
      ],
      "text/plain": [
       "   Sl.No    Query Id            Query Name                     Date  \\\n",
       "0      1  2000571055  Leffe_UK_DoNotDelete  2021-10-01 20:40:13.000   \n",
       "1      2  2000571055  Leffe_UK_DoNotDelete  2021-03-15 21:59:55.000   \n",
       "2      3  2000571055  Leffe_UK_DoNotDelete  2021-11-20 21:09:54.000   \n",
       "3      4  2000571055  Leffe_UK_DoNotDelete  2022-03-12 18:44:09.000   \n",
       "4      5  2000571055  Leffe_UK_DoNotDelete  2022-01-20 18:11:03.000   \n",
       "\n",
       "                                               Title  \\\n",
       "0            @R1100GSBlueNose I'm on the Leffe. Yum!   \n",
       "1  @vonney88 No difference in taste at all, first...   \n",
       "2  Watching In Brugges and not opening the big bo...   \n",
       "3  @jules_wink Fist time I ordered a Leffe, I dra...   \n",
       "4  This is lovely!! - Drinking a Leffe Blonde / B...   \n",
       "\n",
       "                              Social Mention/Comment  \\\n",
       "0            @R1100GSBlueNose I'm on the Leffe. Yum!   \n",
       "1  @vonney88 No difference in taste at all, first...   \n",
       "2  Watching In Brugges and not opening the big bo...   \n",
       "3  @jules_wink Fist time I ordered a Leffe, I dra...   \n",
       "4  This is lovely!! - Drinking a Leffe Blonde / B...   \n",
       "\n",
       "                                                 Url       Domain Sentiment  \\\n",
       "0  http://twitter.com/ChrisScanlan13/statuses/144...  twitter.com  positive   \n",
       "1  http://twitter.com/fitzy_ge/statuses/137158195...  twitter.com   neutral   \n",
       "2  http://twitter.com/chris_wilkin/statuses/14621...  twitter.com  negative   \n",
       "3  http://twitter.com/BiscuitVanGuy/statuses/1502...  twitter.com  negative   \n",
       "4  http://twitter.com/ETumman/statuses/1484226983...  twitter.com  positive   \n",
       "\n",
       "  Emotion  ... Reddit Comments Subreddit Subreddit Subscribers  \\\n",
       "0     NaN  ...             NaN       NaN                   NaN   \n",
       "1     NaN  ...             NaN       NaN                   NaN   \n",
       "2     NaN  ...             NaN       NaN                   NaN   \n",
       "3     NaN  ...             NaN       NaN                   NaN   \n",
       "4     NaN  ...             NaN       NaN                   NaN   \n",
       "\n",
       "  Sina Weibo Post Count Sina Weibo Favourites Count Sina Weibo Followers  \\\n",
       "0                   NaN                         NaN                  NaN   \n",
       "1                   NaN                         NaN                  NaN   \n",
       "2                   NaN                         NaN                  NaN   \n",
       "3                   NaN                         NaN                  NaN   \n",
       "4                   NaN                         NaN                  NaN   \n",
       "\n",
       "  Sina Weibo Following Sina Weibo Bi Followers Sina Weibo Raw Location  \\\n",
       "0                  NaN                     NaN                     NaN   \n",
       "1                  NaN                     NaN                     NaN   \n",
       "2                  NaN                     NaN                     NaN   \n",
       "3                  NaN                     NaN                     NaN   \n",
       "4                  NaN                     NaN                     NaN   \n",
       "\n",
       "  EPL Teams  \n",
       "0       NaN  \n",
       "1       NaN  \n",
       "2       NaN  \n",
       "3       NaN  \n",
       "4       NaN  \n",
       "\n",
       "[5 rows x 93 columns]"
      ]
     },
     "execution_count": 4,
     "metadata": {},
     "output_type": "execute_result"
    }
   ],
   "source": [
    "df.head()"
   ]
  },
  {
   "cell_type": "code",
   "execution_count": 5,
   "metadata": {},
   "outputs": [
    {
     "data": {
      "text/plain": [
       "Index(['Sl.No', 'Query Id', 'Query Name', 'Date', 'Title',\n",
       "       'Social Mention/Comment', 'Url', 'Domain', 'Sentiment', 'Emotion',\n",
       "       'Page Type', 'Language', 'Country Code', 'Continent Code', 'Continent',\n",
       "       'Country', 'Region Code', 'Region', 'City Code', 'Account Type',\n",
       "       'Assignment', 'Author', 'Avatar', 'Category Details', 'Checked', 'City',\n",
       "       'Display URLs', 'Expanded URLs', 'Facebook Author ID',\n",
       "       'Facebook Comments', 'Facebook Likes', 'Facebook Role',\n",
       "       'Facebook Shares', 'Facebook Subtype', 'Full Name', 'Gender',\n",
       "       'Hashtags', 'Impact', 'Impressions', 'Instagram Comments',\n",
       "       'Instagram Followers', 'Instagram Following', 'Instagram Likes',\n",
       "       'Instagram Posts', 'Interest', 'Last Assignment Date', 'Latitude',\n",
       "       'Location Name', 'Longitude', 'Media Filter', 'Media URLs',\n",
       "       'Mentioned Authors', 'Priority', 'Professions', 'Resource Id',\n",
       "       'Short URLs', 'Starred', 'Status', 'Subtype', 'Tags', 'Thread Author',\n",
       "       'Thread Created Date', 'Thread Entry Type', 'Thread Id', 'Thread URL',\n",
       "       'Total Monthly Visitors', 'Twitter Author ID', 'Twitter Channel Role',\n",
       "       'Twitter Followers', 'Twitter Following', 'Twitter Reply Count',\n",
       "       'Twitter Reply to', 'Twitter Retweet of', 'Twitter Retweets',\n",
       "       'Twitter Likes', 'Twitter Tweets', 'Twitter Verified', 'Reach (new)',\n",
       "       'Reddit Score', 'Reddit Score Upvote Ratio', 'Reddit Author Karma',\n",
       "       'Reddit Author Awardee Karma', 'Reddit Author Awarder Karma',\n",
       "       'Reddit Comments', 'Subreddit', 'Subreddit Subscribers',\n",
       "       'Sina Weibo Post Count', 'Sina Weibo Favourites Count',\n",
       "       'Sina Weibo Followers', 'Sina Weibo Following',\n",
       "       'Sina Weibo Bi Followers', 'Sina Weibo Raw Location', 'EPL Teams'],\n",
       "      dtype='object')"
      ]
     },
     "execution_count": 5,
     "metadata": {},
     "output_type": "execute_result"
    }
   ],
   "source": [
    "df.columns"
   ]
  },
  {
   "cell_type": "code",
   "execution_count": 6,
   "metadata": {},
   "outputs": [
    {
     "data": {
      "text/html": [
       "<div>\n",
       "<style scoped>\n",
       "    .dataframe tbody tr th:only-of-type {\n",
       "        vertical-align: middle;\n",
       "    }\n",
       "\n",
       "    .dataframe tbody tr th {\n",
       "        vertical-align: top;\n",
       "    }\n",
       "\n",
       "    .dataframe thead th {\n",
       "        text-align: right;\n",
       "    }\n",
       "</style>\n",
       "<table border=\"1\" class=\"dataframe\">\n",
       "  <thead>\n",
       "    <tr style=\"text-align: right;\">\n",
       "      <th></th>\n",
       "      <th>Sl.No</th>\n",
       "      <th>Date</th>\n",
       "      <th>Title</th>\n",
       "      <th>Social Mention/Comment</th>\n",
       "      <th>Url</th>\n",
       "      <th>Sentiment</th>\n",
       "      <th>Emotion</th>\n",
       "      <th>Language</th>\n",
       "      <th>Region Code</th>\n",
       "      <th>Region</th>\n",
       "      <th>...</th>\n",
       "      <th>Twitter Followers</th>\n",
       "      <th>Twitter Following</th>\n",
       "      <th>Twitter Reply Count</th>\n",
       "      <th>Twitter Reply to</th>\n",
       "      <th>Twitter Retweet of</th>\n",
       "      <th>Twitter Retweets</th>\n",
       "      <th>Twitter Likes</th>\n",
       "      <th>Twitter Tweets</th>\n",
       "      <th>Twitter Verified</th>\n",
       "      <th>Reach (new)</th>\n",
       "    </tr>\n",
       "  </thead>\n",
       "  <tbody>\n",
       "    <tr>\n",
       "      <th>0</th>\n",
       "      <td>1</td>\n",
       "      <td>2021-10-01 20:40:13.000</td>\n",
       "      <td>@R1100GSBlueNose I'm on the Leffe. Yum!</td>\n",
       "      <td>@R1100GSBlueNose I'm on the Leffe. Yum!</td>\n",
       "      <td>http://twitter.com/ChrisScanlan13/statuses/144...</td>\n",
       "      <td>positive</td>\n",
       "      <td>NaN</td>\n",
       "      <td>en</td>\n",
       "      <td>GBR.North West</td>\n",
       "      <td>North West England</td>\n",
       "      <td>...</td>\n",
       "      <td>12</td>\n",
       "      <td>23</td>\n",
       "      <td>0</td>\n",
       "      <td>http://twitter.com/R1100GSBlueNose/statuses/14...</td>\n",
       "      <td>NaN</td>\n",
       "      <td>0</td>\n",
       "      <td>NaN</td>\n",
       "      <td>1197</td>\n",
       "      <td>False</td>\n",
       "      <td>0</td>\n",
       "    </tr>\n",
       "    <tr>\n",
       "      <th>1</th>\n",
       "      <td>2</td>\n",
       "      <td>2021-03-15 21:59:55.000</td>\n",
       "      <td>@vonney88 No difference in taste at all, first...</td>\n",
       "      <td>@vonney88 No difference in taste at all, first...</td>\n",
       "      <td>http://twitter.com/fitzy_ge/statuses/137158195...</td>\n",
       "      <td>neutral</td>\n",
       "      <td>NaN</td>\n",
       "      <td>en</td>\n",
       "      <td>NaN</td>\n",
       "      <td>NaN</td>\n",
       "      <td>...</td>\n",
       "      <td>236</td>\n",
       "      <td>816</td>\n",
       "      <td>1</td>\n",
       "      <td>http://twitter.com/vonney88/statuses/137157941...</td>\n",
       "      <td>NaN</td>\n",
       "      <td>0</td>\n",
       "      <td>NaN</td>\n",
       "      <td>1864</td>\n",
       "      <td>False</td>\n",
       "      <td>73</td>\n",
       "    </tr>\n",
       "    <tr>\n",
       "      <th>2</th>\n",
       "      <td>3</td>\n",
       "      <td>2021-11-20 21:09:54.000</td>\n",
       "      <td>Watching In Brugges and not opening the big bo...</td>\n",
       "      <td>Watching In Brugges and not opening the big bo...</td>\n",
       "      <td>http://twitter.com/chris_wilkin/statuses/14621...</td>\n",
       "      <td>negative</td>\n",
       "      <td>NaN</td>\n",
       "      <td>en</td>\n",
       "      <td>GBR.North East</td>\n",
       "      <td>North East England</td>\n",
       "      <td>...</td>\n",
       "      <td>561</td>\n",
       "      <td>393</td>\n",
       "      <td>2</td>\n",
       "      <td>NaN</td>\n",
       "      <td>NaN</td>\n",
       "      <td>0</td>\n",
       "      <td>NaN</td>\n",
       "      <td>24473</td>\n",
       "      <td>False</td>\n",
       "      <td>2259</td>\n",
       "    </tr>\n",
       "    <tr>\n",
       "      <th>3</th>\n",
       "      <td>4</td>\n",
       "      <td>2022-03-12 18:44:09.000</td>\n",
       "      <td>@jules_wink Fist time I ordered a Leffe, I dra...</td>\n",
       "      <td>@jules_wink Fist time I ordered a Leffe, I dra...</td>\n",
       "      <td>http://twitter.com/BiscuitVanGuy/statuses/1502...</td>\n",
       "      <td>negative</td>\n",
       "      <td>NaN</td>\n",
       "      <td>en</td>\n",
       "      <td>NaN</td>\n",
       "      <td>NaN</td>\n",
       "      <td>...</td>\n",
       "      <td>820</td>\n",
       "      <td>1066</td>\n",
       "      <td>0</td>\n",
       "      <td>http://twitter.com/jules_wink/statuses/1502667...</td>\n",
       "      <td>NaN</td>\n",
       "      <td>0</td>\n",
       "      <td>NaN</td>\n",
       "      <td>3623</td>\n",
       "      <td>False</td>\n",
       "      <td>0</td>\n",
       "    </tr>\n",
       "    <tr>\n",
       "      <th>4</th>\n",
       "      <td>5</td>\n",
       "      <td>2022-01-20 18:11:03.000</td>\n",
       "      <td>This is lovely!! - Drinking a Leffe Blonde / B...</td>\n",
       "      <td>This is lovely!! - Drinking a Leffe Blonde / B...</td>\n",
       "      <td>http://twitter.com/ETumman/statuses/1484226983...</td>\n",
       "      <td>positive</td>\n",
       "      <td>NaN</td>\n",
       "      <td>en</td>\n",
       "      <td>GBR.South East</td>\n",
       "      <td>South East England</td>\n",
       "      <td>...</td>\n",
       "      <td>126</td>\n",
       "      <td>180</td>\n",
       "      <td>0</td>\n",
       "      <td>NaN</td>\n",
       "      <td>NaN</td>\n",
       "      <td>0</td>\n",
       "      <td>NaN</td>\n",
       "      <td>4342</td>\n",
       "      <td>False</td>\n",
       "      <td>0</td>\n",
       "    </tr>\n",
       "  </tbody>\n",
       "</table>\n",
       "<p>5 rows × 47 columns</p>\n",
       "</div>"
      ],
      "text/plain": [
       "   Sl.No                     Date  \\\n",
       "0      1  2021-10-01 20:40:13.000   \n",
       "1      2  2021-03-15 21:59:55.000   \n",
       "2      3  2021-11-20 21:09:54.000   \n",
       "3      4  2022-03-12 18:44:09.000   \n",
       "4      5  2022-01-20 18:11:03.000   \n",
       "\n",
       "                                               Title  \\\n",
       "0            @R1100GSBlueNose I'm on the Leffe. Yum!   \n",
       "1  @vonney88 No difference in taste at all, first...   \n",
       "2  Watching In Brugges and not opening the big bo...   \n",
       "3  @jules_wink Fist time I ordered a Leffe, I dra...   \n",
       "4  This is lovely!! - Drinking a Leffe Blonde / B...   \n",
       "\n",
       "                              Social Mention/Comment  \\\n",
       "0            @R1100GSBlueNose I'm on the Leffe. Yum!   \n",
       "1  @vonney88 No difference in taste at all, first...   \n",
       "2  Watching In Brugges and not opening the big bo...   \n",
       "3  @jules_wink Fist time I ordered a Leffe, I dra...   \n",
       "4  This is lovely!! - Drinking a Leffe Blonde / B...   \n",
       "\n",
       "                                                 Url Sentiment Emotion  \\\n",
       "0  http://twitter.com/ChrisScanlan13/statuses/144...  positive     NaN   \n",
       "1  http://twitter.com/fitzy_ge/statuses/137158195...   neutral     NaN   \n",
       "2  http://twitter.com/chris_wilkin/statuses/14621...  negative     NaN   \n",
       "3  http://twitter.com/BiscuitVanGuy/statuses/1502...  negative     NaN   \n",
       "4  http://twitter.com/ETumman/statuses/1484226983...  positive     NaN   \n",
       "\n",
       "  Language     Region Code              Region  ... Twitter Followers  \\\n",
       "0       en  GBR.North West  North West England  ...                12   \n",
       "1       en             NaN                 NaN  ...               236   \n",
       "2       en  GBR.North East  North East England  ...               561   \n",
       "3       en             NaN                 NaN  ...               820   \n",
       "4       en  GBR.South East  South East England  ...               126   \n",
       "\n",
       "  Twitter Following Twitter Reply Count  \\\n",
       "0                23                   0   \n",
       "1               816                   1   \n",
       "2               393                   2   \n",
       "3              1066                   0   \n",
       "4               180                   0   \n",
       "\n",
       "                                    Twitter Reply to Twitter Retweet of  \\\n",
       "0  http://twitter.com/R1100GSBlueNose/statuses/14...                NaN   \n",
       "1  http://twitter.com/vonney88/statuses/137157941...                NaN   \n",
       "2                                                NaN                NaN   \n",
       "3  http://twitter.com/jules_wink/statuses/1502667...                NaN   \n",
       "4                                                NaN                NaN   \n",
       "\n",
       "  Twitter Retweets Twitter Likes Twitter Tweets Twitter Verified Reach (new)  \n",
       "0                0           NaN           1197            False           0  \n",
       "1                0           NaN           1864            False          73  \n",
       "2                0           NaN          24473            False        2259  \n",
       "3                0           NaN           3623            False           0  \n",
       "4                0           NaN           4342            False           0  \n",
       "\n",
       "[5 rows x 47 columns]"
      ]
     },
     "execution_count": 6,
     "metadata": {},
     "output_type": "execute_result"
    }
   ],
   "source": [
    "columns_to_drop = [col for col in df.columns if df[col].nunique() < 2]\n",
    "\n",
    "# Drop the identified columns\n",
    "df = df.drop(columns=columns_to_drop)\n",
    "df.head()\n",
    "\n",
    "# If you want to modify the DataFrame in-place without creating a new one, you can use the inplace parameter\n",
    "# df.drop(columns=columns_to_drop, inplace=True)\n",
    "\n",
    "#df.drop(columns=['Sl.No','Query Name', 'Title', 'Url', 'Domain', 'Page Type','Language','Country Code', 'Continent Code', 'Continent', 'Country', 'City Code', 'Avatar', 'Checked', 'Display URLs', 'Expanded URLs', ''])"
   ]
  },
  {
   "cell_type": "code",
   "execution_count": 7,
   "metadata": {},
   "outputs": [
    {
     "data": {
      "text/plain": [
       "Index(['Sl.No', 'Date', 'Title', 'Social Mention/Comment', 'Url', 'Sentiment',\n",
       "       'Emotion', 'Language', 'Region Code', 'Region', 'City Code',\n",
       "       'Account Type', 'Author', 'Avatar', 'Category Details', 'City',\n",
       "       'Expanded URLs', 'Full Name', 'Gender', 'Hashtags', 'Impact',\n",
       "       'Impressions', 'Interest', 'Latitude', 'Location Name', 'Longitude',\n",
       "       'Media URLs', 'Mentioned Authors', 'Professions', 'Resource Id',\n",
       "       'Short URLs', 'Tags', 'Thread Author', 'Thread Created Date',\n",
       "       'Thread Entry Type', 'Thread Id', 'Twitter Author ID',\n",
       "       'Twitter Followers', 'Twitter Following', 'Twitter Reply Count',\n",
       "       'Twitter Reply to', 'Twitter Retweet of', 'Twitter Retweets',\n",
       "       'Twitter Likes', 'Twitter Tweets', 'Twitter Verified', 'Reach (new)'],\n",
       "      dtype='object')"
      ]
     },
     "execution_count": 7,
     "metadata": {},
     "output_type": "execute_result"
    }
   ],
   "source": [
    "df.columns"
   ]
  },
  {
   "cell_type": "code",
   "execution_count": 8,
   "metadata": {},
   "outputs": [],
   "source": [
    "df.drop(columns=['Sl.No', 'Title', 'Url','Language', 'Avatar', 'Expanded URLs', 'Latitude', 'Longitude', 'Media URLs', 'Resource Id', 'Short URLs','Twitter Reply to'], inplace=True)"
   ]
  },
  {
   "cell_type": "code",
   "execution_count": 9,
   "metadata": {},
   "outputs": [
    {
     "data": {
      "text/html": [
       "<div>\n",
       "<style scoped>\n",
       "    .dataframe tbody tr th:only-of-type {\n",
       "        vertical-align: middle;\n",
       "    }\n",
       "\n",
       "    .dataframe tbody tr th {\n",
       "        vertical-align: top;\n",
       "    }\n",
       "\n",
       "    .dataframe thead th {\n",
       "        text-align: right;\n",
       "    }\n",
       "</style>\n",
       "<table border=\"1\" class=\"dataframe\">\n",
       "  <thead>\n",
       "    <tr style=\"text-align: right;\">\n",
       "      <th></th>\n",
       "      <th>Date</th>\n",
       "      <th>Social Mention/Comment</th>\n",
       "      <th>Sentiment</th>\n",
       "      <th>Emotion</th>\n",
       "      <th>Region Code</th>\n",
       "      <th>Region</th>\n",
       "      <th>City Code</th>\n",
       "      <th>Account Type</th>\n",
       "      <th>Author</th>\n",
       "      <th>Category Details</th>\n",
       "      <th>...</th>\n",
       "      <th>Twitter Author ID</th>\n",
       "      <th>Twitter Followers</th>\n",
       "      <th>Twitter Following</th>\n",
       "      <th>Twitter Reply Count</th>\n",
       "      <th>Twitter Retweet of</th>\n",
       "      <th>Twitter Retweets</th>\n",
       "      <th>Twitter Likes</th>\n",
       "      <th>Twitter Tweets</th>\n",
       "      <th>Twitter Verified</th>\n",
       "      <th>Reach (new)</th>\n",
       "    </tr>\n",
       "  </thead>\n",
       "  <tbody>\n",
       "    <tr>\n",
       "      <th>0</th>\n",
       "      <td>2021-10-01 20:40:13.000</td>\n",
       "      <td>@R1100GSBlueNose I'm on the Leffe. Yum!</td>\n",
       "      <td>positive</td>\n",
       "      <td>NaN</td>\n",
       "      <td>GBR.North West</td>\n",
       "      <td>North West England</td>\n",
       "      <td>GBR.North West.Liverpool</td>\n",
       "      <td>individual</td>\n",
       "      <td>ChrisScanlan13</td>\n",
       "      <td>{id=20261761, name=Favorite/Preference, parent...</td>\n",
       "      <td>...</td>\n",
       "      <td>1252181417926307840</td>\n",
       "      <td>12</td>\n",
       "      <td>23</td>\n",
       "      <td>0</td>\n",
       "      <td>NaN</td>\n",
       "      <td>0</td>\n",
       "      <td>NaN</td>\n",
       "      <td>1197</td>\n",
       "      <td>False</td>\n",
       "      <td>0</td>\n",
       "    </tr>\n",
       "    <tr>\n",
       "      <th>1</th>\n",
       "      <td>2021-03-15 21:59:55.000</td>\n",
       "      <td>@vonney88 No difference in taste at all, first...</td>\n",
       "      <td>neutral</td>\n",
       "      <td>NaN</td>\n",
       "      <td>NaN</td>\n",
       "      <td>NaN</td>\n",
       "      <td>NaN</td>\n",
       "      <td>individual</td>\n",
       "      <td>fitzy_ge</td>\n",
       "      <td>{id=20261760, name=Consumption and food pairin...</td>\n",
       "      <td>...</td>\n",
       "      <td>1327251761040592900</td>\n",
       "      <td>236</td>\n",
       "      <td>816</td>\n",
       "      <td>1</td>\n",
       "      <td>NaN</td>\n",
       "      <td>0</td>\n",
       "      <td>NaN</td>\n",
       "      <td>1864</td>\n",
       "      <td>False</td>\n",
       "      <td>73</td>\n",
       "    </tr>\n",
       "    <tr>\n",
       "      <th>2</th>\n",
       "      <td>2021-11-20 21:09:54.000</td>\n",
       "      <td>Watching In Brugges and not opening the big bo...</td>\n",
       "      <td>negative</td>\n",
       "      <td>NaN</td>\n",
       "      <td>GBR.North East</td>\n",
       "      <td>North East England</td>\n",
       "      <td>GBR.North East.Newcastle</td>\n",
       "      <td>individual</td>\n",
       "      <td>chris_wilkin</td>\n",
       "      <td>{id=20261760, name=Consumption and food pairin...</td>\n",
       "      <td>...</td>\n",
       "      <td>28124440</td>\n",
       "      <td>561</td>\n",
       "      <td>393</td>\n",
       "      <td>2</td>\n",
       "      <td>NaN</td>\n",
       "      <td>0</td>\n",
       "      <td>NaN</td>\n",
       "      <td>24473</td>\n",
       "      <td>False</td>\n",
       "      <td>2259</td>\n",
       "    </tr>\n",
       "    <tr>\n",
       "      <th>3</th>\n",
       "      <td>2022-03-12 18:44:09.000</td>\n",
       "      <td>@jules_wink Fist time I ordered a Leffe, I dra...</td>\n",
       "      <td>negative</td>\n",
       "      <td>NaN</td>\n",
       "      <td>NaN</td>\n",
       "      <td>NaN</td>\n",
       "      <td>NaN</td>\n",
       "      <td>individual</td>\n",
       "      <td>BiscuitVanGuy</td>\n",
       "      <td>{id=20261764, name=Opinions, parentName=Leffe ...</td>\n",
       "      <td>...</td>\n",
       "      <td>938512271076098051</td>\n",
       "      <td>820</td>\n",
       "      <td>1066</td>\n",
       "      <td>0</td>\n",
       "      <td>NaN</td>\n",
       "      <td>0</td>\n",
       "      <td>NaN</td>\n",
       "      <td>3623</td>\n",
       "      <td>False</td>\n",
       "      <td>0</td>\n",
       "    </tr>\n",
       "    <tr>\n",
       "      <th>4</th>\n",
       "      <td>2022-01-20 18:11:03.000</td>\n",
       "      <td>This is lovely!! - Drinking a Leffe Blonde / B...</td>\n",
       "      <td>positive</td>\n",
       "      <td>NaN</td>\n",
       "      <td>GBR.South East</td>\n",
       "      <td>South East England</td>\n",
       "      <td>GBR.South East.Reading</td>\n",
       "      <td>individual</td>\n",
       "      <td>ETumman</td>\n",
       "      <td>{id=20261760, name=Consumption and food pairin...</td>\n",
       "      <td>...</td>\n",
       "      <td>976320427</td>\n",
       "      <td>126</td>\n",
       "      <td>180</td>\n",
       "      <td>0</td>\n",
       "      <td>NaN</td>\n",
       "      <td>0</td>\n",
       "      <td>NaN</td>\n",
       "      <td>4342</td>\n",
       "      <td>False</td>\n",
       "      <td>0</td>\n",
       "    </tr>\n",
       "  </tbody>\n",
       "</table>\n",
       "<p>5 rows × 35 columns</p>\n",
       "</div>"
      ],
      "text/plain": [
       "                      Date                             Social Mention/Comment  \\\n",
       "0  2021-10-01 20:40:13.000            @R1100GSBlueNose I'm on the Leffe. Yum!   \n",
       "1  2021-03-15 21:59:55.000  @vonney88 No difference in taste at all, first...   \n",
       "2  2021-11-20 21:09:54.000  Watching In Brugges and not opening the big bo...   \n",
       "3  2022-03-12 18:44:09.000  @jules_wink Fist time I ordered a Leffe, I dra...   \n",
       "4  2022-01-20 18:11:03.000  This is lovely!! - Drinking a Leffe Blonde / B...   \n",
       "\n",
       "  Sentiment Emotion     Region Code              Region  \\\n",
       "0  positive     NaN  GBR.North West  North West England   \n",
       "1   neutral     NaN             NaN                 NaN   \n",
       "2  negative     NaN  GBR.North East  North East England   \n",
       "3  negative     NaN             NaN                 NaN   \n",
       "4  positive     NaN  GBR.South East  South East England   \n",
       "\n",
       "                  City Code Account Type          Author  \\\n",
       "0  GBR.North West.Liverpool   individual  ChrisScanlan13   \n",
       "1                       NaN   individual        fitzy_ge   \n",
       "2  GBR.North East.Newcastle   individual    chris_wilkin   \n",
       "3                       NaN   individual   BiscuitVanGuy   \n",
       "4    GBR.South East.Reading   individual         ETumman   \n",
       "\n",
       "                                    Category Details  ...  \\\n",
       "0  {id=20261761, name=Favorite/Preference, parent...  ...   \n",
       "1  {id=20261760, name=Consumption and food pairin...  ...   \n",
       "2  {id=20261760, name=Consumption and food pairin...  ...   \n",
       "3  {id=20261764, name=Opinions, parentName=Leffe ...  ...   \n",
       "4  {id=20261760, name=Consumption and food pairin...  ...   \n",
       "\n",
       "     Twitter Author ID Twitter Followers Twitter Following  \\\n",
       "0  1252181417926307840                12                23   \n",
       "1  1327251761040592900               236               816   \n",
       "2             28124440               561               393   \n",
       "3   938512271076098051               820              1066   \n",
       "4            976320427               126               180   \n",
       "\n",
       "  Twitter Reply Count  Twitter Retweet of  Twitter Retweets Twitter Likes  \\\n",
       "0                   0                 NaN                 0           NaN   \n",
       "1                   1                 NaN                 0           NaN   \n",
       "2                   2                 NaN                 0           NaN   \n",
       "3                   0                 NaN                 0           NaN   \n",
       "4                   0                 NaN                 0           NaN   \n",
       "\n",
       "  Twitter Tweets Twitter Verified Reach (new)  \n",
       "0           1197            False           0  \n",
       "1           1864            False          73  \n",
       "2          24473            False        2259  \n",
       "3           3623            False           0  \n",
       "4           4342            False           0  \n",
       "\n",
       "[5 rows x 35 columns]"
      ]
     },
     "execution_count": 9,
     "metadata": {},
     "output_type": "execute_result"
    }
   ],
   "source": [
    "df.head()"
   ]
  },
  {
   "cell_type": "code",
   "execution_count": 10,
   "metadata": {},
   "outputs": [
    {
     "data": {
      "text/plain": [
       "array(['{id=20261761, name=Favorite/Preference, parentName=Leffe UK - Conversation Themes, parentId=20261759}',\n",
       "       '{id=20261760, name=Consumption and food pairing, parentName=Leffe UK - Conversation Themes, parentId=20261759}',\n",
       "       '{id=20261764, name=Opinions, parentName=Leffe UK - Conversation Themes, parentId=20261759}',\n",
       "       '{id=20261763, name=Dislike to taste/ Complaints, parentName=Leffe UK - Conversation Themes, parentId=20261759}',\n",
       "       '{id=20261766, name=Russia Controversy, parentName=Leffe UK - Conversation Themes, parentId=20261759}',\n",
       "       '{id=20261762, name=Inquiries, parentName=Leffe UK - Conversation Themes, parentId=20261759}',\n",
       "       '{id=20261765, name=Offers/discounts, parentName=Leffe UK - Conversation Themes, parentId=20261759}',\n",
       "       '{id=20261760, name=Consumption and food pairing, parentName=Leffe UK - Conversation Themes, parentId=20261759}, {id=10653946, name=Sheffield United, parentName=EPL Teams, parentId=10653926}'],\n",
       "      dtype=object)"
      ]
     },
     "execution_count": 10,
     "metadata": {},
     "output_type": "execute_result"
    }
   ],
   "source": [
    "df['Category Details'].unique()"
   ]
  },
  {
   "cell_type": "code",
   "execution_count": 11,
   "metadata": {},
   "outputs": [],
   "source": [
    "def getname(x):\n",
    "    ind = x.find('name')\n",
    "    ind2 = x[ind:].find(',')\n",
    "\n",
    "    if ind != -1:\n",
    "        return x[ind+5:ind+ind2]\n",
    "        \n",
    "\n",
    "df['Category Details'] = df['Category Details'].apply(getname)"
   ]
  },
  {
   "cell_type": "code",
   "execution_count": 12,
   "metadata": {},
   "outputs": [
    {
     "data": {
      "text/plain": [
       "array(['Favorite/Preference', 'Consumption and food pairing', 'Opinions',\n",
       "       'Dislike to taste/ Complaints', 'Russia Controversy', 'Inquiries',\n",
       "       'Offers/discounts'], dtype=object)"
      ]
     },
     "execution_count": 12,
     "metadata": {},
     "output_type": "execute_result"
    }
   ],
   "source": [
    "df['Category Details'].unique()"
   ]
  },
  {
   "cell_type": "code",
   "execution_count": 13,
   "metadata": {},
   "outputs": [
    {
     "data": {
      "text/html": [
       "<div>\n",
       "<style scoped>\n",
       "    .dataframe tbody tr th:only-of-type {\n",
       "        vertical-align: middle;\n",
       "    }\n",
       "\n",
       "    .dataframe tbody tr th {\n",
       "        vertical-align: top;\n",
       "    }\n",
       "\n",
       "    .dataframe thead th {\n",
       "        text-align: right;\n",
       "    }\n",
       "</style>\n",
       "<table border=\"1\" class=\"dataframe\">\n",
       "  <thead>\n",
       "    <tr style=\"text-align: right;\">\n",
       "      <th></th>\n",
       "      <th>Date</th>\n",
       "      <th>Social Mention/Comment</th>\n",
       "      <th>Sentiment</th>\n",
       "      <th>Emotion</th>\n",
       "      <th>Region Code</th>\n",
       "      <th>Region</th>\n",
       "      <th>City Code</th>\n",
       "      <th>Account Type</th>\n",
       "      <th>Author</th>\n",
       "      <th>Category Details</th>\n",
       "      <th>...</th>\n",
       "      <th>Twitter Author ID</th>\n",
       "      <th>Twitter Followers</th>\n",
       "      <th>Twitter Following</th>\n",
       "      <th>Twitter Reply Count</th>\n",
       "      <th>Twitter Retweet of</th>\n",
       "      <th>Twitter Retweets</th>\n",
       "      <th>Twitter Likes</th>\n",
       "      <th>Twitter Tweets</th>\n",
       "      <th>Twitter Verified</th>\n",
       "      <th>Reach (new)</th>\n",
       "    </tr>\n",
       "  </thead>\n",
       "  <tbody>\n",
       "    <tr>\n",
       "      <th>0</th>\n",
       "      <td>2021-10-01 20:40:13.000</td>\n",
       "      <td>@R1100GSBlueNose I'm on the Leffe. Yum!</td>\n",
       "      <td>positive</td>\n",
       "      <td>NaN</td>\n",
       "      <td>GBR.North West</td>\n",
       "      <td>North West England</td>\n",
       "      <td>GBR.North West.Liverpool</td>\n",
       "      <td>individual</td>\n",
       "      <td>ChrisScanlan13</td>\n",
       "      <td>Favorite/Preference</td>\n",
       "      <td>...</td>\n",
       "      <td>1252181417926307840</td>\n",
       "      <td>12</td>\n",
       "      <td>23</td>\n",
       "      <td>0</td>\n",
       "      <td>NaN</td>\n",
       "      <td>0</td>\n",
       "      <td>NaN</td>\n",
       "      <td>1197</td>\n",
       "      <td>False</td>\n",
       "      <td>0</td>\n",
       "    </tr>\n",
       "    <tr>\n",
       "      <th>1</th>\n",
       "      <td>2021-03-15 21:59:55.000</td>\n",
       "      <td>@vonney88 No difference in taste at all, first...</td>\n",
       "      <td>neutral</td>\n",
       "      <td>NaN</td>\n",
       "      <td>NaN</td>\n",
       "      <td>NaN</td>\n",
       "      <td>NaN</td>\n",
       "      <td>individual</td>\n",
       "      <td>fitzy_ge</td>\n",
       "      <td>Consumption and food pairing</td>\n",
       "      <td>...</td>\n",
       "      <td>1327251761040592900</td>\n",
       "      <td>236</td>\n",
       "      <td>816</td>\n",
       "      <td>1</td>\n",
       "      <td>NaN</td>\n",
       "      <td>0</td>\n",
       "      <td>NaN</td>\n",
       "      <td>1864</td>\n",
       "      <td>False</td>\n",
       "      <td>73</td>\n",
       "    </tr>\n",
       "    <tr>\n",
       "      <th>2</th>\n",
       "      <td>2021-11-20 21:09:54.000</td>\n",
       "      <td>Watching In Brugges and not opening the big bo...</td>\n",
       "      <td>negative</td>\n",
       "      <td>NaN</td>\n",
       "      <td>GBR.North East</td>\n",
       "      <td>North East England</td>\n",
       "      <td>GBR.North East.Newcastle</td>\n",
       "      <td>individual</td>\n",
       "      <td>chris_wilkin</td>\n",
       "      <td>Consumption and food pairing</td>\n",
       "      <td>...</td>\n",
       "      <td>28124440</td>\n",
       "      <td>561</td>\n",
       "      <td>393</td>\n",
       "      <td>2</td>\n",
       "      <td>NaN</td>\n",
       "      <td>0</td>\n",
       "      <td>NaN</td>\n",
       "      <td>24473</td>\n",
       "      <td>False</td>\n",
       "      <td>2259</td>\n",
       "    </tr>\n",
       "    <tr>\n",
       "      <th>3</th>\n",
       "      <td>2022-03-12 18:44:09.000</td>\n",
       "      <td>@jules_wink Fist time I ordered a Leffe, I dra...</td>\n",
       "      <td>negative</td>\n",
       "      <td>NaN</td>\n",
       "      <td>NaN</td>\n",
       "      <td>NaN</td>\n",
       "      <td>NaN</td>\n",
       "      <td>individual</td>\n",
       "      <td>BiscuitVanGuy</td>\n",
       "      <td>Opinions</td>\n",
       "      <td>...</td>\n",
       "      <td>938512271076098051</td>\n",
       "      <td>820</td>\n",
       "      <td>1066</td>\n",
       "      <td>0</td>\n",
       "      <td>NaN</td>\n",
       "      <td>0</td>\n",
       "      <td>NaN</td>\n",
       "      <td>3623</td>\n",
       "      <td>False</td>\n",
       "      <td>0</td>\n",
       "    </tr>\n",
       "    <tr>\n",
       "      <th>4</th>\n",
       "      <td>2022-01-20 18:11:03.000</td>\n",
       "      <td>This is lovely!! - Drinking a Leffe Blonde / B...</td>\n",
       "      <td>positive</td>\n",
       "      <td>NaN</td>\n",
       "      <td>GBR.South East</td>\n",
       "      <td>South East England</td>\n",
       "      <td>GBR.South East.Reading</td>\n",
       "      <td>individual</td>\n",
       "      <td>ETumman</td>\n",
       "      <td>Consumption and food pairing</td>\n",
       "      <td>...</td>\n",
       "      <td>976320427</td>\n",
       "      <td>126</td>\n",
       "      <td>180</td>\n",
       "      <td>0</td>\n",
       "      <td>NaN</td>\n",
       "      <td>0</td>\n",
       "      <td>NaN</td>\n",
       "      <td>4342</td>\n",
       "      <td>False</td>\n",
       "      <td>0</td>\n",
       "    </tr>\n",
       "  </tbody>\n",
       "</table>\n",
       "<p>5 rows × 35 columns</p>\n",
       "</div>"
      ],
      "text/plain": [
       "                      Date                             Social Mention/Comment  \\\n",
       "0  2021-10-01 20:40:13.000            @R1100GSBlueNose I'm on the Leffe. Yum!   \n",
       "1  2021-03-15 21:59:55.000  @vonney88 No difference in taste at all, first...   \n",
       "2  2021-11-20 21:09:54.000  Watching In Brugges and not opening the big bo...   \n",
       "3  2022-03-12 18:44:09.000  @jules_wink Fist time I ordered a Leffe, I dra...   \n",
       "4  2022-01-20 18:11:03.000  This is lovely!! - Drinking a Leffe Blonde / B...   \n",
       "\n",
       "  Sentiment Emotion     Region Code              Region  \\\n",
       "0  positive     NaN  GBR.North West  North West England   \n",
       "1   neutral     NaN             NaN                 NaN   \n",
       "2  negative     NaN  GBR.North East  North East England   \n",
       "3  negative     NaN             NaN                 NaN   \n",
       "4  positive     NaN  GBR.South East  South East England   \n",
       "\n",
       "                  City Code Account Type          Author  \\\n",
       "0  GBR.North West.Liverpool   individual  ChrisScanlan13   \n",
       "1                       NaN   individual        fitzy_ge   \n",
       "2  GBR.North East.Newcastle   individual    chris_wilkin   \n",
       "3                       NaN   individual   BiscuitVanGuy   \n",
       "4    GBR.South East.Reading   individual         ETumman   \n",
       "\n",
       "               Category Details  ...    Twitter Author ID Twitter Followers  \\\n",
       "0           Favorite/Preference  ...  1252181417926307840                12   \n",
       "1  Consumption and food pairing  ...  1327251761040592900               236   \n",
       "2  Consumption and food pairing  ...             28124440               561   \n",
       "3                      Opinions  ...   938512271076098051               820   \n",
       "4  Consumption and food pairing  ...            976320427               126   \n",
       "\n",
       "  Twitter Following Twitter Reply Count  Twitter Retweet of  Twitter Retweets  \\\n",
       "0                23                   0                 NaN                 0   \n",
       "1               816                   1                 NaN                 0   \n",
       "2               393                   2                 NaN                 0   \n",
       "3              1066                   0                 NaN                 0   \n",
       "4               180                   0                 NaN                 0   \n",
       "\n",
       "  Twitter Likes Twitter Tweets Twitter Verified Reach (new)  \n",
       "0           NaN           1197            False           0  \n",
       "1           NaN           1864            False          73  \n",
       "2           NaN          24473            False        2259  \n",
       "3           NaN           3623            False           0  \n",
       "4           NaN           4342            False           0  \n",
       "\n",
       "[5 rows x 35 columns]"
      ]
     },
     "execution_count": 13,
     "metadata": {},
     "output_type": "execute_result"
    }
   ],
   "source": [
    "df.head()"
   ]
  },
  {
   "cell_type": "code",
   "execution_count": 14,
   "metadata": {},
   "outputs": [
    {
     "name": "stderr",
     "output_type": "stream",
     "text": [
      "C:\\Users\\Sahas Vivek\\AppData\\Roaming\\Python\\Python39\\site-packages\\tqdm\\auto.py:21: TqdmWarning: IProgress not found. Please update jupyter and ipywidgets. See https://ipywidgets.readthedocs.io/en/stable/user_install.html\n",
      "  from .autonotebook import tqdm as notebook_tqdm\n",
      "C:\\Users\\Sahas Vivek\\AppData\\Roaming\\Python\\Python39\\site-packages\\scipy\\__init__.py:146: UserWarning: A NumPy version >=1.17.3 and <1.25.0 is required for this version of SciPy (detected version 1.26.3\n",
      "  warnings.warn(f\"A NumPy version >={np_minversion} and <{np_maxversion}\"\n"
     ]
    },
    {
     "name": "stdout",
     "output_type": "stream",
     "text": [
      "WARNING:tensorflow:From c:\\Program Files\\Python39\\lib\\site-packages\\keras\\src\\losses.py:2976: The name tf.losses.sparse_softmax_cross_entropy is deprecated. Please use tf.compat.v1.losses.sparse_softmax_cross_entropy instead.\n",
      "\n"
     ]
    }
   ],
   "source": [
    "import nlp"
   ]
  },
  {
   "cell_type": "code",
   "execution_count": 15,
   "metadata": {},
   "outputs": [
    {
     "name": "stderr",
     "output_type": "stream",
     "text": [
      "c:\\Program Files\\Python39\\lib\\site-packages\\datasets\\load.py:1429: FutureWarning: The repository for emotion contains custom code which must be executed to correctly load the dataset. You can inspect the repository content at https://hf.co/datasets/emotion\n",
      "You can avoid this message in future by passing the argument `trust_remote_code=True`.\n",
      "Passing `trust_remote_code=True` will be mandatory to load this dataset from the next major release of `datasets`.\n",
      "  warnings.warn(\n"
     ]
    }
   ],
   "source": [
    "from datasets import load_dataset\n",
    "dataset = load_dataset(\"emotion\")"
   ]
  },
  {
   "cell_type": "code",
   "execution_count": 16,
   "metadata": {},
   "outputs": [
    {
     "data": {
      "text/plain": [
       "DatasetDict({\n",
       "    train: Dataset({\n",
       "        features: ['text', 'label'],\n",
       "        num_rows: 16000\n",
       "    })\n",
       "    validation: Dataset({\n",
       "        features: ['text', 'label'],\n",
       "        num_rows: 2000\n",
       "    })\n",
       "    test: Dataset({\n",
       "        features: ['text', 'label'],\n",
       "        num_rows: 2000\n",
       "    })\n",
       "})"
      ]
     },
     "execution_count": 16,
     "metadata": {},
     "output_type": "execute_result"
    }
   ],
   "source": [
    "dataset"
   ]
  },
  {
   "cell_type": "code",
   "execution_count": 17,
   "metadata": {},
   "outputs": [
    {
     "name": "stdout",
     "output_type": "stream",
     "text": [
      "Dataset({\n",
      "    features: ['text', 'label'],\n",
      "    num_rows: 16000\n",
      "})\n",
      "[[2, 39, 3, 8, 512, 20, 7, 472, 419, 4, 8, 2, 40, 887, 5, 19, 69, 832, 9, 1801, 2793]]\n",
      "WARNING:tensorflow:From c:\\Program Files\\Python39\\lib\\site-packages\\keras\\src\\backend.py:873: The name tf.get_default_graph is deprecated. Please use tf.compat.v1.get_default_graph instead.\n",
      "\n",
      "WARNING:tensorflow:From c:\\Program Files\\Python39\\lib\\site-packages\\keras\\src\\optimizers\\__init__.py:309: The name tf.train.Optimizer is deprecated. Please use tf.compat.v1.train.Optimizer instead.\n",
      "\n",
      "Dataset({\n",
      "    features: ['text', 'label'],\n",
      "    num_rows: 2000\n",
      "})\n",
      "i feel try to tell me im ungrateful tell me im basically the worst daughter sister in the world 0\n",
      "Epoch 1/15\n",
      "WARNING:tensorflow:From c:\\Program Files\\Python39\\lib\\site-packages\\keras\\src\\utils\\tf_utils.py:492: The name tf.ragged.RaggedTensorValue is deprecated. Please use tf.compat.v1.ragged.RaggedTensorValue instead.\n",
      "\n",
      "WARNING:tensorflow:From c:\\Program Files\\Python39\\lib\\site-packages\\keras\\src\\engine\\base_layer_utils.py:384: The name tf.executing_eagerly_outside_functions is deprecated. Please use tf.compat.v1.executing_eagerly_outside_functions instead.\n",
      "\n",
      "440/440 [==============================] - 20s 31ms/step - loss: 1.2557 - accuracy: 0.4818 - val_loss: 0.8414 - val_accuracy: 0.6655\n",
      "Epoch 2/15\n",
      "440/440 [==============================] - 13s 30ms/step - loss: 0.6534 - accuracy: 0.7419 - val_loss: 0.5702 - val_accuracy: 0.7931\n",
      "Epoch 3/15\n",
      "440/440 [==============================] - 11s 26ms/step - loss: 0.3800 - accuracy: 0.8697 - val_loss: 0.4634 - val_accuracy: 0.8456\n",
      "Epoch 4/15\n",
      "440/440 [==============================] - 13s 29ms/step - loss: 0.2291 - accuracy: 0.9315 - val_loss: 0.4020 - val_accuracy: 0.8826\n",
      "Epoch 5/15\n",
      "440/440 [==============================] - 12s 28ms/step - loss: 0.1362 - accuracy: 0.9603 - val_loss: 0.3760 - val_accuracy: 0.8904\n",
      "Epoch 6/15\n",
      "440/440 [==============================] - 13s 30ms/step - loss: 0.0994 - accuracy: 0.9714 - val_loss: 0.3718 - val_accuracy: 0.9027\n",
      "Epoch 7/15\n",
      "440/440 [==============================] - 12s 27ms/step - loss: 0.0800 - accuracy: 0.9766 - val_loss: 0.3524 - val_accuracy: 0.9060\n",
      "Epoch 8/15\n",
      "440/440 [==============================] - 12s 27ms/step - loss: 0.0643 - accuracy: 0.9824 - val_loss: 0.3329 - val_accuracy: 0.9083\n",
      "Epoch 9/15\n",
      "440/440 [==============================] - 14s 32ms/step - loss: 0.0514 - accuracy: 0.9862 - val_loss: 0.3435 - val_accuracy: 0.9155\n",
      "Epoch 10/15\n",
      "440/440 [==============================] - 13s 31ms/step - loss: 0.0545 - accuracy: 0.9860 - val_loss: 0.3275 - val_accuracy: 0.9144\n",
      "Epoch 11/15\n",
      "440/440 [==============================] - 13s 29ms/step - loss: 0.0449 - accuracy: 0.9883 - val_loss: 0.3352 - val_accuracy: 0.9155\n"
     ]
    }
   ],
   "source": [
    "train = dataset['train']\n",
    "val = dataset['validation']\n",
    "test = dataset['test']\n",
    "\n",
    "def get_tweets(data):\n",
    "    print(data)\n",
    "    data = data.filter(lambda example: example['label'] != 4)\n",
    "    tweets = [x['text'] for x in data]\n",
    "    labels = [x['label'] for x in data]\n",
    "    return tweets, labels\n",
    "\n",
    "\n",
    "tweets, labels = get_tweets(train)\n",
    "\n",
    "from tensorflow.keras.preprocessing.text import Tokenizer\n",
    "import tensorflow as tf\n",
    "import numpy as np \n",
    "\n",
    "\n",
    "tokenizer = Tokenizer(num_words=10000, oov_token='<UNK>')\n",
    "tokenizer.fit_on_texts(tweets)\n",
    "print(tokenizer.texts_to_sequences([tweets[10]]))\n",
    "lengths = [len(t.split(' ')) for t in tweets]\n",
    "\n",
    "from tensorflow.keras.preprocessing.sequence import pad_sequences\n",
    "def get_sequences(tokenizer, tweets):\n",
    "    sequences = tokenizer.texts_to_sequences(tweets)\n",
    "    padded_sequences = pad_sequences(sequences, truncating='post', maxlen=50, padding='post')\n",
    "    return padded_sequences\n",
    "\n",
    "padded_train_sequences = get_sequences(tokenizer, tweets)\n",
    "classes = set(labels)\n",
    "index_to_classes = {0: 'Surprise', 1: 'Joy', 2: 'Love', 3: 'Anger', 4: 'fear', 5: 'Sadness'}\n",
    "names_to_ids = lambda labels: np.array([x for x in labels])\n",
    "train_labels = names_to_ids(labels)\n",
    "model = tf.keras.models.Sequential([\n",
    "    tf.keras.layers.Embedding(10000, 16, input_length=50),\n",
    "    tf.keras.layers.Bidirectional(tf.keras.layers.LSTM(20, return_sequences=True)),\n",
    "    tf.keras.layers.Bidirectional(tf.keras.layers.LSTM(20)),\n",
    "    tf.keras.layers.Dense(6, activation='softmax')\n",
    "])\n",
    "\n",
    "model.compile(\n",
    "    loss='sparse_categorical_crossentropy',\n",
    "    optimizer='adam',\n",
    "    metrics=['accuracy']\n",
    ")\n",
    "\n",
    "\n",
    "\n",
    "val_tweets, val_labels = get_tweets(val)\n",
    "val_sequences = get_sequences(tokenizer, val_tweets)\n",
    "val_labels = names_to_ids(val_labels)\n",
    "\n",
    "print(val_tweets[20], val_labels[20])\n",
    "\n",
    "padded_train_sequences = padded_train_sequences.tolist()\n",
    "train_labels = train_labels.tolist()\n",
    "h = model.fit(\n",
    "    padded_train_sequences, train_labels,\n",
    "    validation_data=(val_sequences, val_labels),\n",
    "    epochs=15,\n",
    "    callbacks=[\n",
    "        tf.keras.callbacks.EarlyStopping(monitor='val_accuracy', patience=2)\n",
    "    ]\n",
    ")\n",
    "\n",
    "\n"
   ]
  },
  {
   "cell_type": "code",
   "execution_count": 18,
   "metadata": {},
   "outputs": [],
   "source": [
    "# import random\n",
    "# def predict_emotions(text):\n",
    "#     sequences = get_sequences(tokenizer, text)\n",
    "#     pred = model.predict(sequences)[0]\n",
    "\n",
    "#    # i = random.randint(0,len(test_labels)-1)\n",
    "#     #return index_to_classes[np.argmax(model.predict(np.expand_dims(sequences[1], axis=0))[0])]\n",
    "#     return model.predict(np.expand_dims(sequences[1], axis=0))[0]\n",
    "\n",
    "# #print(predict_emotions(\"i woke up and felt sad all over again but that was quickly replaced with a feeling that reassured me things will work themselves out on their own times\"))\n",
    "\n",
    "# print(index_to_classes[np.argmax(predict_emotions(\"i am feeling overwhelmed by trying to do it all that i think on the women before me\"))])\n",
    "\n"
   ]
  },
  {
   "cell_type": "code",
   "execution_count": 19,
   "metadata": {},
   "outputs": [],
   "source": [
    "def predict_emotion(model, tokenizer, text_list, max_length=50):\n",
    "    # Tokenize and pad the input text\n",
    "    sequences = tokenizer.texts_to_sequences(text_list)\n",
    "    padded_sequences = pad_sequences(sequences, truncating='post', maxlen=max_length, padding='post')\n",
    "\n",
    "    # Make predictions using the model\n",
    "    predictions = model.predict(padded_sequences)\n",
    "\n",
    "    # Get the predicted class indices for each example\n",
    "    predicted_classes = np.argmax(predictions, axis=1)\n",
    "\n",
    "    # Map indices to emotion labels\n",
    "    predicted_emotions = [index_to_classes[idx] for idx in predicted_classes]\n",
    "\n",
    "    return predicted_emotions[0]\n",
    "\n",
    "# # Example usage:\n",
    "\n",
    "# df['Emotion'] = predict_emotion(model, tokenizer, df['Social Mention/Comment'])\n",
    "\n"
   ]
  },
  {
   "cell_type": "code",
   "execution_count": 20,
   "metadata": {},
   "outputs": [
    {
     "data": {
      "text/html": [
       "<div>\n",
       "<style scoped>\n",
       "    .dataframe tbody tr th:only-of-type {\n",
       "        vertical-align: middle;\n",
       "    }\n",
       "\n",
       "    .dataframe tbody tr th {\n",
       "        vertical-align: top;\n",
       "    }\n",
       "\n",
       "    .dataframe thead th {\n",
       "        text-align: right;\n",
       "    }\n",
       "</style>\n",
       "<table border=\"1\" class=\"dataframe\">\n",
       "  <thead>\n",
       "    <tr style=\"text-align: right;\">\n",
       "      <th></th>\n",
       "      <th>Date</th>\n",
       "      <th>Social Mention/Comment</th>\n",
       "      <th>Sentiment</th>\n",
       "      <th>Emotion</th>\n",
       "      <th>Region Code</th>\n",
       "      <th>Region</th>\n",
       "      <th>City Code</th>\n",
       "      <th>Account Type</th>\n",
       "      <th>Author</th>\n",
       "      <th>Category Details</th>\n",
       "      <th>...</th>\n",
       "      <th>Twitter Author ID</th>\n",
       "      <th>Twitter Followers</th>\n",
       "      <th>Twitter Following</th>\n",
       "      <th>Twitter Reply Count</th>\n",
       "      <th>Twitter Retweet of</th>\n",
       "      <th>Twitter Retweets</th>\n",
       "      <th>Twitter Likes</th>\n",
       "      <th>Twitter Tweets</th>\n",
       "      <th>Twitter Verified</th>\n",
       "      <th>Reach (new)</th>\n",
       "    </tr>\n",
       "  </thead>\n",
       "  <tbody>\n",
       "    <tr>\n",
       "      <th>0</th>\n",
       "      <td>2021-10-01 20:40:13.000</td>\n",
       "      <td>@R1100GSBlueNose I'm on the Leffe. Yum!</td>\n",
       "      <td>positive</td>\n",
       "      <td>NaN</td>\n",
       "      <td>GBR.North West</td>\n",
       "      <td>North West England</td>\n",
       "      <td>GBR.North West.Liverpool</td>\n",
       "      <td>individual</td>\n",
       "      <td>ChrisScanlan13</td>\n",
       "      <td>Favorite/Preference</td>\n",
       "      <td>...</td>\n",
       "      <td>1252181417926307840</td>\n",
       "      <td>12</td>\n",
       "      <td>23</td>\n",
       "      <td>0</td>\n",
       "      <td>NaN</td>\n",
       "      <td>0</td>\n",
       "      <td>NaN</td>\n",
       "      <td>1197</td>\n",
       "      <td>False</td>\n",
       "      <td>0</td>\n",
       "    </tr>\n",
       "    <tr>\n",
       "      <th>1</th>\n",
       "      <td>2021-03-15 21:59:55.000</td>\n",
       "      <td>@vonney88 No difference in taste at all, first...</td>\n",
       "      <td>neutral</td>\n",
       "      <td>NaN</td>\n",
       "      <td>NaN</td>\n",
       "      <td>NaN</td>\n",
       "      <td>NaN</td>\n",
       "      <td>individual</td>\n",
       "      <td>fitzy_ge</td>\n",
       "      <td>Consumption and food pairing</td>\n",
       "      <td>...</td>\n",
       "      <td>1327251761040592900</td>\n",
       "      <td>236</td>\n",
       "      <td>816</td>\n",
       "      <td>1</td>\n",
       "      <td>NaN</td>\n",
       "      <td>0</td>\n",
       "      <td>NaN</td>\n",
       "      <td>1864</td>\n",
       "      <td>False</td>\n",
       "      <td>73</td>\n",
       "    </tr>\n",
       "    <tr>\n",
       "      <th>2</th>\n",
       "      <td>2021-11-20 21:09:54.000</td>\n",
       "      <td>Watching In Brugges and not opening the big bo...</td>\n",
       "      <td>negative</td>\n",
       "      <td>NaN</td>\n",
       "      <td>GBR.North East</td>\n",
       "      <td>North East England</td>\n",
       "      <td>GBR.North East.Newcastle</td>\n",
       "      <td>individual</td>\n",
       "      <td>chris_wilkin</td>\n",
       "      <td>Consumption and food pairing</td>\n",
       "      <td>...</td>\n",
       "      <td>28124440</td>\n",
       "      <td>561</td>\n",
       "      <td>393</td>\n",
       "      <td>2</td>\n",
       "      <td>NaN</td>\n",
       "      <td>0</td>\n",
       "      <td>NaN</td>\n",
       "      <td>24473</td>\n",
       "      <td>False</td>\n",
       "      <td>2259</td>\n",
       "    </tr>\n",
       "    <tr>\n",
       "      <th>3</th>\n",
       "      <td>2022-03-12 18:44:09.000</td>\n",
       "      <td>@jules_wink Fist time I ordered a Leffe, I dra...</td>\n",
       "      <td>negative</td>\n",
       "      <td>NaN</td>\n",
       "      <td>NaN</td>\n",
       "      <td>NaN</td>\n",
       "      <td>NaN</td>\n",
       "      <td>individual</td>\n",
       "      <td>BiscuitVanGuy</td>\n",
       "      <td>Opinions</td>\n",
       "      <td>...</td>\n",
       "      <td>938512271076098051</td>\n",
       "      <td>820</td>\n",
       "      <td>1066</td>\n",
       "      <td>0</td>\n",
       "      <td>NaN</td>\n",
       "      <td>0</td>\n",
       "      <td>NaN</td>\n",
       "      <td>3623</td>\n",
       "      <td>False</td>\n",
       "      <td>0</td>\n",
       "    </tr>\n",
       "    <tr>\n",
       "      <th>4</th>\n",
       "      <td>2022-01-20 18:11:03.000</td>\n",
       "      <td>This is lovely!! - Drinking a Leffe Blonde / B...</td>\n",
       "      <td>positive</td>\n",
       "      <td>NaN</td>\n",
       "      <td>GBR.South East</td>\n",
       "      <td>South East England</td>\n",
       "      <td>GBR.South East.Reading</td>\n",
       "      <td>individual</td>\n",
       "      <td>ETumman</td>\n",
       "      <td>Consumption and food pairing</td>\n",
       "      <td>...</td>\n",
       "      <td>976320427</td>\n",
       "      <td>126</td>\n",
       "      <td>180</td>\n",
       "      <td>0</td>\n",
       "      <td>NaN</td>\n",
       "      <td>0</td>\n",
       "      <td>NaN</td>\n",
       "      <td>4342</td>\n",
       "      <td>False</td>\n",
       "      <td>0</td>\n",
       "    </tr>\n",
       "  </tbody>\n",
       "</table>\n",
       "<p>5 rows × 35 columns</p>\n",
       "</div>"
      ],
      "text/plain": [
       "                      Date                             Social Mention/Comment  \\\n",
       "0  2021-10-01 20:40:13.000            @R1100GSBlueNose I'm on the Leffe. Yum!   \n",
       "1  2021-03-15 21:59:55.000  @vonney88 No difference in taste at all, first...   \n",
       "2  2021-11-20 21:09:54.000  Watching In Brugges and not opening the big bo...   \n",
       "3  2022-03-12 18:44:09.000  @jules_wink Fist time I ordered a Leffe, I dra...   \n",
       "4  2022-01-20 18:11:03.000  This is lovely!! - Drinking a Leffe Blonde / B...   \n",
       "\n",
       "  Sentiment Emotion     Region Code              Region  \\\n",
       "0  positive     NaN  GBR.North West  North West England   \n",
       "1   neutral     NaN             NaN                 NaN   \n",
       "2  negative     NaN  GBR.North East  North East England   \n",
       "3  negative     NaN             NaN                 NaN   \n",
       "4  positive     NaN  GBR.South East  South East England   \n",
       "\n",
       "                  City Code Account Type          Author  \\\n",
       "0  GBR.North West.Liverpool   individual  ChrisScanlan13   \n",
       "1                       NaN   individual        fitzy_ge   \n",
       "2  GBR.North East.Newcastle   individual    chris_wilkin   \n",
       "3                       NaN   individual   BiscuitVanGuy   \n",
       "4    GBR.South East.Reading   individual         ETumman   \n",
       "\n",
       "               Category Details  ...    Twitter Author ID Twitter Followers  \\\n",
       "0           Favorite/Preference  ...  1252181417926307840                12   \n",
       "1  Consumption and food pairing  ...  1327251761040592900               236   \n",
       "2  Consumption and food pairing  ...             28124440               561   \n",
       "3                      Opinions  ...   938512271076098051               820   \n",
       "4  Consumption and food pairing  ...            976320427               126   \n",
       "\n",
       "  Twitter Following Twitter Reply Count  Twitter Retweet of  Twitter Retweets  \\\n",
       "0                23                   0                 NaN                 0   \n",
       "1               816                   1                 NaN                 0   \n",
       "2               393                   2                 NaN                 0   \n",
       "3              1066                   0                 NaN                 0   \n",
       "4               180                   0                 NaN                 0   \n",
       "\n",
       "  Twitter Likes Twitter Tweets Twitter Verified Reach (new)  \n",
       "0           NaN           1197            False           0  \n",
       "1           NaN           1864            False          73  \n",
       "2           NaN          24473            False        2259  \n",
       "3           NaN           3623            False           0  \n",
       "4           NaN           4342            False           0  \n",
       "\n",
       "[5 rows x 35 columns]"
      ]
     },
     "execution_count": 20,
     "metadata": {},
     "output_type": "execute_result"
    }
   ],
   "source": [
    "df.head()"
   ]
  },
  {
   "cell_type": "code",
   "execution_count": null,
   "metadata": {},
   "outputs": [],
   "source": []
  },
  {
   "cell_type": "code",
   "execution_count": null,
   "metadata": {},
   "outputs": [],
   "source": []
  },
  {
   "cell_type": "code",
   "execution_count": null,
   "metadata": {},
   "outputs": [],
   "source": []
  },
  {
   "cell_type": "code",
   "execution_count": 21,
   "metadata": {},
   "outputs": [
    {
     "data": {
      "text/plain": [
       "Emotion\n",
       "Joy        18\n",
       "Anger       4\n",
       "Sadness     4\n",
       "Fear        2\n",
       "Disgust     1\n",
       "Name: count, dtype: int64"
      ]
     },
     "execution_count": 21,
     "metadata": {},
     "output_type": "execute_result"
    }
   ],
   "source": [
    "df['Emotion'].value_counts()"
   ]
  },
  {
   "cell_type": "code",
   "execution_count": 22,
   "metadata": {},
   "outputs": [
    {
     "name": "stdout",
     "output_type": "stream",
     "text": [
      "1/1 [==============================] - 1s 1s/step\n"
     ]
    },
    {
     "name": "stderr",
     "output_type": "stream",
     "text": [
      "C:\\Users\\Sahas Vivek\\AppData\\Local\\Temp\\ipykernel_35320\\742398494.py:28: SettingWithCopyWarning: \n",
      "A value is trying to be set on a copy of a slice from a DataFrame\n",
      "\n",
      "See the caveats in the documentation: https://pandas.pydata.org/pandas-docs/stable/user_guide/indexing.html#returning-a-view-versus-a-copy\n",
      "  df['Emotion'][i] = predict_emotion(model, tokenizer, [preprocess_text(df['Social Mention/Comment'][i])])\n"
     ]
    },
    {
     "name": "stdout",
     "output_type": "stream",
     "text": [
      "1/1 [==============================] - 0s 29ms/step\n"
     ]
    },
    {
     "name": "stderr",
     "output_type": "stream",
     "text": [
      "C:\\Users\\Sahas Vivek\\AppData\\Local\\Temp\\ipykernel_35320\\742398494.py:28: SettingWithCopyWarning: \n",
      "A value is trying to be set on a copy of a slice from a DataFrame\n",
      "\n",
      "See the caveats in the documentation: https://pandas.pydata.org/pandas-docs/stable/user_guide/indexing.html#returning-a-view-versus-a-copy\n",
      "  df['Emotion'][i] = predict_emotion(model, tokenizer, [preprocess_text(df['Social Mention/Comment'][i])])\n"
     ]
    },
    {
     "name": "stdout",
     "output_type": "stream",
     "text": [
      "1/1 [==============================] - 0s 27ms/step\n"
     ]
    },
    {
     "name": "stderr",
     "output_type": "stream",
     "text": [
      "C:\\Users\\Sahas Vivek\\AppData\\Local\\Temp\\ipykernel_35320\\742398494.py:28: SettingWithCopyWarning: \n",
      "A value is trying to be set on a copy of a slice from a DataFrame\n",
      "\n",
      "See the caveats in the documentation: https://pandas.pydata.org/pandas-docs/stable/user_guide/indexing.html#returning-a-view-versus-a-copy\n",
      "  df['Emotion'][i] = predict_emotion(model, tokenizer, [preprocess_text(df['Social Mention/Comment'][i])])\n"
     ]
    },
    {
     "name": "stdout",
     "output_type": "stream",
     "text": [
      "1/1 [==============================] - 0s 34ms/step\n"
     ]
    },
    {
     "name": "stderr",
     "output_type": "stream",
     "text": [
      "C:\\Users\\Sahas Vivek\\AppData\\Local\\Temp\\ipykernel_35320\\742398494.py:28: SettingWithCopyWarning: \n",
      "A value is trying to be set on a copy of a slice from a DataFrame\n",
      "\n",
      "See the caveats in the documentation: https://pandas.pydata.org/pandas-docs/stable/user_guide/indexing.html#returning-a-view-versus-a-copy\n",
      "  df['Emotion'][i] = predict_emotion(model, tokenizer, [preprocess_text(df['Social Mention/Comment'][i])])\n"
     ]
    },
    {
     "name": "stdout",
     "output_type": "stream",
     "text": [
      "1/1 [==============================] - 0s 29ms/step\n"
     ]
    },
    {
     "name": "stderr",
     "output_type": "stream",
     "text": [
      "C:\\Users\\Sahas Vivek\\AppData\\Local\\Temp\\ipykernel_35320\\742398494.py:28: SettingWithCopyWarning: \n",
      "A value is trying to be set on a copy of a slice from a DataFrame\n",
      "\n",
      "See the caveats in the documentation: https://pandas.pydata.org/pandas-docs/stable/user_guide/indexing.html#returning-a-view-versus-a-copy\n",
      "  df['Emotion'][i] = predict_emotion(model, tokenizer, [preprocess_text(df['Social Mention/Comment'][i])])\n"
     ]
    },
    {
     "name": "stdout",
     "output_type": "stream",
     "text": [
      "1/1 [==============================] - 0s 27ms/step\n"
     ]
    },
    {
     "name": "stderr",
     "output_type": "stream",
     "text": [
      "C:\\Users\\Sahas Vivek\\AppData\\Local\\Temp\\ipykernel_35320\\742398494.py:28: SettingWithCopyWarning: \n",
      "A value is trying to be set on a copy of a slice from a DataFrame\n",
      "\n",
      "See the caveats in the documentation: https://pandas.pydata.org/pandas-docs/stable/user_guide/indexing.html#returning-a-view-versus-a-copy\n",
      "  df['Emotion'][i] = predict_emotion(model, tokenizer, [preprocess_text(df['Social Mention/Comment'][i])])\n"
     ]
    },
    {
     "name": "stdout",
     "output_type": "stream",
     "text": [
      "1/1 [==============================] - 0s 24ms/step\n"
     ]
    },
    {
     "name": "stderr",
     "output_type": "stream",
     "text": [
      "C:\\Users\\Sahas Vivek\\AppData\\Local\\Temp\\ipykernel_35320\\742398494.py:28: SettingWithCopyWarning: \n",
      "A value is trying to be set on a copy of a slice from a DataFrame\n",
      "\n",
      "See the caveats in the documentation: https://pandas.pydata.org/pandas-docs/stable/user_guide/indexing.html#returning-a-view-versus-a-copy\n",
      "  df['Emotion'][i] = predict_emotion(model, tokenizer, [preprocess_text(df['Social Mention/Comment'][i])])\n"
     ]
    },
    {
     "name": "stdout",
     "output_type": "stream",
     "text": [
      "1/1 [==============================] - 0s 35ms/step\n"
     ]
    },
    {
     "name": "stderr",
     "output_type": "stream",
     "text": [
      "C:\\Users\\Sahas Vivek\\AppData\\Local\\Temp\\ipykernel_35320\\742398494.py:28: SettingWithCopyWarning: \n",
      "A value is trying to be set on a copy of a slice from a DataFrame\n",
      "\n",
      "See the caveats in the documentation: https://pandas.pydata.org/pandas-docs/stable/user_guide/indexing.html#returning-a-view-versus-a-copy\n",
      "  df['Emotion'][i] = predict_emotion(model, tokenizer, [preprocess_text(df['Social Mention/Comment'][i])])\n"
     ]
    },
    {
     "name": "stdout",
     "output_type": "stream",
     "text": [
      "1/1 [==============================] - 0s 24ms/step\n"
     ]
    },
    {
     "name": "stderr",
     "output_type": "stream",
     "text": [
      "C:\\Users\\Sahas Vivek\\AppData\\Local\\Temp\\ipykernel_35320\\742398494.py:28: SettingWithCopyWarning: \n",
      "A value is trying to be set on a copy of a slice from a DataFrame\n",
      "\n",
      "See the caveats in the documentation: https://pandas.pydata.org/pandas-docs/stable/user_guide/indexing.html#returning-a-view-versus-a-copy\n",
      "  df['Emotion'][i] = predict_emotion(model, tokenizer, [preprocess_text(df['Social Mention/Comment'][i])])\n"
     ]
    },
    {
     "name": "stdout",
     "output_type": "stream",
     "text": [
      "1/1 [==============================] - 0s 26ms/step\n"
     ]
    },
    {
     "name": "stderr",
     "output_type": "stream",
     "text": [
      "C:\\Users\\Sahas Vivek\\AppData\\Local\\Temp\\ipykernel_35320\\742398494.py:28: SettingWithCopyWarning: \n",
      "A value is trying to be set on a copy of a slice from a DataFrame\n",
      "\n",
      "See the caveats in the documentation: https://pandas.pydata.org/pandas-docs/stable/user_guide/indexing.html#returning-a-view-versus-a-copy\n",
      "  df['Emotion'][i] = predict_emotion(model, tokenizer, [preprocess_text(df['Social Mention/Comment'][i])])\n"
     ]
    },
    {
     "name": "stdout",
     "output_type": "stream",
     "text": [
      "1/1 [==============================] - 0s 24ms/step\n"
     ]
    },
    {
     "name": "stderr",
     "output_type": "stream",
     "text": [
      "C:\\Users\\Sahas Vivek\\AppData\\Local\\Temp\\ipykernel_35320\\742398494.py:28: SettingWithCopyWarning: \n",
      "A value is trying to be set on a copy of a slice from a DataFrame\n",
      "\n",
      "See the caveats in the documentation: https://pandas.pydata.org/pandas-docs/stable/user_guide/indexing.html#returning-a-view-versus-a-copy\n",
      "  df['Emotion'][i] = predict_emotion(model, tokenizer, [preprocess_text(df['Social Mention/Comment'][i])])\n"
     ]
    },
    {
     "name": "stdout",
     "output_type": "stream",
     "text": [
      "1/1 [==============================] - 0s 24ms/step\n"
     ]
    },
    {
     "name": "stderr",
     "output_type": "stream",
     "text": [
      "C:\\Users\\Sahas Vivek\\AppData\\Local\\Temp\\ipykernel_35320\\742398494.py:28: SettingWithCopyWarning: \n",
      "A value is trying to be set on a copy of a slice from a DataFrame\n",
      "\n",
      "See the caveats in the documentation: https://pandas.pydata.org/pandas-docs/stable/user_guide/indexing.html#returning-a-view-versus-a-copy\n",
      "  df['Emotion'][i] = predict_emotion(model, tokenizer, [preprocess_text(df['Social Mention/Comment'][i])])\n"
     ]
    },
    {
     "name": "stdout",
     "output_type": "stream",
     "text": [
      "1/1 [==============================] - 0s 24ms/step\n"
     ]
    },
    {
     "name": "stderr",
     "output_type": "stream",
     "text": [
      "C:\\Users\\Sahas Vivek\\AppData\\Local\\Temp\\ipykernel_35320\\742398494.py:28: SettingWithCopyWarning: \n",
      "A value is trying to be set on a copy of a slice from a DataFrame\n",
      "\n",
      "See the caveats in the documentation: https://pandas.pydata.org/pandas-docs/stable/user_guide/indexing.html#returning-a-view-versus-a-copy\n",
      "  df['Emotion'][i] = predict_emotion(model, tokenizer, [preprocess_text(df['Social Mention/Comment'][i])])\n"
     ]
    },
    {
     "name": "stdout",
     "output_type": "stream",
     "text": [
      "1/1 [==============================] - 0s 25ms/step\n"
     ]
    },
    {
     "name": "stderr",
     "output_type": "stream",
     "text": [
      "C:\\Users\\Sahas Vivek\\AppData\\Local\\Temp\\ipykernel_35320\\742398494.py:28: SettingWithCopyWarning: \n",
      "A value is trying to be set on a copy of a slice from a DataFrame\n",
      "\n",
      "See the caveats in the documentation: https://pandas.pydata.org/pandas-docs/stable/user_guide/indexing.html#returning-a-view-versus-a-copy\n",
      "  df['Emotion'][i] = predict_emotion(model, tokenizer, [preprocess_text(df['Social Mention/Comment'][i])])\n"
     ]
    },
    {
     "name": "stdout",
     "output_type": "stream",
     "text": [
      "1/1 [==============================] - 0s 23ms/step\n"
     ]
    },
    {
     "name": "stderr",
     "output_type": "stream",
     "text": [
      "C:\\Users\\Sahas Vivek\\AppData\\Local\\Temp\\ipykernel_35320\\742398494.py:28: SettingWithCopyWarning: \n",
      "A value is trying to be set on a copy of a slice from a DataFrame\n",
      "\n",
      "See the caveats in the documentation: https://pandas.pydata.org/pandas-docs/stable/user_guide/indexing.html#returning-a-view-versus-a-copy\n",
      "  df['Emotion'][i] = predict_emotion(model, tokenizer, [preprocess_text(df['Social Mention/Comment'][i])])\n"
     ]
    },
    {
     "name": "stdout",
     "output_type": "stream",
     "text": [
      "1/1 [==============================] - 0s 24ms/step\n"
     ]
    },
    {
     "name": "stderr",
     "output_type": "stream",
     "text": [
      "C:\\Users\\Sahas Vivek\\AppData\\Local\\Temp\\ipykernel_35320\\742398494.py:28: SettingWithCopyWarning: \n",
      "A value is trying to be set on a copy of a slice from a DataFrame\n",
      "\n",
      "See the caveats in the documentation: https://pandas.pydata.org/pandas-docs/stable/user_guide/indexing.html#returning-a-view-versus-a-copy\n",
      "  df['Emotion'][i] = predict_emotion(model, tokenizer, [preprocess_text(df['Social Mention/Comment'][i])])\n"
     ]
    },
    {
     "name": "stdout",
     "output_type": "stream",
     "text": [
      "1/1 [==============================] - 0s 27ms/step\n"
     ]
    },
    {
     "name": "stderr",
     "output_type": "stream",
     "text": [
      "C:\\Users\\Sahas Vivek\\AppData\\Local\\Temp\\ipykernel_35320\\742398494.py:28: SettingWithCopyWarning: \n",
      "A value is trying to be set on a copy of a slice from a DataFrame\n",
      "\n",
      "See the caveats in the documentation: https://pandas.pydata.org/pandas-docs/stable/user_guide/indexing.html#returning-a-view-versus-a-copy\n",
      "  df['Emotion'][i] = predict_emotion(model, tokenizer, [preprocess_text(df['Social Mention/Comment'][i])])\n"
     ]
    },
    {
     "name": "stdout",
     "output_type": "stream",
     "text": [
      "1/1 [==============================] - 0s 24ms/step\n"
     ]
    },
    {
     "name": "stderr",
     "output_type": "stream",
     "text": [
      "C:\\Users\\Sahas Vivek\\AppData\\Local\\Temp\\ipykernel_35320\\742398494.py:28: SettingWithCopyWarning: \n",
      "A value is trying to be set on a copy of a slice from a DataFrame\n",
      "\n",
      "See the caveats in the documentation: https://pandas.pydata.org/pandas-docs/stable/user_guide/indexing.html#returning-a-view-versus-a-copy\n",
      "  df['Emotion'][i] = predict_emotion(model, tokenizer, [preprocess_text(df['Social Mention/Comment'][i])])\n"
     ]
    },
    {
     "name": "stdout",
     "output_type": "stream",
     "text": [
      "1/1 [==============================] - 0s 24ms/step\n"
     ]
    },
    {
     "name": "stderr",
     "output_type": "stream",
     "text": [
      "C:\\Users\\Sahas Vivek\\AppData\\Local\\Temp\\ipykernel_35320\\742398494.py:28: SettingWithCopyWarning: \n",
      "A value is trying to be set on a copy of a slice from a DataFrame\n",
      "\n",
      "See the caveats in the documentation: https://pandas.pydata.org/pandas-docs/stable/user_guide/indexing.html#returning-a-view-versus-a-copy\n",
      "  df['Emotion'][i] = predict_emotion(model, tokenizer, [preprocess_text(df['Social Mention/Comment'][i])])\n"
     ]
    },
    {
     "name": "stdout",
     "output_type": "stream",
     "text": [
      "1/1 [==============================] - 0s 25ms/step\n"
     ]
    },
    {
     "name": "stderr",
     "output_type": "stream",
     "text": [
      "C:\\Users\\Sahas Vivek\\AppData\\Local\\Temp\\ipykernel_35320\\742398494.py:28: SettingWithCopyWarning: \n",
      "A value is trying to be set on a copy of a slice from a DataFrame\n",
      "\n",
      "See the caveats in the documentation: https://pandas.pydata.org/pandas-docs/stable/user_guide/indexing.html#returning-a-view-versus-a-copy\n",
      "  df['Emotion'][i] = predict_emotion(model, tokenizer, [preprocess_text(df['Social Mention/Comment'][i])])\n"
     ]
    },
    {
     "name": "stdout",
     "output_type": "stream",
     "text": [
      "1/1 [==============================] - 0s 26ms/step\n"
     ]
    },
    {
     "name": "stderr",
     "output_type": "stream",
     "text": [
      "C:\\Users\\Sahas Vivek\\AppData\\Local\\Temp\\ipykernel_35320\\742398494.py:28: SettingWithCopyWarning: \n",
      "A value is trying to be set on a copy of a slice from a DataFrame\n",
      "\n",
      "See the caveats in the documentation: https://pandas.pydata.org/pandas-docs/stable/user_guide/indexing.html#returning-a-view-versus-a-copy\n",
      "  df['Emotion'][i] = predict_emotion(model, tokenizer, [preprocess_text(df['Social Mention/Comment'][i])])\n"
     ]
    },
    {
     "name": "stdout",
     "output_type": "stream",
     "text": [
      "1/1 [==============================] - 0s 29ms/step\n"
     ]
    },
    {
     "name": "stderr",
     "output_type": "stream",
     "text": [
      "C:\\Users\\Sahas Vivek\\AppData\\Local\\Temp\\ipykernel_35320\\742398494.py:28: SettingWithCopyWarning: \n",
      "A value is trying to be set on a copy of a slice from a DataFrame\n",
      "\n",
      "See the caveats in the documentation: https://pandas.pydata.org/pandas-docs/stable/user_guide/indexing.html#returning-a-view-versus-a-copy\n",
      "  df['Emotion'][i] = predict_emotion(model, tokenizer, [preprocess_text(df['Social Mention/Comment'][i])])\n"
     ]
    },
    {
     "name": "stdout",
     "output_type": "stream",
     "text": [
      "1/1 [==============================] - 0s 25ms/step\n"
     ]
    },
    {
     "name": "stderr",
     "output_type": "stream",
     "text": [
      "C:\\Users\\Sahas Vivek\\AppData\\Local\\Temp\\ipykernel_35320\\742398494.py:28: SettingWithCopyWarning: \n",
      "A value is trying to be set on a copy of a slice from a DataFrame\n",
      "\n",
      "See the caveats in the documentation: https://pandas.pydata.org/pandas-docs/stable/user_guide/indexing.html#returning-a-view-versus-a-copy\n",
      "  df['Emotion'][i] = predict_emotion(model, tokenizer, [preprocess_text(df['Social Mention/Comment'][i])])\n"
     ]
    },
    {
     "name": "stdout",
     "output_type": "stream",
     "text": [
      "1/1 [==============================] - 0s 26ms/step\n"
     ]
    },
    {
     "name": "stderr",
     "output_type": "stream",
     "text": [
      "C:\\Users\\Sahas Vivek\\AppData\\Local\\Temp\\ipykernel_35320\\742398494.py:28: SettingWithCopyWarning: \n",
      "A value is trying to be set on a copy of a slice from a DataFrame\n",
      "\n",
      "See the caveats in the documentation: https://pandas.pydata.org/pandas-docs/stable/user_guide/indexing.html#returning-a-view-versus-a-copy\n",
      "  df['Emotion'][i] = predict_emotion(model, tokenizer, [preprocess_text(df['Social Mention/Comment'][i])])\n"
     ]
    },
    {
     "name": "stdout",
     "output_type": "stream",
     "text": [
      "1/1 [==============================] - 0s 25ms/step\n"
     ]
    },
    {
     "name": "stderr",
     "output_type": "stream",
     "text": [
      "C:\\Users\\Sahas Vivek\\AppData\\Local\\Temp\\ipykernel_35320\\742398494.py:28: SettingWithCopyWarning: \n",
      "A value is trying to be set on a copy of a slice from a DataFrame\n",
      "\n",
      "See the caveats in the documentation: https://pandas.pydata.org/pandas-docs/stable/user_guide/indexing.html#returning-a-view-versus-a-copy\n",
      "  df['Emotion'][i] = predict_emotion(model, tokenizer, [preprocess_text(df['Social Mention/Comment'][i])])\n"
     ]
    },
    {
     "name": "stdout",
     "output_type": "stream",
     "text": [
      "1/1 [==============================] - 0s 25ms/step\n"
     ]
    },
    {
     "name": "stderr",
     "output_type": "stream",
     "text": [
      "C:\\Users\\Sahas Vivek\\AppData\\Local\\Temp\\ipykernel_35320\\742398494.py:28: SettingWithCopyWarning: \n",
      "A value is trying to be set on a copy of a slice from a DataFrame\n",
      "\n",
      "See the caveats in the documentation: https://pandas.pydata.org/pandas-docs/stable/user_guide/indexing.html#returning-a-view-versus-a-copy\n",
      "  df['Emotion'][i] = predict_emotion(model, tokenizer, [preprocess_text(df['Social Mention/Comment'][i])])\n"
     ]
    },
    {
     "name": "stdout",
     "output_type": "stream",
     "text": [
      "1/1 [==============================] - 0s 24ms/step\n"
     ]
    },
    {
     "name": "stderr",
     "output_type": "stream",
     "text": [
      "C:\\Users\\Sahas Vivek\\AppData\\Local\\Temp\\ipykernel_35320\\742398494.py:28: SettingWithCopyWarning: \n",
      "A value is trying to be set on a copy of a slice from a DataFrame\n",
      "\n",
      "See the caveats in the documentation: https://pandas.pydata.org/pandas-docs/stable/user_guide/indexing.html#returning-a-view-versus-a-copy\n",
      "  df['Emotion'][i] = predict_emotion(model, tokenizer, [preprocess_text(df['Social Mention/Comment'][i])])\n"
     ]
    },
    {
     "name": "stdout",
     "output_type": "stream",
     "text": [
      "1/1 [==============================] - 0s 24ms/step\n"
     ]
    },
    {
     "name": "stderr",
     "output_type": "stream",
     "text": [
      "C:\\Users\\Sahas Vivek\\AppData\\Local\\Temp\\ipykernel_35320\\742398494.py:28: SettingWithCopyWarning: \n",
      "A value is trying to be set on a copy of a slice from a DataFrame\n",
      "\n",
      "See the caveats in the documentation: https://pandas.pydata.org/pandas-docs/stable/user_guide/indexing.html#returning-a-view-versus-a-copy\n",
      "  df['Emotion'][i] = predict_emotion(model, tokenizer, [preprocess_text(df['Social Mention/Comment'][i])])\n"
     ]
    },
    {
     "name": "stdout",
     "output_type": "stream",
     "text": [
      "1/1 [==============================] - 0s 26ms/step\n"
     ]
    },
    {
     "name": "stderr",
     "output_type": "stream",
     "text": [
      "C:\\Users\\Sahas Vivek\\AppData\\Local\\Temp\\ipykernel_35320\\742398494.py:28: SettingWithCopyWarning: \n",
      "A value is trying to be set on a copy of a slice from a DataFrame\n",
      "\n",
      "See the caveats in the documentation: https://pandas.pydata.org/pandas-docs/stable/user_guide/indexing.html#returning-a-view-versus-a-copy\n",
      "  df['Emotion'][i] = predict_emotion(model, tokenizer, [preprocess_text(df['Social Mention/Comment'][i])])\n"
     ]
    },
    {
     "name": "stdout",
     "output_type": "stream",
     "text": [
      "1/1 [==============================] - 0s 28ms/step\n"
     ]
    },
    {
     "name": "stderr",
     "output_type": "stream",
     "text": [
      "C:\\Users\\Sahas Vivek\\AppData\\Local\\Temp\\ipykernel_35320\\742398494.py:28: SettingWithCopyWarning: \n",
      "A value is trying to be set on a copy of a slice from a DataFrame\n",
      "\n",
      "See the caveats in the documentation: https://pandas.pydata.org/pandas-docs/stable/user_guide/indexing.html#returning-a-view-versus-a-copy\n",
      "  df['Emotion'][i] = predict_emotion(model, tokenizer, [preprocess_text(df['Social Mention/Comment'][i])])\n"
     ]
    },
    {
     "name": "stdout",
     "output_type": "stream",
     "text": [
      "1/1 [==============================] - 0s 27ms/step\n"
     ]
    },
    {
     "name": "stderr",
     "output_type": "stream",
     "text": [
      "C:\\Users\\Sahas Vivek\\AppData\\Local\\Temp\\ipykernel_35320\\742398494.py:28: SettingWithCopyWarning: \n",
      "A value is trying to be set on a copy of a slice from a DataFrame\n",
      "\n",
      "See the caveats in the documentation: https://pandas.pydata.org/pandas-docs/stable/user_guide/indexing.html#returning-a-view-versus-a-copy\n",
      "  df['Emotion'][i] = predict_emotion(model, tokenizer, [preprocess_text(df['Social Mention/Comment'][i])])\n"
     ]
    },
    {
     "name": "stdout",
     "output_type": "stream",
     "text": [
      "1/1 [==============================] - 0s 29ms/step\n"
     ]
    },
    {
     "name": "stderr",
     "output_type": "stream",
     "text": [
      "C:\\Users\\Sahas Vivek\\AppData\\Local\\Temp\\ipykernel_35320\\742398494.py:28: SettingWithCopyWarning: \n",
      "A value is trying to be set on a copy of a slice from a DataFrame\n",
      "\n",
      "See the caveats in the documentation: https://pandas.pydata.org/pandas-docs/stable/user_guide/indexing.html#returning-a-view-versus-a-copy\n",
      "  df['Emotion'][i] = predict_emotion(model, tokenizer, [preprocess_text(df['Social Mention/Comment'][i])])\n"
     ]
    },
    {
     "name": "stdout",
     "output_type": "stream",
     "text": [
      "1/1 [==============================] - 0s 26ms/step\n"
     ]
    },
    {
     "name": "stderr",
     "output_type": "stream",
     "text": [
      "C:\\Users\\Sahas Vivek\\AppData\\Local\\Temp\\ipykernel_35320\\742398494.py:28: SettingWithCopyWarning: \n",
      "A value is trying to be set on a copy of a slice from a DataFrame\n",
      "\n",
      "See the caveats in the documentation: https://pandas.pydata.org/pandas-docs/stable/user_guide/indexing.html#returning-a-view-versus-a-copy\n",
      "  df['Emotion'][i] = predict_emotion(model, tokenizer, [preprocess_text(df['Social Mention/Comment'][i])])\n"
     ]
    },
    {
     "name": "stdout",
     "output_type": "stream",
     "text": [
      "1/1 [==============================] - 0s 25ms/step\n"
     ]
    },
    {
     "name": "stderr",
     "output_type": "stream",
     "text": [
      "C:\\Users\\Sahas Vivek\\AppData\\Local\\Temp\\ipykernel_35320\\742398494.py:28: SettingWithCopyWarning: \n",
      "A value is trying to be set on a copy of a slice from a DataFrame\n",
      "\n",
      "See the caveats in the documentation: https://pandas.pydata.org/pandas-docs/stable/user_guide/indexing.html#returning-a-view-versus-a-copy\n",
      "  df['Emotion'][i] = predict_emotion(model, tokenizer, [preprocess_text(df['Social Mention/Comment'][i])])\n"
     ]
    },
    {
     "name": "stdout",
     "output_type": "stream",
     "text": [
      "1/1 [==============================] - 0s 24ms/step\n"
     ]
    },
    {
     "name": "stderr",
     "output_type": "stream",
     "text": [
      "C:\\Users\\Sahas Vivek\\AppData\\Local\\Temp\\ipykernel_35320\\742398494.py:28: SettingWithCopyWarning: \n",
      "A value is trying to be set on a copy of a slice from a DataFrame\n",
      "\n",
      "See the caveats in the documentation: https://pandas.pydata.org/pandas-docs/stable/user_guide/indexing.html#returning-a-view-versus-a-copy\n",
      "  df['Emotion'][i] = predict_emotion(model, tokenizer, [preprocess_text(df['Social Mention/Comment'][i])])\n"
     ]
    },
    {
     "name": "stdout",
     "output_type": "stream",
     "text": [
      "1/1 [==============================] - 0s 27ms/step\n"
     ]
    },
    {
     "name": "stderr",
     "output_type": "stream",
     "text": [
      "C:\\Users\\Sahas Vivek\\AppData\\Local\\Temp\\ipykernel_35320\\742398494.py:28: SettingWithCopyWarning: \n",
      "A value is trying to be set on a copy of a slice from a DataFrame\n",
      "\n",
      "See the caveats in the documentation: https://pandas.pydata.org/pandas-docs/stable/user_guide/indexing.html#returning-a-view-versus-a-copy\n",
      "  df['Emotion'][i] = predict_emotion(model, tokenizer, [preprocess_text(df['Social Mention/Comment'][i])])\n"
     ]
    },
    {
     "name": "stdout",
     "output_type": "stream",
     "text": [
      "1/1 [==============================] - 0s 27ms/step\n"
     ]
    },
    {
     "name": "stderr",
     "output_type": "stream",
     "text": [
      "C:\\Users\\Sahas Vivek\\AppData\\Local\\Temp\\ipykernel_35320\\742398494.py:28: SettingWithCopyWarning: \n",
      "A value is trying to be set on a copy of a slice from a DataFrame\n",
      "\n",
      "See the caveats in the documentation: https://pandas.pydata.org/pandas-docs/stable/user_guide/indexing.html#returning-a-view-versus-a-copy\n",
      "  df['Emotion'][i] = predict_emotion(model, tokenizer, [preprocess_text(df['Social Mention/Comment'][i])])\n"
     ]
    },
    {
     "name": "stdout",
     "output_type": "stream",
     "text": [
      "1/1 [==============================] - 0s 26ms/step\n"
     ]
    },
    {
     "name": "stderr",
     "output_type": "stream",
     "text": [
      "C:\\Users\\Sahas Vivek\\AppData\\Local\\Temp\\ipykernel_35320\\742398494.py:28: SettingWithCopyWarning: \n",
      "A value is trying to be set on a copy of a slice from a DataFrame\n",
      "\n",
      "See the caveats in the documentation: https://pandas.pydata.org/pandas-docs/stable/user_guide/indexing.html#returning-a-view-versus-a-copy\n",
      "  df['Emotion'][i] = predict_emotion(model, tokenizer, [preprocess_text(df['Social Mention/Comment'][i])])\n"
     ]
    },
    {
     "name": "stdout",
     "output_type": "stream",
     "text": [
      "1/1 [==============================] - 0s 24ms/step\n"
     ]
    },
    {
     "name": "stderr",
     "output_type": "stream",
     "text": [
      "C:\\Users\\Sahas Vivek\\AppData\\Local\\Temp\\ipykernel_35320\\742398494.py:28: SettingWithCopyWarning: \n",
      "A value is trying to be set on a copy of a slice from a DataFrame\n",
      "\n",
      "See the caveats in the documentation: https://pandas.pydata.org/pandas-docs/stable/user_guide/indexing.html#returning-a-view-versus-a-copy\n",
      "  df['Emotion'][i] = predict_emotion(model, tokenizer, [preprocess_text(df['Social Mention/Comment'][i])])\n"
     ]
    },
    {
     "name": "stdout",
     "output_type": "stream",
     "text": [
      "1/1 [==============================] - 0s 23ms/step\n"
     ]
    },
    {
     "name": "stderr",
     "output_type": "stream",
     "text": [
      "C:\\Users\\Sahas Vivek\\AppData\\Local\\Temp\\ipykernel_35320\\742398494.py:28: SettingWithCopyWarning: \n",
      "A value is trying to be set on a copy of a slice from a DataFrame\n",
      "\n",
      "See the caveats in the documentation: https://pandas.pydata.org/pandas-docs/stable/user_guide/indexing.html#returning-a-view-versus-a-copy\n",
      "  df['Emotion'][i] = predict_emotion(model, tokenizer, [preprocess_text(df['Social Mention/Comment'][i])])\n"
     ]
    },
    {
     "name": "stdout",
     "output_type": "stream",
     "text": [
      "1/1 [==============================] - 0s 27ms/step\n"
     ]
    },
    {
     "name": "stderr",
     "output_type": "stream",
     "text": [
      "C:\\Users\\Sahas Vivek\\AppData\\Local\\Temp\\ipykernel_35320\\742398494.py:28: SettingWithCopyWarning: \n",
      "A value is trying to be set on a copy of a slice from a DataFrame\n",
      "\n",
      "See the caveats in the documentation: https://pandas.pydata.org/pandas-docs/stable/user_guide/indexing.html#returning-a-view-versus-a-copy\n",
      "  df['Emotion'][i] = predict_emotion(model, tokenizer, [preprocess_text(df['Social Mention/Comment'][i])])\n"
     ]
    },
    {
     "name": "stdout",
     "output_type": "stream",
     "text": [
      "1/1 [==============================] - 0s 26ms/step\n"
     ]
    },
    {
     "name": "stderr",
     "output_type": "stream",
     "text": [
      "C:\\Users\\Sahas Vivek\\AppData\\Local\\Temp\\ipykernel_35320\\742398494.py:28: SettingWithCopyWarning: \n",
      "A value is trying to be set on a copy of a slice from a DataFrame\n",
      "\n",
      "See the caveats in the documentation: https://pandas.pydata.org/pandas-docs/stable/user_guide/indexing.html#returning-a-view-versus-a-copy\n",
      "  df['Emotion'][i] = predict_emotion(model, tokenizer, [preprocess_text(df['Social Mention/Comment'][i])])\n"
     ]
    },
    {
     "name": "stdout",
     "output_type": "stream",
     "text": [
      "1/1 [==============================] - 0s 25ms/step\n"
     ]
    },
    {
     "name": "stderr",
     "output_type": "stream",
     "text": [
      "C:\\Users\\Sahas Vivek\\AppData\\Local\\Temp\\ipykernel_35320\\742398494.py:28: SettingWithCopyWarning: \n",
      "A value is trying to be set on a copy of a slice from a DataFrame\n",
      "\n",
      "See the caveats in the documentation: https://pandas.pydata.org/pandas-docs/stable/user_guide/indexing.html#returning-a-view-versus-a-copy\n",
      "  df['Emotion'][i] = predict_emotion(model, tokenizer, [preprocess_text(df['Social Mention/Comment'][i])])\n"
     ]
    },
    {
     "name": "stdout",
     "output_type": "stream",
     "text": [
      "1/1 [==============================] - 0s 26ms/step\n"
     ]
    },
    {
     "name": "stderr",
     "output_type": "stream",
     "text": [
      "C:\\Users\\Sahas Vivek\\AppData\\Local\\Temp\\ipykernel_35320\\742398494.py:28: SettingWithCopyWarning: \n",
      "A value is trying to be set on a copy of a slice from a DataFrame\n",
      "\n",
      "See the caveats in the documentation: https://pandas.pydata.org/pandas-docs/stable/user_guide/indexing.html#returning-a-view-versus-a-copy\n",
      "  df['Emotion'][i] = predict_emotion(model, tokenizer, [preprocess_text(df['Social Mention/Comment'][i])])\n"
     ]
    },
    {
     "name": "stdout",
     "output_type": "stream",
     "text": [
      "1/1 [==============================] - 0s 22ms/step\n"
     ]
    },
    {
     "name": "stderr",
     "output_type": "stream",
     "text": [
      "C:\\Users\\Sahas Vivek\\AppData\\Local\\Temp\\ipykernel_35320\\742398494.py:28: SettingWithCopyWarning: \n",
      "A value is trying to be set on a copy of a slice from a DataFrame\n",
      "\n",
      "See the caveats in the documentation: https://pandas.pydata.org/pandas-docs/stable/user_guide/indexing.html#returning-a-view-versus-a-copy\n",
      "  df['Emotion'][i] = predict_emotion(model, tokenizer, [preprocess_text(df['Social Mention/Comment'][i])])\n"
     ]
    },
    {
     "name": "stdout",
     "output_type": "stream",
     "text": [
      "1/1 [==============================] - 0s 22ms/step\n"
     ]
    },
    {
     "name": "stderr",
     "output_type": "stream",
     "text": [
      "C:\\Users\\Sahas Vivek\\AppData\\Local\\Temp\\ipykernel_35320\\742398494.py:28: SettingWithCopyWarning: \n",
      "A value is trying to be set on a copy of a slice from a DataFrame\n",
      "\n",
      "See the caveats in the documentation: https://pandas.pydata.org/pandas-docs/stable/user_guide/indexing.html#returning-a-view-versus-a-copy\n",
      "  df['Emotion'][i] = predict_emotion(model, tokenizer, [preprocess_text(df['Social Mention/Comment'][i])])\n"
     ]
    },
    {
     "name": "stdout",
     "output_type": "stream",
     "text": [
      "1/1 [==============================] - 0s 25ms/step\n"
     ]
    },
    {
     "name": "stderr",
     "output_type": "stream",
     "text": [
      "C:\\Users\\Sahas Vivek\\AppData\\Local\\Temp\\ipykernel_35320\\742398494.py:28: SettingWithCopyWarning: \n",
      "A value is trying to be set on a copy of a slice from a DataFrame\n",
      "\n",
      "See the caveats in the documentation: https://pandas.pydata.org/pandas-docs/stable/user_guide/indexing.html#returning-a-view-versus-a-copy\n",
      "  df['Emotion'][i] = predict_emotion(model, tokenizer, [preprocess_text(df['Social Mention/Comment'][i])])\n"
     ]
    },
    {
     "name": "stdout",
     "output_type": "stream",
     "text": [
      "1/1 [==============================] - 0s 29ms/step\n"
     ]
    },
    {
     "name": "stderr",
     "output_type": "stream",
     "text": [
      "C:\\Users\\Sahas Vivek\\AppData\\Local\\Temp\\ipykernel_35320\\742398494.py:28: SettingWithCopyWarning: \n",
      "A value is trying to be set on a copy of a slice from a DataFrame\n",
      "\n",
      "See the caveats in the documentation: https://pandas.pydata.org/pandas-docs/stable/user_guide/indexing.html#returning-a-view-versus-a-copy\n",
      "  df['Emotion'][i] = predict_emotion(model, tokenizer, [preprocess_text(df['Social Mention/Comment'][i])])\n"
     ]
    },
    {
     "name": "stdout",
     "output_type": "stream",
     "text": [
      "1/1 [==============================] - 0s 36ms/step\n"
     ]
    },
    {
     "name": "stderr",
     "output_type": "stream",
     "text": [
      "C:\\Users\\Sahas Vivek\\AppData\\Local\\Temp\\ipykernel_35320\\742398494.py:28: SettingWithCopyWarning: \n",
      "A value is trying to be set on a copy of a slice from a DataFrame\n",
      "\n",
      "See the caveats in the documentation: https://pandas.pydata.org/pandas-docs/stable/user_guide/indexing.html#returning-a-view-versus-a-copy\n",
      "  df['Emotion'][i] = predict_emotion(model, tokenizer, [preprocess_text(df['Social Mention/Comment'][i])])\n"
     ]
    },
    {
     "name": "stdout",
     "output_type": "stream",
     "text": [
      "1/1 [==============================] - 0s 24ms/step\n"
     ]
    },
    {
     "name": "stderr",
     "output_type": "stream",
     "text": [
      "C:\\Users\\Sahas Vivek\\AppData\\Local\\Temp\\ipykernel_35320\\742398494.py:28: SettingWithCopyWarning: \n",
      "A value is trying to be set on a copy of a slice from a DataFrame\n",
      "\n",
      "See the caveats in the documentation: https://pandas.pydata.org/pandas-docs/stable/user_guide/indexing.html#returning-a-view-versus-a-copy\n",
      "  df['Emotion'][i] = predict_emotion(model, tokenizer, [preprocess_text(df['Social Mention/Comment'][i])])\n"
     ]
    },
    {
     "name": "stdout",
     "output_type": "stream",
     "text": [
      "1/1 [==============================] - 0s 26ms/step\n"
     ]
    },
    {
     "name": "stderr",
     "output_type": "stream",
     "text": [
      "C:\\Users\\Sahas Vivek\\AppData\\Local\\Temp\\ipykernel_35320\\742398494.py:28: SettingWithCopyWarning: \n",
      "A value is trying to be set on a copy of a slice from a DataFrame\n",
      "\n",
      "See the caveats in the documentation: https://pandas.pydata.org/pandas-docs/stable/user_guide/indexing.html#returning-a-view-versus-a-copy\n",
      "  df['Emotion'][i] = predict_emotion(model, tokenizer, [preprocess_text(df['Social Mention/Comment'][i])])\n"
     ]
    },
    {
     "name": "stdout",
     "output_type": "stream",
     "text": [
      "1/1 [==============================] - 0s 37ms/step\n"
     ]
    },
    {
     "name": "stderr",
     "output_type": "stream",
     "text": [
      "C:\\Users\\Sahas Vivek\\AppData\\Local\\Temp\\ipykernel_35320\\742398494.py:28: SettingWithCopyWarning: \n",
      "A value is trying to be set on a copy of a slice from a DataFrame\n",
      "\n",
      "See the caveats in the documentation: https://pandas.pydata.org/pandas-docs/stable/user_guide/indexing.html#returning-a-view-versus-a-copy\n",
      "  df['Emotion'][i] = predict_emotion(model, tokenizer, [preprocess_text(df['Social Mention/Comment'][i])])\n"
     ]
    },
    {
     "name": "stdout",
     "output_type": "stream",
     "text": [
      "1/1 [==============================] - 0s 25ms/step\n"
     ]
    },
    {
     "name": "stderr",
     "output_type": "stream",
     "text": [
      "C:\\Users\\Sahas Vivek\\AppData\\Local\\Temp\\ipykernel_35320\\742398494.py:28: SettingWithCopyWarning: \n",
      "A value is trying to be set on a copy of a slice from a DataFrame\n",
      "\n",
      "See the caveats in the documentation: https://pandas.pydata.org/pandas-docs/stable/user_guide/indexing.html#returning-a-view-versus-a-copy\n",
      "  df['Emotion'][i] = predict_emotion(model, tokenizer, [preprocess_text(df['Social Mention/Comment'][i])])\n"
     ]
    },
    {
     "name": "stdout",
     "output_type": "stream",
     "text": [
      "1/1 [==============================] - 0s 26ms/step\n"
     ]
    },
    {
     "name": "stderr",
     "output_type": "stream",
     "text": [
      "C:\\Users\\Sahas Vivek\\AppData\\Local\\Temp\\ipykernel_35320\\742398494.py:28: SettingWithCopyWarning: \n",
      "A value is trying to be set on a copy of a slice from a DataFrame\n",
      "\n",
      "See the caveats in the documentation: https://pandas.pydata.org/pandas-docs/stable/user_guide/indexing.html#returning-a-view-versus-a-copy\n",
      "  df['Emotion'][i] = predict_emotion(model, tokenizer, [preprocess_text(df['Social Mention/Comment'][i])])\n"
     ]
    },
    {
     "name": "stdout",
     "output_type": "stream",
     "text": [
      "1/1 [==============================] - 0s 25ms/step\n"
     ]
    },
    {
     "name": "stderr",
     "output_type": "stream",
     "text": [
      "C:\\Users\\Sahas Vivek\\AppData\\Local\\Temp\\ipykernel_35320\\742398494.py:28: SettingWithCopyWarning: \n",
      "A value is trying to be set on a copy of a slice from a DataFrame\n",
      "\n",
      "See the caveats in the documentation: https://pandas.pydata.org/pandas-docs/stable/user_guide/indexing.html#returning-a-view-versus-a-copy\n",
      "  df['Emotion'][i] = predict_emotion(model, tokenizer, [preprocess_text(df['Social Mention/Comment'][i])])\n"
     ]
    },
    {
     "name": "stdout",
     "output_type": "stream",
     "text": [
      "1/1 [==============================] - 0s 26ms/step\n"
     ]
    },
    {
     "name": "stderr",
     "output_type": "stream",
     "text": [
      "C:\\Users\\Sahas Vivek\\AppData\\Local\\Temp\\ipykernel_35320\\742398494.py:28: SettingWithCopyWarning: \n",
      "A value is trying to be set on a copy of a slice from a DataFrame\n",
      "\n",
      "See the caveats in the documentation: https://pandas.pydata.org/pandas-docs/stable/user_guide/indexing.html#returning-a-view-versus-a-copy\n",
      "  df['Emotion'][i] = predict_emotion(model, tokenizer, [preprocess_text(df['Social Mention/Comment'][i])])\n"
     ]
    },
    {
     "name": "stdout",
     "output_type": "stream",
     "text": [
      "1/1 [==============================] - 0s 24ms/step\n"
     ]
    },
    {
     "name": "stderr",
     "output_type": "stream",
     "text": [
      "C:\\Users\\Sahas Vivek\\AppData\\Local\\Temp\\ipykernel_35320\\742398494.py:28: SettingWithCopyWarning: \n",
      "A value is trying to be set on a copy of a slice from a DataFrame\n",
      "\n",
      "See the caveats in the documentation: https://pandas.pydata.org/pandas-docs/stable/user_guide/indexing.html#returning-a-view-versus-a-copy\n",
      "  df['Emotion'][i] = predict_emotion(model, tokenizer, [preprocess_text(df['Social Mention/Comment'][i])])\n"
     ]
    },
    {
     "name": "stdout",
     "output_type": "stream",
     "text": [
      "1/1 [==============================] - 0s 27ms/step\n"
     ]
    },
    {
     "name": "stderr",
     "output_type": "stream",
     "text": [
      "C:\\Users\\Sahas Vivek\\AppData\\Local\\Temp\\ipykernel_35320\\742398494.py:28: SettingWithCopyWarning: \n",
      "A value is trying to be set on a copy of a slice from a DataFrame\n",
      "\n",
      "See the caveats in the documentation: https://pandas.pydata.org/pandas-docs/stable/user_guide/indexing.html#returning-a-view-versus-a-copy\n",
      "  df['Emotion'][i] = predict_emotion(model, tokenizer, [preprocess_text(df['Social Mention/Comment'][i])])\n"
     ]
    },
    {
     "name": "stdout",
     "output_type": "stream",
     "text": [
      "1/1 [==============================] - 0s 26ms/step\n"
     ]
    },
    {
     "name": "stderr",
     "output_type": "stream",
     "text": [
      "C:\\Users\\Sahas Vivek\\AppData\\Local\\Temp\\ipykernel_35320\\742398494.py:28: SettingWithCopyWarning: \n",
      "A value is trying to be set on a copy of a slice from a DataFrame\n",
      "\n",
      "See the caveats in the documentation: https://pandas.pydata.org/pandas-docs/stable/user_guide/indexing.html#returning-a-view-versus-a-copy\n",
      "  df['Emotion'][i] = predict_emotion(model, tokenizer, [preprocess_text(df['Social Mention/Comment'][i])])\n"
     ]
    },
    {
     "name": "stdout",
     "output_type": "stream",
     "text": [
      "1/1 [==============================] - 0s 30ms/step\n"
     ]
    },
    {
     "name": "stderr",
     "output_type": "stream",
     "text": [
      "C:\\Users\\Sahas Vivek\\AppData\\Local\\Temp\\ipykernel_35320\\742398494.py:28: SettingWithCopyWarning: \n",
      "A value is trying to be set on a copy of a slice from a DataFrame\n",
      "\n",
      "See the caveats in the documentation: https://pandas.pydata.org/pandas-docs/stable/user_guide/indexing.html#returning-a-view-versus-a-copy\n",
      "  df['Emotion'][i] = predict_emotion(model, tokenizer, [preprocess_text(df['Social Mention/Comment'][i])])\n"
     ]
    },
    {
     "name": "stdout",
     "output_type": "stream",
     "text": [
      "1/1 [==============================] - 0s 28ms/step\n"
     ]
    },
    {
     "name": "stderr",
     "output_type": "stream",
     "text": [
      "C:\\Users\\Sahas Vivek\\AppData\\Local\\Temp\\ipykernel_35320\\742398494.py:28: SettingWithCopyWarning: \n",
      "A value is trying to be set on a copy of a slice from a DataFrame\n",
      "\n",
      "See the caveats in the documentation: https://pandas.pydata.org/pandas-docs/stable/user_guide/indexing.html#returning-a-view-versus-a-copy\n",
      "  df['Emotion'][i] = predict_emotion(model, tokenizer, [preprocess_text(df['Social Mention/Comment'][i])])\n"
     ]
    },
    {
     "name": "stdout",
     "output_type": "stream",
     "text": [
      "1/1 [==============================] - 0s 31ms/step\n"
     ]
    },
    {
     "name": "stderr",
     "output_type": "stream",
     "text": [
      "C:\\Users\\Sahas Vivek\\AppData\\Local\\Temp\\ipykernel_35320\\742398494.py:28: SettingWithCopyWarning: \n",
      "A value is trying to be set on a copy of a slice from a DataFrame\n",
      "\n",
      "See the caveats in the documentation: https://pandas.pydata.org/pandas-docs/stable/user_guide/indexing.html#returning-a-view-versus-a-copy\n",
      "  df['Emotion'][i] = predict_emotion(model, tokenizer, [preprocess_text(df['Social Mention/Comment'][i])])\n"
     ]
    },
    {
     "name": "stdout",
     "output_type": "stream",
     "text": [
      "1/1 [==============================] - 0s 28ms/step\n"
     ]
    },
    {
     "name": "stderr",
     "output_type": "stream",
     "text": [
      "C:\\Users\\Sahas Vivek\\AppData\\Local\\Temp\\ipykernel_35320\\742398494.py:28: SettingWithCopyWarning: \n",
      "A value is trying to be set on a copy of a slice from a DataFrame\n",
      "\n",
      "See the caveats in the documentation: https://pandas.pydata.org/pandas-docs/stable/user_guide/indexing.html#returning-a-view-versus-a-copy\n",
      "  df['Emotion'][i] = predict_emotion(model, tokenizer, [preprocess_text(df['Social Mention/Comment'][i])])\n"
     ]
    },
    {
     "name": "stdout",
     "output_type": "stream",
     "text": [
      "1/1 [==============================] - 0s 27ms/step\n"
     ]
    },
    {
     "name": "stderr",
     "output_type": "stream",
     "text": [
      "C:\\Users\\Sahas Vivek\\AppData\\Local\\Temp\\ipykernel_35320\\742398494.py:28: SettingWithCopyWarning: \n",
      "A value is trying to be set on a copy of a slice from a DataFrame\n",
      "\n",
      "See the caveats in the documentation: https://pandas.pydata.org/pandas-docs/stable/user_guide/indexing.html#returning-a-view-versus-a-copy\n",
      "  df['Emotion'][i] = predict_emotion(model, tokenizer, [preprocess_text(df['Social Mention/Comment'][i])])\n"
     ]
    },
    {
     "name": "stdout",
     "output_type": "stream",
     "text": [
      "1/1 [==============================] - 0s 28ms/step\n"
     ]
    },
    {
     "name": "stderr",
     "output_type": "stream",
     "text": [
      "C:\\Users\\Sahas Vivek\\AppData\\Local\\Temp\\ipykernel_35320\\742398494.py:28: SettingWithCopyWarning: \n",
      "A value is trying to be set on a copy of a slice from a DataFrame\n",
      "\n",
      "See the caveats in the documentation: https://pandas.pydata.org/pandas-docs/stable/user_guide/indexing.html#returning-a-view-versus-a-copy\n",
      "  df['Emotion'][i] = predict_emotion(model, tokenizer, [preprocess_text(df['Social Mention/Comment'][i])])\n"
     ]
    },
    {
     "name": "stdout",
     "output_type": "stream",
     "text": [
      "1/1 [==============================] - 0s 29ms/step\n"
     ]
    },
    {
     "name": "stderr",
     "output_type": "stream",
     "text": [
      "C:\\Users\\Sahas Vivek\\AppData\\Local\\Temp\\ipykernel_35320\\742398494.py:28: SettingWithCopyWarning: \n",
      "A value is trying to be set on a copy of a slice from a DataFrame\n",
      "\n",
      "See the caveats in the documentation: https://pandas.pydata.org/pandas-docs/stable/user_guide/indexing.html#returning-a-view-versus-a-copy\n",
      "  df['Emotion'][i] = predict_emotion(model, tokenizer, [preprocess_text(df['Social Mention/Comment'][i])])\n"
     ]
    },
    {
     "name": "stdout",
     "output_type": "stream",
     "text": [
      "1/1 [==============================] - 0s 26ms/step\n"
     ]
    },
    {
     "name": "stderr",
     "output_type": "stream",
     "text": [
      "C:\\Users\\Sahas Vivek\\AppData\\Local\\Temp\\ipykernel_35320\\742398494.py:28: SettingWithCopyWarning: \n",
      "A value is trying to be set on a copy of a slice from a DataFrame\n",
      "\n",
      "See the caveats in the documentation: https://pandas.pydata.org/pandas-docs/stable/user_guide/indexing.html#returning-a-view-versus-a-copy\n",
      "  df['Emotion'][i] = predict_emotion(model, tokenizer, [preprocess_text(df['Social Mention/Comment'][i])])\n"
     ]
    },
    {
     "name": "stdout",
     "output_type": "stream",
     "text": [
      "1/1 [==============================] - 0s 28ms/step\n"
     ]
    },
    {
     "name": "stderr",
     "output_type": "stream",
     "text": [
      "C:\\Users\\Sahas Vivek\\AppData\\Local\\Temp\\ipykernel_35320\\742398494.py:28: SettingWithCopyWarning: \n",
      "A value is trying to be set on a copy of a slice from a DataFrame\n",
      "\n",
      "See the caveats in the documentation: https://pandas.pydata.org/pandas-docs/stable/user_guide/indexing.html#returning-a-view-versus-a-copy\n",
      "  df['Emotion'][i] = predict_emotion(model, tokenizer, [preprocess_text(df['Social Mention/Comment'][i])])\n"
     ]
    },
    {
     "name": "stdout",
     "output_type": "stream",
     "text": [
      "1/1 [==============================] - 0s 29ms/step\n"
     ]
    },
    {
     "name": "stderr",
     "output_type": "stream",
     "text": [
      "C:\\Users\\Sahas Vivek\\AppData\\Local\\Temp\\ipykernel_35320\\742398494.py:28: SettingWithCopyWarning: \n",
      "A value is trying to be set on a copy of a slice from a DataFrame\n",
      "\n",
      "See the caveats in the documentation: https://pandas.pydata.org/pandas-docs/stable/user_guide/indexing.html#returning-a-view-versus-a-copy\n",
      "  df['Emotion'][i] = predict_emotion(model, tokenizer, [preprocess_text(df['Social Mention/Comment'][i])])\n"
     ]
    },
    {
     "name": "stdout",
     "output_type": "stream",
     "text": [
      "1/1 [==============================] - 0s 27ms/step\n"
     ]
    },
    {
     "name": "stderr",
     "output_type": "stream",
     "text": [
      "C:\\Users\\Sahas Vivek\\AppData\\Local\\Temp\\ipykernel_35320\\742398494.py:28: SettingWithCopyWarning: \n",
      "A value is trying to be set on a copy of a slice from a DataFrame\n",
      "\n",
      "See the caveats in the documentation: https://pandas.pydata.org/pandas-docs/stable/user_guide/indexing.html#returning-a-view-versus-a-copy\n",
      "  df['Emotion'][i] = predict_emotion(model, tokenizer, [preprocess_text(df['Social Mention/Comment'][i])])\n"
     ]
    },
    {
     "name": "stdout",
     "output_type": "stream",
     "text": [
      "1/1 [==============================] - 0s 28ms/step\n"
     ]
    },
    {
     "name": "stderr",
     "output_type": "stream",
     "text": [
      "C:\\Users\\Sahas Vivek\\AppData\\Local\\Temp\\ipykernel_35320\\742398494.py:28: SettingWithCopyWarning: \n",
      "A value is trying to be set on a copy of a slice from a DataFrame\n",
      "\n",
      "See the caveats in the documentation: https://pandas.pydata.org/pandas-docs/stable/user_guide/indexing.html#returning-a-view-versus-a-copy\n",
      "  df['Emotion'][i] = predict_emotion(model, tokenizer, [preprocess_text(df['Social Mention/Comment'][i])])\n"
     ]
    },
    {
     "name": "stdout",
     "output_type": "stream",
     "text": [
      "1/1 [==============================] - 0s 31ms/step\n"
     ]
    },
    {
     "name": "stderr",
     "output_type": "stream",
     "text": [
      "C:\\Users\\Sahas Vivek\\AppData\\Local\\Temp\\ipykernel_35320\\742398494.py:28: SettingWithCopyWarning: \n",
      "A value is trying to be set on a copy of a slice from a DataFrame\n",
      "\n",
      "See the caveats in the documentation: https://pandas.pydata.org/pandas-docs/stable/user_guide/indexing.html#returning-a-view-versus-a-copy\n",
      "  df['Emotion'][i] = predict_emotion(model, tokenizer, [preprocess_text(df['Social Mention/Comment'][i])])\n"
     ]
    },
    {
     "name": "stdout",
     "output_type": "stream",
     "text": [
      "1/1 [==============================] - 0s 29ms/step\n"
     ]
    },
    {
     "name": "stderr",
     "output_type": "stream",
     "text": [
      "C:\\Users\\Sahas Vivek\\AppData\\Local\\Temp\\ipykernel_35320\\742398494.py:28: SettingWithCopyWarning: \n",
      "A value is trying to be set on a copy of a slice from a DataFrame\n",
      "\n",
      "See the caveats in the documentation: https://pandas.pydata.org/pandas-docs/stable/user_guide/indexing.html#returning-a-view-versus-a-copy\n",
      "  df['Emotion'][i] = predict_emotion(model, tokenizer, [preprocess_text(df['Social Mention/Comment'][i])])\n"
     ]
    },
    {
     "name": "stdout",
     "output_type": "stream",
     "text": [
      "1/1 [==============================] - 0s 27ms/step\n"
     ]
    },
    {
     "name": "stderr",
     "output_type": "stream",
     "text": [
      "C:\\Users\\Sahas Vivek\\AppData\\Local\\Temp\\ipykernel_35320\\742398494.py:28: SettingWithCopyWarning: \n",
      "A value is trying to be set on a copy of a slice from a DataFrame\n",
      "\n",
      "See the caveats in the documentation: https://pandas.pydata.org/pandas-docs/stable/user_guide/indexing.html#returning-a-view-versus-a-copy\n",
      "  df['Emotion'][i] = predict_emotion(model, tokenizer, [preprocess_text(df['Social Mention/Comment'][i])])\n"
     ]
    },
    {
     "name": "stdout",
     "output_type": "stream",
     "text": [
      "1/1 [==============================] - 0s 26ms/step\n"
     ]
    },
    {
     "name": "stderr",
     "output_type": "stream",
     "text": [
      "C:\\Users\\Sahas Vivek\\AppData\\Local\\Temp\\ipykernel_35320\\742398494.py:28: SettingWithCopyWarning: \n",
      "A value is trying to be set on a copy of a slice from a DataFrame\n",
      "\n",
      "See the caveats in the documentation: https://pandas.pydata.org/pandas-docs/stable/user_guide/indexing.html#returning-a-view-versus-a-copy\n",
      "  df['Emotion'][i] = predict_emotion(model, tokenizer, [preprocess_text(df['Social Mention/Comment'][i])])\n"
     ]
    },
    {
     "name": "stdout",
     "output_type": "stream",
     "text": [
      "1/1 [==============================] - 0s 25ms/step\n"
     ]
    },
    {
     "name": "stderr",
     "output_type": "stream",
     "text": [
      "C:\\Users\\Sahas Vivek\\AppData\\Local\\Temp\\ipykernel_35320\\742398494.py:28: SettingWithCopyWarning: \n",
      "A value is trying to be set on a copy of a slice from a DataFrame\n",
      "\n",
      "See the caveats in the documentation: https://pandas.pydata.org/pandas-docs/stable/user_guide/indexing.html#returning-a-view-versus-a-copy\n",
      "  df['Emotion'][i] = predict_emotion(model, tokenizer, [preprocess_text(df['Social Mention/Comment'][i])])\n"
     ]
    },
    {
     "name": "stdout",
     "output_type": "stream",
     "text": [
      "1/1 [==============================] - 0s 27ms/step\n"
     ]
    },
    {
     "name": "stderr",
     "output_type": "stream",
     "text": [
      "C:\\Users\\Sahas Vivek\\AppData\\Local\\Temp\\ipykernel_35320\\742398494.py:28: SettingWithCopyWarning: \n",
      "A value is trying to be set on a copy of a slice from a DataFrame\n",
      "\n",
      "See the caveats in the documentation: https://pandas.pydata.org/pandas-docs/stable/user_guide/indexing.html#returning-a-view-versus-a-copy\n",
      "  df['Emotion'][i] = predict_emotion(model, tokenizer, [preprocess_text(df['Social Mention/Comment'][i])])\n"
     ]
    },
    {
     "name": "stdout",
     "output_type": "stream",
     "text": [
      "1/1 [==============================] - 0s 28ms/step\n"
     ]
    },
    {
     "name": "stderr",
     "output_type": "stream",
     "text": [
      "C:\\Users\\Sahas Vivek\\AppData\\Local\\Temp\\ipykernel_35320\\742398494.py:28: SettingWithCopyWarning: \n",
      "A value is trying to be set on a copy of a slice from a DataFrame\n",
      "\n",
      "See the caveats in the documentation: https://pandas.pydata.org/pandas-docs/stable/user_guide/indexing.html#returning-a-view-versus-a-copy\n",
      "  df['Emotion'][i] = predict_emotion(model, tokenizer, [preprocess_text(df['Social Mention/Comment'][i])])\n"
     ]
    },
    {
     "name": "stdout",
     "output_type": "stream",
     "text": [
      "1/1 [==============================] - 0s 27ms/step\n"
     ]
    },
    {
     "name": "stderr",
     "output_type": "stream",
     "text": [
      "C:\\Users\\Sahas Vivek\\AppData\\Local\\Temp\\ipykernel_35320\\742398494.py:28: SettingWithCopyWarning: \n",
      "A value is trying to be set on a copy of a slice from a DataFrame\n",
      "\n",
      "See the caveats in the documentation: https://pandas.pydata.org/pandas-docs/stable/user_guide/indexing.html#returning-a-view-versus-a-copy\n",
      "  df['Emotion'][i] = predict_emotion(model, tokenizer, [preprocess_text(df['Social Mention/Comment'][i])])\n"
     ]
    },
    {
     "name": "stdout",
     "output_type": "stream",
     "text": [
      "1/1 [==============================] - 0s 27ms/step\n"
     ]
    },
    {
     "name": "stderr",
     "output_type": "stream",
     "text": [
      "C:\\Users\\Sahas Vivek\\AppData\\Local\\Temp\\ipykernel_35320\\742398494.py:28: SettingWithCopyWarning: \n",
      "A value is trying to be set on a copy of a slice from a DataFrame\n",
      "\n",
      "See the caveats in the documentation: https://pandas.pydata.org/pandas-docs/stable/user_guide/indexing.html#returning-a-view-versus-a-copy\n",
      "  df['Emotion'][i] = predict_emotion(model, tokenizer, [preprocess_text(df['Social Mention/Comment'][i])])\n"
     ]
    },
    {
     "name": "stdout",
     "output_type": "stream",
     "text": [
      "1/1 [==============================] - 0s 26ms/step\n"
     ]
    },
    {
     "name": "stderr",
     "output_type": "stream",
     "text": [
      "C:\\Users\\Sahas Vivek\\AppData\\Local\\Temp\\ipykernel_35320\\742398494.py:28: SettingWithCopyWarning: \n",
      "A value is trying to be set on a copy of a slice from a DataFrame\n",
      "\n",
      "See the caveats in the documentation: https://pandas.pydata.org/pandas-docs/stable/user_guide/indexing.html#returning-a-view-versus-a-copy\n",
      "  df['Emotion'][i] = predict_emotion(model, tokenizer, [preprocess_text(df['Social Mention/Comment'][i])])\n"
     ]
    },
    {
     "name": "stdout",
     "output_type": "stream",
     "text": [
      "1/1 [==============================] - 0s 29ms/step\n"
     ]
    },
    {
     "name": "stderr",
     "output_type": "stream",
     "text": [
      "C:\\Users\\Sahas Vivek\\AppData\\Local\\Temp\\ipykernel_35320\\742398494.py:28: SettingWithCopyWarning: \n",
      "A value is trying to be set on a copy of a slice from a DataFrame\n",
      "\n",
      "See the caveats in the documentation: https://pandas.pydata.org/pandas-docs/stable/user_guide/indexing.html#returning-a-view-versus-a-copy\n",
      "  df['Emotion'][i] = predict_emotion(model, tokenizer, [preprocess_text(df['Social Mention/Comment'][i])])\n"
     ]
    },
    {
     "name": "stdout",
     "output_type": "stream",
     "text": [
      "1/1 [==============================] - 0s 29ms/step\n"
     ]
    },
    {
     "name": "stderr",
     "output_type": "stream",
     "text": [
      "C:\\Users\\Sahas Vivek\\AppData\\Local\\Temp\\ipykernel_35320\\742398494.py:28: SettingWithCopyWarning: \n",
      "A value is trying to be set on a copy of a slice from a DataFrame\n",
      "\n",
      "See the caveats in the documentation: https://pandas.pydata.org/pandas-docs/stable/user_guide/indexing.html#returning-a-view-versus-a-copy\n",
      "  df['Emotion'][i] = predict_emotion(model, tokenizer, [preprocess_text(df['Social Mention/Comment'][i])])\n"
     ]
    },
    {
     "name": "stdout",
     "output_type": "stream",
     "text": [
      "1/1 [==============================] - 0s 26ms/step\n"
     ]
    },
    {
     "name": "stderr",
     "output_type": "stream",
     "text": [
      "C:\\Users\\Sahas Vivek\\AppData\\Local\\Temp\\ipykernel_35320\\742398494.py:28: SettingWithCopyWarning: \n",
      "A value is trying to be set on a copy of a slice from a DataFrame\n",
      "\n",
      "See the caveats in the documentation: https://pandas.pydata.org/pandas-docs/stable/user_guide/indexing.html#returning-a-view-versus-a-copy\n",
      "  df['Emotion'][i] = predict_emotion(model, tokenizer, [preprocess_text(df['Social Mention/Comment'][i])])\n"
     ]
    },
    {
     "name": "stdout",
     "output_type": "stream",
     "text": [
      "1/1 [==============================] - 0s 24ms/step\n"
     ]
    },
    {
     "name": "stderr",
     "output_type": "stream",
     "text": [
      "C:\\Users\\Sahas Vivek\\AppData\\Local\\Temp\\ipykernel_35320\\742398494.py:28: SettingWithCopyWarning: \n",
      "A value is trying to be set on a copy of a slice from a DataFrame\n",
      "\n",
      "See the caveats in the documentation: https://pandas.pydata.org/pandas-docs/stable/user_guide/indexing.html#returning-a-view-versus-a-copy\n",
      "  df['Emotion'][i] = predict_emotion(model, tokenizer, [preprocess_text(df['Social Mention/Comment'][i])])\n"
     ]
    },
    {
     "name": "stdout",
     "output_type": "stream",
     "text": [
      "1/1 [==============================] - 0s 28ms/step\n"
     ]
    },
    {
     "name": "stderr",
     "output_type": "stream",
     "text": [
      "C:\\Users\\Sahas Vivek\\AppData\\Local\\Temp\\ipykernel_35320\\742398494.py:28: SettingWithCopyWarning: \n",
      "A value is trying to be set on a copy of a slice from a DataFrame\n",
      "\n",
      "See the caveats in the documentation: https://pandas.pydata.org/pandas-docs/stable/user_guide/indexing.html#returning-a-view-versus-a-copy\n",
      "  df['Emotion'][i] = predict_emotion(model, tokenizer, [preprocess_text(df['Social Mention/Comment'][i])])\n"
     ]
    },
    {
     "name": "stdout",
     "output_type": "stream",
     "text": [
      "1/1 [==============================] - 0s 27ms/step\n"
     ]
    },
    {
     "name": "stderr",
     "output_type": "stream",
     "text": [
      "C:\\Users\\Sahas Vivek\\AppData\\Local\\Temp\\ipykernel_35320\\742398494.py:28: SettingWithCopyWarning: \n",
      "A value is trying to be set on a copy of a slice from a DataFrame\n",
      "\n",
      "See the caveats in the documentation: https://pandas.pydata.org/pandas-docs/stable/user_guide/indexing.html#returning-a-view-versus-a-copy\n",
      "  df['Emotion'][i] = predict_emotion(model, tokenizer, [preprocess_text(df['Social Mention/Comment'][i])])\n"
     ]
    },
    {
     "name": "stdout",
     "output_type": "stream",
     "text": [
      "1/1 [==============================] - 0s 28ms/step\n"
     ]
    },
    {
     "name": "stderr",
     "output_type": "stream",
     "text": [
      "C:\\Users\\Sahas Vivek\\AppData\\Local\\Temp\\ipykernel_35320\\742398494.py:28: SettingWithCopyWarning: \n",
      "A value is trying to be set on a copy of a slice from a DataFrame\n",
      "\n",
      "See the caveats in the documentation: https://pandas.pydata.org/pandas-docs/stable/user_guide/indexing.html#returning-a-view-versus-a-copy\n",
      "  df['Emotion'][i] = predict_emotion(model, tokenizer, [preprocess_text(df['Social Mention/Comment'][i])])\n"
     ]
    },
    {
     "name": "stdout",
     "output_type": "stream",
     "text": [
      "1/1 [==============================] - 0s 28ms/step\n"
     ]
    },
    {
     "name": "stderr",
     "output_type": "stream",
     "text": [
      "C:\\Users\\Sahas Vivek\\AppData\\Local\\Temp\\ipykernel_35320\\742398494.py:28: SettingWithCopyWarning: \n",
      "A value is trying to be set on a copy of a slice from a DataFrame\n",
      "\n",
      "See the caveats in the documentation: https://pandas.pydata.org/pandas-docs/stable/user_guide/indexing.html#returning-a-view-versus-a-copy\n",
      "  df['Emotion'][i] = predict_emotion(model, tokenizer, [preprocess_text(df['Social Mention/Comment'][i])])\n"
     ]
    },
    {
     "name": "stdout",
     "output_type": "stream",
     "text": [
      "1/1 [==============================] - 0s 27ms/step\n"
     ]
    },
    {
     "name": "stderr",
     "output_type": "stream",
     "text": [
      "C:\\Users\\Sahas Vivek\\AppData\\Local\\Temp\\ipykernel_35320\\742398494.py:28: SettingWithCopyWarning: \n",
      "A value is trying to be set on a copy of a slice from a DataFrame\n",
      "\n",
      "See the caveats in the documentation: https://pandas.pydata.org/pandas-docs/stable/user_guide/indexing.html#returning-a-view-versus-a-copy\n",
      "  df['Emotion'][i] = predict_emotion(model, tokenizer, [preprocess_text(df['Social Mention/Comment'][i])])\n"
     ]
    },
    {
     "name": "stdout",
     "output_type": "stream",
     "text": [
      "1/1 [==============================] - 0s 27ms/step\n"
     ]
    },
    {
     "name": "stderr",
     "output_type": "stream",
     "text": [
      "C:\\Users\\Sahas Vivek\\AppData\\Local\\Temp\\ipykernel_35320\\742398494.py:28: SettingWithCopyWarning: \n",
      "A value is trying to be set on a copy of a slice from a DataFrame\n",
      "\n",
      "See the caveats in the documentation: https://pandas.pydata.org/pandas-docs/stable/user_guide/indexing.html#returning-a-view-versus-a-copy\n",
      "  df['Emotion'][i] = predict_emotion(model, tokenizer, [preprocess_text(df['Social Mention/Comment'][i])])\n"
     ]
    },
    {
     "name": "stdout",
     "output_type": "stream",
     "text": [
      "1/1 [==============================] - 0s 27ms/step\n"
     ]
    },
    {
     "name": "stderr",
     "output_type": "stream",
     "text": [
      "C:\\Users\\Sahas Vivek\\AppData\\Local\\Temp\\ipykernel_35320\\742398494.py:28: SettingWithCopyWarning: \n",
      "A value is trying to be set on a copy of a slice from a DataFrame\n",
      "\n",
      "See the caveats in the documentation: https://pandas.pydata.org/pandas-docs/stable/user_guide/indexing.html#returning-a-view-versus-a-copy\n",
      "  df['Emotion'][i] = predict_emotion(model, tokenizer, [preprocess_text(df['Social Mention/Comment'][i])])\n"
     ]
    },
    {
     "name": "stdout",
     "output_type": "stream",
     "text": [
      "1/1 [==============================] - 0s 27ms/step\n"
     ]
    },
    {
     "name": "stderr",
     "output_type": "stream",
     "text": [
      "C:\\Users\\Sahas Vivek\\AppData\\Local\\Temp\\ipykernel_35320\\742398494.py:28: SettingWithCopyWarning: \n",
      "A value is trying to be set on a copy of a slice from a DataFrame\n",
      "\n",
      "See the caveats in the documentation: https://pandas.pydata.org/pandas-docs/stable/user_guide/indexing.html#returning-a-view-versus-a-copy\n",
      "  df['Emotion'][i] = predict_emotion(model, tokenizer, [preprocess_text(df['Social Mention/Comment'][i])])\n"
     ]
    },
    {
     "name": "stdout",
     "output_type": "stream",
     "text": [
      "1/1 [==============================] - 0s 28ms/step\n"
     ]
    },
    {
     "name": "stderr",
     "output_type": "stream",
     "text": [
      "C:\\Users\\Sahas Vivek\\AppData\\Local\\Temp\\ipykernel_35320\\742398494.py:28: SettingWithCopyWarning: \n",
      "A value is trying to be set on a copy of a slice from a DataFrame\n",
      "\n",
      "See the caveats in the documentation: https://pandas.pydata.org/pandas-docs/stable/user_guide/indexing.html#returning-a-view-versus-a-copy\n",
      "  df['Emotion'][i] = predict_emotion(model, tokenizer, [preprocess_text(df['Social Mention/Comment'][i])])\n"
     ]
    },
    {
     "name": "stdout",
     "output_type": "stream",
     "text": [
      "1/1 [==============================] - 0s 27ms/step\n"
     ]
    },
    {
     "name": "stderr",
     "output_type": "stream",
     "text": [
      "C:\\Users\\Sahas Vivek\\AppData\\Local\\Temp\\ipykernel_35320\\742398494.py:28: SettingWithCopyWarning: \n",
      "A value is trying to be set on a copy of a slice from a DataFrame\n",
      "\n",
      "See the caveats in the documentation: https://pandas.pydata.org/pandas-docs/stable/user_guide/indexing.html#returning-a-view-versus-a-copy\n",
      "  df['Emotion'][i] = predict_emotion(model, tokenizer, [preprocess_text(df['Social Mention/Comment'][i])])\n"
     ]
    },
    {
     "name": "stdout",
     "output_type": "stream",
     "text": [
      "1/1 [==============================] - 0s 27ms/step\n"
     ]
    },
    {
     "name": "stderr",
     "output_type": "stream",
     "text": [
      "C:\\Users\\Sahas Vivek\\AppData\\Local\\Temp\\ipykernel_35320\\742398494.py:28: SettingWithCopyWarning: \n",
      "A value is trying to be set on a copy of a slice from a DataFrame\n",
      "\n",
      "See the caveats in the documentation: https://pandas.pydata.org/pandas-docs/stable/user_guide/indexing.html#returning-a-view-versus-a-copy\n",
      "  df['Emotion'][i] = predict_emotion(model, tokenizer, [preprocess_text(df['Social Mention/Comment'][i])])\n"
     ]
    },
    {
     "name": "stdout",
     "output_type": "stream",
     "text": [
      "1/1 [==============================] - 0s 26ms/step\n"
     ]
    },
    {
     "name": "stderr",
     "output_type": "stream",
     "text": [
      "C:\\Users\\Sahas Vivek\\AppData\\Local\\Temp\\ipykernel_35320\\742398494.py:28: SettingWithCopyWarning: \n",
      "A value is trying to be set on a copy of a slice from a DataFrame\n",
      "\n",
      "See the caveats in the documentation: https://pandas.pydata.org/pandas-docs/stable/user_guide/indexing.html#returning-a-view-versus-a-copy\n",
      "  df['Emotion'][i] = predict_emotion(model, tokenizer, [preprocess_text(df['Social Mention/Comment'][i])])\n"
     ]
    },
    {
     "name": "stdout",
     "output_type": "stream",
     "text": [
      "1/1 [==============================] - 0s 25ms/step\n"
     ]
    },
    {
     "name": "stderr",
     "output_type": "stream",
     "text": [
      "C:\\Users\\Sahas Vivek\\AppData\\Local\\Temp\\ipykernel_35320\\742398494.py:28: SettingWithCopyWarning: \n",
      "A value is trying to be set on a copy of a slice from a DataFrame\n",
      "\n",
      "See the caveats in the documentation: https://pandas.pydata.org/pandas-docs/stable/user_guide/indexing.html#returning-a-view-versus-a-copy\n",
      "  df['Emotion'][i] = predict_emotion(model, tokenizer, [preprocess_text(df['Social Mention/Comment'][i])])\n"
     ]
    },
    {
     "name": "stdout",
     "output_type": "stream",
     "text": [
      "1/1 [==============================] - 0s 28ms/step\n"
     ]
    },
    {
     "name": "stderr",
     "output_type": "stream",
     "text": [
      "C:\\Users\\Sahas Vivek\\AppData\\Local\\Temp\\ipykernel_35320\\742398494.py:28: SettingWithCopyWarning: \n",
      "A value is trying to be set on a copy of a slice from a DataFrame\n",
      "\n",
      "See the caveats in the documentation: https://pandas.pydata.org/pandas-docs/stable/user_guide/indexing.html#returning-a-view-versus-a-copy\n",
      "  df['Emotion'][i] = predict_emotion(model, tokenizer, [preprocess_text(df['Social Mention/Comment'][i])])\n"
     ]
    },
    {
     "name": "stdout",
     "output_type": "stream",
     "text": [
      "1/1 [==============================] - 0s 30ms/step\n"
     ]
    },
    {
     "name": "stderr",
     "output_type": "stream",
     "text": [
      "C:\\Users\\Sahas Vivek\\AppData\\Local\\Temp\\ipykernel_35320\\742398494.py:28: SettingWithCopyWarning: \n",
      "A value is trying to be set on a copy of a slice from a DataFrame\n",
      "\n",
      "See the caveats in the documentation: https://pandas.pydata.org/pandas-docs/stable/user_guide/indexing.html#returning-a-view-versus-a-copy\n",
      "  df['Emotion'][i] = predict_emotion(model, tokenizer, [preprocess_text(df['Social Mention/Comment'][i])])\n"
     ]
    },
    {
     "name": "stdout",
     "output_type": "stream",
     "text": [
      "1/1 [==============================] - 0s 26ms/step\n"
     ]
    },
    {
     "name": "stderr",
     "output_type": "stream",
     "text": [
      "C:\\Users\\Sahas Vivek\\AppData\\Local\\Temp\\ipykernel_35320\\742398494.py:28: SettingWithCopyWarning: \n",
      "A value is trying to be set on a copy of a slice from a DataFrame\n",
      "\n",
      "See the caveats in the documentation: https://pandas.pydata.org/pandas-docs/stable/user_guide/indexing.html#returning-a-view-versus-a-copy\n",
      "  df['Emotion'][i] = predict_emotion(model, tokenizer, [preprocess_text(df['Social Mention/Comment'][i])])\n"
     ]
    },
    {
     "name": "stdout",
     "output_type": "stream",
     "text": [
      "1/1 [==============================] - 0s 27ms/step\n"
     ]
    },
    {
     "name": "stderr",
     "output_type": "stream",
     "text": [
      "C:\\Users\\Sahas Vivek\\AppData\\Local\\Temp\\ipykernel_35320\\742398494.py:28: SettingWithCopyWarning: \n",
      "A value is trying to be set on a copy of a slice from a DataFrame\n",
      "\n",
      "See the caveats in the documentation: https://pandas.pydata.org/pandas-docs/stable/user_guide/indexing.html#returning-a-view-versus-a-copy\n",
      "  df['Emotion'][i] = predict_emotion(model, tokenizer, [preprocess_text(df['Social Mention/Comment'][i])])\n"
     ]
    },
    {
     "name": "stdout",
     "output_type": "stream",
     "text": [
      "1/1 [==============================] - 0s 26ms/step\n"
     ]
    },
    {
     "name": "stderr",
     "output_type": "stream",
     "text": [
      "C:\\Users\\Sahas Vivek\\AppData\\Local\\Temp\\ipykernel_35320\\742398494.py:28: SettingWithCopyWarning: \n",
      "A value is trying to be set on a copy of a slice from a DataFrame\n",
      "\n",
      "See the caveats in the documentation: https://pandas.pydata.org/pandas-docs/stable/user_guide/indexing.html#returning-a-view-versus-a-copy\n",
      "  df['Emotion'][i] = predict_emotion(model, tokenizer, [preprocess_text(df['Social Mention/Comment'][i])])\n"
     ]
    },
    {
     "name": "stdout",
     "output_type": "stream",
     "text": [
      "1/1 [==============================] - 0s 28ms/step\n"
     ]
    },
    {
     "name": "stderr",
     "output_type": "stream",
     "text": [
      "C:\\Users\\Sahas Vivek\\AppData\\Local\\Temp\\ipykernel_35320\\742398494.py:28: SettingWithCopyWarning: \n",
      "A value is trying to be set on a copy of a slice from a DataFrame\n",
      "\n",
      "See the caveats in the documentation: https://pandas.pydata.org/pandas-docs/stable/user_guide/indexing.html#returning-a-view-versus-a-copy\n",
      "  df['Emotion'][i] = predict_emotion(model, tokenizer, [preprocess_text(df['Social Mention/Comment'][i])])\n"
     ]
    },
    {
     "name": "stdout",
     "output_type": "stream",
     "text": [
      "1/1 [==============================] - 0s 28ms/step\n"
     ]
    },
    {
     "name": "stderr",
     "output_type": "stream",
     "text": [
      "C:\\Users\\Sahas Vivek\\AppData\\Local\\Temp\\ipykernel_35320\\742398494.py:28: SettingWithCopyWarning: \n",
      "A value is trying to be set on a copy of a slice from a DataFrame\n",
      "\n",
      "See the caveats in the documentation: https://pandas.pydata.org/pandas-docs/stable/user_guide/indexing.html#returning-a-view-versus-a-copy\n",
      "  df['Emotion'][i] = predict_emotion(model, tokenizer, [preprocess_text(df['Social Mention/Comment'][i])])\n"
     ]
    },
    {
     "name": "stdout",
     "output_type": "stream",
     "text": [
      "1/1 [==============================] - 0s 26ms/step\n"
     ]
    },
    {
     "name": "stderr",
     "output_type": "stream",
     "text": [
      "C:\\Users\\Sahas Vivek\\AppData\\Local\\Temp\\ipykernel_35320\\742398494.py:28: SettingWithCopyWarning: \n",
      "A value is trying to be set on a copy of a slice from a DataFrame\n",
      "\n",
      "See the caveats in the documentation: https://pandas.pydata.org/pandas-docs/stable/user_guide/indexing.html#returning-a-view-versus-a-copy\n",
      "  df['Emotion'][i] = predict_emotion(model, tokenizer, [preprocess_text(df['Social Mention/Comment'][i])])\n"
     ]
    },
    {
     "name": "stdout",
     "output_type": "stream",
     "text": [
      "1/1 [==============================] - 0s 25ms/step\n"
     ]
    },
    {
     "name": "stderr",
     "output_type": "stream",
     "text": [
      "C:\\Users\\Sahas Vivek\\AppData\\Local\\Temp\\ipykernel_35320\\742398494.py:28: SettingWithCopyWarning: \n",
      "A value is trying to be set on a copy of a slice from a DataFrame\n",
      "\n",
      "See the caveats in the documentation: https://pandas.pydata.org/pandas-docs/stable/user_guide/indexing.html#returning-a-view-versus-a-copy\n",
      "  df['Emotion'][i] = predict_emotion(model, tokenizer, [preprocess_text(df['Social Mention/Comment'][i])])\n"
     ]
    },
    {
     "name": "stdout",
     "output_type": "stream",
     "text": [
      "1/1 [==============================] - 0s 29ms/step\n"
     ]
    },
    {
     "name": "stderr",
     "output_type": "stream",
     "text": [
      "C:\\Users\\Sahas Vivek\\AppData\\Local\\Temp\\ipykernel_35320\\742398494.py:28: SettingWithCopyWarning: \n",
      "A value is trying to be set on a copy of a slice from a DataFrame\n",
      "\n",
      "See the caveats in the documentation: https://pandas.pydata.org/pandas-docs/stable/user_guide/indexing.html#returning-a-view-versus-a-copy\n",
      "  df['Emotion'][i] = predict_emotion(model, tokenizer, [preprocess_text(df['Social Mention/Comment'][i])])\n"
     ]
    },
    {
     "name": "stdout",
     "output_type": "stream",
     "text": [
      "1/1 [==============================] - 0s 26ms/step\n"
     ]
    },
    {
     "name": "stderr",
     "output_type": "stream",
     "text": [
      "C:\\Users\\Sahas Vivek\\AppData\\Local\\Temp\\ipykernel_35320\\742398494.py:28: SettingWithCopyWarning: \n",
      "A value is trying to be set on a copy of a slice from a DataFrame\n",
      "\n",
      "See the caveats in the documentation: https://pandas.pydata.org/pandas-docs/stable/user_guide/indexing.html#returning-a-view-versus-a-copy\n",
      "  df['Emotion'][i] = predict_emotion(model, tokenizer, [preprocess_text(df['Social Mention/Comment'][i])])\n"
     ]
    },
    {
     "name": "stdout",
     "output_type": "stream",
     "text": [
      "1/1 [==============================] - 0s 26ms/step\n"
     ]
    },
    {
     "name": "stderr",
     "output_type": "stream",
     "text": [
      "C:\\Users\\Sahas Vivek\\AppData\\Local\\Temp\\ipykernel_35320\\742398494.py:28: SettingWithCopyWarning: \n",
      "A value is trying to be set on a copy of a slice from a DataFrame\n",
      "\n",
      "See the caveats in the documentation: https://pandas.pydata.org/pandas-docs/stable/user_guide/indexing.html#returning-a-view-versus-a-copy\n",
      "  df['Emotion'][i] = predict_emotion(model, tokenizer, [preprocess_text(df['Social Mention/Comment'][i])])\n"
     ]
    },
    {
     "name": "stdout",
     "output_type": "stream",
     "text": [
      "1/1 [==============================] - 0s 25ms/step\n"
     ]
    },
    {
     "name": "stderr",
     "output_type": "stream",
     "text": [
      "C:\\Users\\Sahas Vivek\\AppData\\Local\\Temp\\ipykernel_35320\\742398494.py:28: SettingWithCopyWarning: \n",
      "A value is trying to be set on a copy of a slice from a DataFrame\n",
      "\n",
      "See the caveats in the documentation: https://pandas.pydata.org/pandas-docs/stable/user_guide/indexing.html#returning-a-view-versus-a-copy\n",
      "  df['Emotion'][i] = predict_emotion(model, tokenizer, [preprocess_text(df['Social Mention/Comment'][i])])\n"
     ]
    },
    {
     "name": "stdout",
     "output_type": "stream",
     "text": [
      "1/1 [==============================] - 0s 26ms/step\n"
     ]
    },
    {
     "name": "stderr",
     "output_type": "stream",
     "text": [
      "C:\\Users\\Sahas Vivek\\AppData\\Local\\Temp\\ipykernel_35320\\742398494.py:28: SettingWithCopyWarning: \n",
      "A value is trying to be set on a copy of a slice from a DataFrame\n",
      "\n",
      "See the caveats in the documentation: https://pandas.pydata.org/pandas-docs/stable/user_guide/indexing.html#returning-a-view-versus-a-copy\n",
      "  df['Emotion'][i] = predict_emotion(model, tokenizer, [preprocess_text(df['Social Mention/Comment'][i])])\n"
     ]
    },
    {
     "name": "stdout",
     "output_type": "stream",
     "text": [
      "1/1 [==============================] - 0s 27ms/step\n"
     ]
    },
    {
     "name": "stderr",
     "output_type": "stream",
     "text": [
      "C:\\Users\\Sahas Vivek\\AppData\\Local\\Temp\\ipykernel_35320\\742398494.py:28: SettingWithCopyWarning: \n",
      "A value is trying to be set on a copy of a slice from a DataFrame\n",
      "\n",
      "See the caveats in the documentation: https://pandas.pydata.org/pandas-docs/stable/user_guide/indexing.html#returning-a-view-versus-a-copy\n",
      "  df['Emotion'][i] = predict_emotion(model, tokenizer, [preprocess_text(df['Social Mention/Comment'][i])])\n"
     ]
    },
    {
     "name": "stdout",
     "output_type": "stream",
     "text": [
      "1/1 [==============================] - 0s 26ms/step\n"
     ]
    },
    {
     "name": "stderr",
     "output_type": "stream",
     "text": [
      "C:\\Users\\Sahas Vivek\\AppData\\Local\\Temp\\ipykernel_35320\\742398494.py:28: SettingWithCopyWarning: \n",
      "A value is trying to be set on a copy of a slice from a DataFrame\n",
      "\n",
      "See the caveats in the documentation: https://pandas.pydata.org/pandas-docs/stable/user_guide/indexing.html#returning-a-view-versus-a-copy\n",
      "  df['Emotion'][i] = predict_emotion(model, tokenizer, [preprocess_text(df['Social Mention/Comment'][i])])\n"
     ]
    },
    {
     "name": "stdout",
     "output_type": "stream",
     "text": [
      "1/1 [==============================] - 0s 25ms/step\n"
     ]
    },
    {
     "name": "stderr",
     "output_type": "stream",
     "text": [
      "C:\\Users\\Sahas Vivek\\AppData\\Local\\Temp\\ipykernel_35320\\742398494.py:28: SettingWithCopyWarning: \n",
      "A value is trying to be set on a copy of a slice from a DataFrame\n",
      "\n",
      "See the caveats in the documentation: https://pandas.pydata.org/pandas-docs/stable/user_guide/indexing.html#returning-a-view-versus-a-copy\n",
      "  df['Emotion'][i] = predict_emotion(model, tokenizer, [preprocess_text(df['Social Mention/Comment'][i])])\n"
     ]
    },
    {
     "name": "stdout",
     "output_type": "stream",
     "text": [
      "1/1 [==============================] - 0s 27ms/step\n"
     ]
    },
    {
     "name": "stderr",
     "output_type": "stream",
     "text": [
      "C:\\Users\\Sahas Vivek\\AppData\\Local\\Temp\\ipykernel_35320\\742398494.py:28: SettingWithCopyWarning: \n",
      "A value is trying to be set on a copy of a slice from a DataFrame\n",
      "\n",
      "See the caveats in the documentation: https://pandas.pydata.org/pandas-docs/stable/user_guide/indexing.html#returning-a-view-versus-a-copy\n",
      "  df['Emotion'][i] = predict_emotion(model, tokenizer, [preprocess_text(df['Social Mention/Comment'][i])])\n"
     ]
    },
    {
     "name": "stdout",
     "output_type": "stream",
     "text": [
      "1/1 [==============================] - 0s 30ms/step\n"
     ]
    },
    {
     "name": "stderr",
     "output_type": "stream",
     "text": [
      "C:\\Users\\Sahas Vivek\\AppData\\Local\\Temp\\ipykernel_35320\\742398494.py:28: SettingWithCopyWarning: \n",
      "A value is trying to be set on a copy of a slice from a DataFrame\n",
      "\n",
      "See the caveats in the documentation: https://pandas.pydata.org/pandas-docs/stable/user_guide/indexing.html#returning-a-view-versus-a-copy\n",
      "  df['Emotion'][i] = predict_emotion(model, tokenizer, [preprocess_text(df['Social Mention/Comment'][i])])\n"
     ]
    },
    {
     "name": "stdout",
     "output_type": "stream",
     "text": [
      "1/1 [==============================] - 0s 27ms/step\n"
     ]
    },
    {
     "name": "stderr",
     "output_type": "stream",
     "text": [
      "C:\\Users\\Sahas Vivek\\AppData\\Local\\Temp\\ipykernel_35320\\742398494.py:28: SettingWithCopyWarning: \n",
      "A value is trying to be set on a copy of a slice from a DataFrame\n",
      "\n",
      "See the caveats in the documentation: https://pandas.pydata.org/pandas-docs/stable/user_guide/indexing.html#returning-a-view-versus-a-copy\n",
      "  df['Emotion'][i] = predict_emotion(model, tokenizer, [preprocess_text(df['Social Mention/Comment'][i])])\n"
     ]
    },
    {
     "name": "stdout",
     "output_type": "stream",
     "text": [
      "1/1 [==============================] - 0s 27ms/step\n"
     ]
    },
    {
     "name": "stderr",
     "output_type": "stream",
     "text": [
      "C:\\Users\\Sahas Vivek\\AppData\\Local\\Temp\\ipykernel_35320\\742398494.py:28: SettingWithCopyWarning: \n",
      "A value is trying to be set on a copy of a slice from a DataFrame\n",
      "\n",
      "See the caveats in the documentation: https://pandas.pydata.org/pandas-docs/stable/user_guide/indexing.html#returning-a-view-versus-a-copy\n",
      "  df['Emotion'][i] = predict_emotion(model, tokenizer, [preprocess_text(df['Social Mention/Comment'][i])])\n"
     ]
    },
    {
     "name": "stdout",
     "output_type": "stream",
     "text": [
      "1/1 [==============================] - 0s 28ms/step\n"
     ]
    },
    {
     "name": "stderr",
     "output_type": "stream",
     "text": [
      "C:\\Users\\Sahas Vivek\\AppData\\Local\\Temp\\ipykernel_35320\\742398494.py:28: SettingWithCopyWarning: \n",
      "A value is trying to be set on a copy of a slice from a DataFrame\n",
      "\n",
      "See the caveats in the documentation: https://pandas.pydata.org/pandas-docs/stable/user_guide/indexing.html#returning-a-view-versus-a-copy\n",
      "  df['Emotion'][i] = predict_emotion(model, tokenizer, [preprocess_text(df['Social Mention/Comment'][i])])\n"
     ]
    },
    {
     "name": "stdout",
     "output_type": "stream",
     "text": [
      "1/1 [==============================] - 0s 24ms/step\n"
     ]
    },
    {
     "name": "stderr",
     "output_type": "stream",
     "text": [
      "C:\\Users\\Sahas Vivek\\AppData\\Local\\Temp\\ipykernel_35320\\742398494.py:28: SettingWithCopyWarning: \n",
      "A value is trying to be set on a copy of a slice from a DataFrame\n",
      "\n",
      "See the caveats in the documentation: https://pandas.pydata.org/pandas-docs/stable/user_guide/indexing.html#returning-a-view-versus-a-copy\n",
      "  df['Emotion'][i] = predict_emotion(model, tokenizer, [preprocess_text(df['Social Mention/Comment'][i])])\n"
     ]
    }
   ],
   "source": [
    "import re\n",
    "import spacy\n",
    "\n",
    "def preprocess_text(text):\n",
    "    text = re.sub(r'[^\\w\\s]', '', text)  # Remove punctuation\n",
    "    text = text.lower()  # Convert to lowercase\n",
    "    nlp = spacy.load('en_core_web_sm')\n",
    "    doc = nlp(text)\n",
    "    tokens = [token.text for token in doc if not token.is_stop]\n",
    "    return ' '.join(tokens)\n",
    "\n",
    "\n",
    "\n",
    "def custom_function(value):\n",
    "    if pd.isnull(value):\n",
    "        return \"XYZ\"\n",
    "    else:\n",
    "        return value\n",
    "\n",
    "# Apply the custom function to the entire column\n",
    "df['Emotion'] = df['Emotion'].apply(custom_function)\n",
    "\n",
    "\n",
    "df['Emotion'].value_counts()\n",
    "\n",
    "for i in range(len(df)):\n",
    "    if df['Emotion'][i] == 'XYZ':\n",
    "        df['Emotion'][i] = predict_emotion(model, tokenizer, [preprocess_text(df['Social Mention/Comment'][i])])\n",
    "        \n",
    "  \n",
    "\n"
   ]
  },
  {
   "cell_type": "code",
   "execution_count": 23,
   "metadata": {},
   "outputs": [
    {
     "data": {
      "text/plain": [
       "Emotion\n",
       "Joy        104\n",
       "Anger       22\n",
       "Love        17\n",
       "Sadness      4\n",
       "Fear         2\n",
       "Disgust      1\n",
       "Name: count, dtype: int64"
      ]
     },
     "execution_count": 23,
     "metadata": {},
     "output_type": "execute_result"
    }
   ],
   "source": [
    "df['Emotion'].value_counts()"
   ]
  },
  {
   "cell_type": "code",
   "execution_count": 24,
   "metadata": {},
   "outputs": [
    {
     "data": {
      "text/html": [
       "<div>\n",
       "<style scoped>\n",
       "    .dataframe tbody tr th:only-of-type {\n",
       "        vertical-align: middle;\n",
       "    }\n",
       "\n",
       "    .dataframe tbody tr th {\n",
       "        vertical-align: top;\n",
       "    }\n",
       "\n",
       "    .dataframe thead th {\n",
       "        text-align: right;\n",
       "    }\n",
       "</style>\n",
       "<table border=\"1\" class=\"dataframe\">\n",
       "  <thead>\n",
       "    <tr style=\"text-align: right;\">\n",
       "      <th></th>\n",
       "      <th>Date</th>\n",
       "      <th>Social Mention/Comment</th>\n",
       "      <th>Sentiment</th>\n",
       "      <th>Emotion</th>\n",
       "      <th>Region Code</th>\n",
       "      <th>Region</th>\n",
       "      <th>City Code</th>\n",
       "      <th>Account Type</th>\n",
       "      <th>Author</th>\n",
       "      <th>Category Details</th>\n",
       "      <th>...</th>\n",
       "      <th>Twitter Author ID</th>\n",
       "      <th>Twitter Followers</th>\n",
       "      <th>Twitter Following</th>\n",
       "      <th>Twitter Reply Count</th>\n",
       "      <th>Twitter Retweet of</th>\n",
       "      <th>Twitter Retweets</th>\n",
       "      <th>Twitter Likes</th>\n",
       "      <th>Twitter Tweets</th>\n",
       "      <th>Twitter Verified</th>\n",
       "      <th>Reach (new)</th>\n",
       "    </tr>\n",
       "  </thead>\n",
       "  <tbody>\n",
       "    <tr>\n",
       "      <th>0</th>\n",
       "      <td>2021-10-01 20:40:13.000</td>\n",
       "      <td>@R1100GSBlueNose I'm on the Leffe. Yum!</td>\n",
       "      <td>positive</td>\n",
       "      <td>Joy</td>\n",
       "      <td>GBR.North West</td>\n",
       "      <td>North West England</td>\n",
       "      <td>GBR.North West.Liverpool</td>\n",
       "      <td>individual</td>\n",
       "      <td>ChrisScanlan13</td>\n",
       "      <td>Favorite/Preference</td>\n",
       "      <td>...</td>\n",
       "      <td>1252181417926307840</td>\n",
       "      <td>12</td>\n",
       "      <td>23</td>\n",
       "      <td>0</td>\n",
       "      <td>NaN</td>\n",
       "      <td>0</td>\n",
       "      <td>NaN</td>\n",
       "      <td>1197</td>\n",
       "      <td>False</td>\n",
       "      <td>0</td>\n",
       "    </tr>\n",
       "    <tr>\n",
       "      <th>1</th>\n",
       "      <td>2021-03-15 21:59:55.000</td>\n",
       "      <td>@vonney88 No difference in taste at all, first...</td>\n",
       "      <td>neutral</td>\n",
       "      <td>Anger</td>\n",
       "      <td>NaN</td>\n",
       "      <td>NaN</td>\n",
       "      <td>NaN</td>\n",
       "      <td>individual</td>\n",
       "      <td>fitzy_ge</td>\n",
       "      <td>Consumption and food pairing</td>\n",
       "      <td>...</td>\n",
       "      <td>1327251761040592900</td>\n",
       "      <td>236</td>\n",
       "      <td>816</td>\n",
       "      <td>1</td>\n",
       "      <td>NaN</td>\n",
       "      <td>0</td>\n",
       "      <td>NaN</td>\n",
       "      <td>1864</td>\n",
       "      <td>False</td>\n",
       "      <td>73</td>\n",
       "    </tr>\n",
       "    <tr>\n",
       "      <th>2</th>\n",
       "      <td>2021-11-20 21:09:54.000</td>\n",
       "      <td>Watching In Brugges and not opening the big bo...</td>\n",
       "      <td>negative</td>\n",
       "      <td>Joy</td>\n",
       "      <td>GBR.North East</td>\n",
       "      <td>North East England</td>\n",
       "      <td>GBR.North East.Newcastle</td>\n",
       "      <td>individual</td>\n",
       "      <td>chris_wilkin</td>\n",
       "      <td>Consumption and food pairing</td>\n",
       "      <td>...</td>\n",
       "      <td>28124440</td>\n",
       "      <td>561</td>\n",
       "      <td>393</td>\n",
       "      <td>2</td>\n",
       "      <td>NaN</td>\n",
       "      <td>0</td>\n",
       "      <td>NaN</td>\n",
       "      <td>24473</td>\n",
       "      <td>False</td>\n",
       "      <td>2259</td>\n",
       "    </tr>\n",
       "    <tr>\n",
       "      <th>3</th>\n",
       "      <td>2022-03-12 18:44:09.000</td>\n",
       "      <td>@jules_wink Fist time I ordered a Leffe, I dra...</td>\n",
       "      <td>negative</td>\n",
       "      <td>Joy</td>\n",
       "      <td>NaN</td>\n",
       "      <td>NaN</td>\n",
       "      <td>NaN</td>\n",
       "      <td>individual</td>\n",
       "      <td>BiscuitVanGuy</td>\n",
       "      <td>Opinions</td>\n",
       "      <td>...</td>\n",
       "      <td>938512271076098051</td>\n",
       "      <td>820</td>\n",
       "      <td>1066</td>\n",
       "      <td>0</td>\n",
       "      <td>NaN</td>\n",
       "      <td>0</td>\n",
       "      <td>NaN</td>\n",
       "      <td>3623</td>\n",
       "      <td>False</td>\n",
       "      <td>0</td>\n",
       "    </tr>\n",
       "    <tr>\n",
       "      <th>4</th>\n",
       "      <td>2022-01-20 18:11:03.000</td>\n",
       "      <td>This is lovely!! - Drinking a Leffe Blonde / B...</td>\n",
       "      <td>positive</td>\n",
       "      <td>Love</td>\n",
       "      <td>GBR.South East</td>\n",
       "      <td>South East England</td>\n",
       "      <td>GBR.South East.Reading</td>\n",
       "      <td>individual</td>\n",
       "      <td>ETumman</td>\n",
       "      <td>Consumption and food pairing</td>\n",
       "      <td>...</td>\n",
       "      <td>976320427</td>\n",
       "      <td>126</td>\n",
       "      <td>180</td>\n",
       "      <td>0</td>\n",
       "      <td>NaN</td>\n",
       "      <td>0</td>\n",
       "      <td>NaN</td>\n",
       "      <td>4342</td>\n",
       "      <td>False</td>\n",
       "      <td>0</td>\n",
       "    </tr>\n",
       "    <tr>\n",
       "      <th>...</th>\n",
       "      <td>...</td>\n",
       "      <td>...</td>\n",
       "      <td>...</td>\n",
       "      <td>...</td>\n",
       "      <td>...</td>\n",
       "      <td>...</td>\n",
       "      <td>...</td>\n",
       "      <td>...</td>\n",
       "      <td>...</td>\n",
       "      <td>...</td>\n",
       "      <td>...</td>\n",
       "      <td>...</td>\n",
       "      <td>...</td>\n",
       "      <td>...</td>\n",
       "      <td>...</td>\n",
       "      <td>...</td>\n",
       "      <td>...</td>\n",
       "      <td>...</td>\n",
       "      <td>...</td>\n",
       "      <td>...</td>\n",
       "      <td>...</td>\n",
       "    </tr>\n",
       "    <tr>\n",
       "      <th>145</th>\n",
       "      <td>2022-07-01 19:24:57.000</td>\n",
       "      <td>@Beathhigh Always Leffe 😎</td>\n",
       "      <td>neutral</td>\n",
       "      <td>Joy</td>\n",
       "      <td>NaN</td>\n",
       "      <td>NaN</td>\n",
       "      <td>NaN</td>\n",
       "      <td>individual</td>\n",
       "      <td>ScapaSteve</td>\n",
       "      <td>Dislike to taste/ Complaints</td>\n",
       "      <td>...</td>\n",
       "      <td>41367356</td>\n",
       "      <td>231</td>\n",
       "      <td>276</td>\n",
       "      <td>0</td>\n",
       "      <td>NaN</td>\n",
       "      <td>0</td>\n",
       "      <td>NaN</td>\n",
       "      <td>21500</td>\n",
       "      <td>False</td>\n",
       "      <td>0</td>\n",
       "    </tr>\n",
       "    <tr>\n",
       "      <th>146</th>\n",
       "      <td>2023-04-07 16:56:20.000</td>\n",
       "      <td>Biggest win and strongest performance to date ...</td>\n",
       "      <td>positive</td>\n",
       "      <td>Joy</td>\n",
       "      <td>GBR.East</td>\n",
       "      <td>East England</td>\n",
       "      <td>GBR.East.Norwich</td>\n",
       "      <td>individual</td>\n",
       "      <td>Rob_Walker75</td>\n",
       "      <td>Consumption and food pairing</td>\n",
       "      <td>...</td>\n",
       "      <td>808659382783344640</td>\n",
       "      <td>349</td>\n",
       "      <td>223</td>\n",
       "      <td>2</td>\n",
       "      <td>NaN</td>\n",
       "      <td>0</td>\n",
       "      <td>12.0</td>\n",
       "      <td>795</td>\n",
       "      <td>False</td>\n",
       "      <td>1797</td>\n",
       "    </tr>\n",
       "    <tr>\n",
       "      <th>147</th>\n",
       "      <td>2022-08-24 19:38:23.000</td>\n",
       "      <td>Just ate some truly epic homemade chicken wing...</td>\n",
       "      <td>positive</td>\n",
       "      <td>Joy</td>\n",
       "      <td>NaN</td>\n",
       "      <td>NaN</td>\n",
       "      <td>NaN</td>\n",
       "      <td>individual</td>\n",
       "      <td>Victoria_Knits</td>\n",
       "      <td>Consumption and food pairing</td>\n",
       "      <td>...</td>\n",
       "      <td>1275794852437950464</td>\n",
       "      <td>1732</td>\n",
       "      <td>322</td>\n",
       "      <td>1</td>\n",
       "      <td>NaN</td>\n",
       "      <td>1</td>\n",
       "      <td>NaN</td>\n",
       "      <td>14573</td>\n",
       "      <td>False</td>\n",
       "      <td>2806</td>\n",
       "    </tr>\n",
       "    <tr>\n",
       "      <th>148</th>\n",
       "      <td>2021-02-18 18:01:37.000</td>\n",
       "      <td>Photo of my empty leffe glass aimed at the TV ...</td>\n",
       "      <td>positive</td>\n",
       "      <td>Joy</td>\n",
       "      <td>GBR.North West</td>\n",
       "      <td>North West England</td>\n",
       "      <td>GBR.North West.Manchester</td>\n",
       "      <td>individual</td>\n",
       "      <td>stefano3</td>\n",
       "      <td>Consumption and food pairing</td>\n",
       "      <td>...</td>\n",
       "      <td>6342462</td>\n",
       "      <td>2959</td>\n",
       "      <td>4169</td>\n",
       "      <td>2</td>\n",
       "      <td>NaN</td>\n",
       "      <td>0</td>\n",
       "      <td>NaN</td>\n",
       "      <td>188864</td>\n",
       "      <td>False</td>\n",
       "      <td>4703</td>\n",
       "    </tr>\n",
       "    <tr>\n",
       "      <th>149</th>\n",
       "      <td>2022-03-23 20:11:46.000</td>\n",
       "      <td>@pubester you love a Leffe you mate!!</td>\n",
       "      <td>positive</td>\n",
       "      <td>Joy</td>\n",
       "      <td>GBR.East Midlands</td>\n",
       "      <td>East Midlands</td>\n",
       "      <td>GBR.East Midlands.Northampton</td>\n",
       "      <td>individual</td>\n",
       "      <td>JamietheBlue1</td>\n",
       "      <td>Favorite/Preference</td>\n",
       "      <td>...</td>\n",
       "      <td>1432705381134917648</td>\n",
       "      <td>242</td>\n",
       "      <td>421</td>\n",
       "      <td>0</td>\n",
       "      <td>NaN</td>\n",
       "      <td>0</td>\n",
       "      <td>NaN</td>\n",
       "      <td>1366</td>\n",
       "      <td>False</td>\n",
       "      <td>0</td>\n",
       "    </tr>\n",
       "  </tbody>\n",
       "</table>\n",
       "<p>150 rows × 35 columns</p>\n",
       "</div>"
      ],
      "text/plain": [
       "                        Date  \\\n",
       "0    2021-10-01 20:40:13.000   \n",
       "1    2021-03-15 21:59:55.000   \n",
       "2    2021-11-20 21:09:54.000   \n",
       "3    2022-03-12 18:44:09.000   \n",
       "4    2022-01-20 18:11:03.000   \n",
       "..                       ...   \n",
       "145  2022-07-01 19:24:57.000   \n",
       "146  2023-04-07 16:56:20.000   \n",
       "147  2022-08-24 19:38:23.000   \n",
       "148  2021-02-18 18:01:37.000   \n",
       "149  2022-03-23 20:11:46.000   \n",
       "\n",
       "                                Social Mention/Comment Sentiment Emotion  \\\n",
       "0              @R1100GSBlueNose I'm on the Leffe. Yum!  positive     Joy   \n",
       "1    @vonney88 No difference in taste at all, first...   neutral   Anger   \n",
       "2    Watching In Brugges and not opening the big bo...  negative     Joy   \n",
       "3    @jules_wink Fist time I ordered a Leffe, I dra...  negative     Joy   \n",
       "4    This is lovely!! - Drinking a Leffe Blonde / B...  positive    Love   \n",
       "..                                                 ...       ...     ...   \n",
       "145                          @Beathhigh Always Leffe 😎   neutral     Joy   \n",
       "146  Biggest win and strongest performance to date ...  positive     Joy   \n",
       "147  Just ate some truly epic homemade chicken wing...  positive     Joy   \n",
       "148  Photo of my empty leffe glass aimed at the TV ...  positive     Joy   \n",
       "149              @pubester you love a Leffe you mate!!  positive     Joy   \n",
       "\n",
       "           Region Code              Region                      City Code  \\\n",
       "0       GBR.North West  North West England       GBR.North West.Liverpool   \n",
       "1                  NaN                 NaN                            NaN   \n",
       "2       GBR.North East  North East England       GBR.North East.Newcastle   \n",
       "3                  NaN                 NaN                            NaN   \n",
       "4       GBR.South East  South East England         GBR.South East.Reading   \n",
       "..                 ...                 ...                            ...   \n",
       "145                NaN                 NaN                            NaN   \n",
       "146           GBR.East        East England               GBR.East.Norwich   \n",
       "147                NaN                 NaN                            NaN   \n",
       "148     GBR.North West  North West England      GBR.North West.Manchester   \n",
       "149  GBR.East Midlands       East Midlands  GBR.East Midlands.Northampton   \n",
       "\n",
       "    Account Type          Author              Category Details  ...  \\\n",
       "0     individual  ChrisScanlan13           Favorite/Preference  ...   \n",
       "1     individual        fitzy_ge  Consumption and food pairing  ...   \n",
       "2     individual    chris_wilkin  Consumption and food pairing  ...   \n",
       "3     individual   BiscuitVanGuy                      Opinions  ...   \n",
       "4     individual         ETumman  Consumption and food pairing  ...   \n",
       "..           ...             ...                           ...  ...   \n",
       "145   individual      ScapaSteve  Dislike to taste/ Complaints  ...   \n",
       "146   individual    Rob_Walker75  Consumption and food pairing  ...   \n",
       "147   individual  Victoria_Knits  Consumption and food pairing  ...   \n",
       "148   individual        stefano3  Consumption and food pairing  ...   \n",
       "149   individual   JamietheBlue1           Favorite/Preference  ...   \n",
       "\n",
       "       Twitter Author ID Twitter Followers Twitter Following  \\\n",
       "0    1252181417926307840                12                23   \n",
       "1    1327251761040592900               236               816   \n",
       "2               28124440               561               393   \n",
       "3     938512271076098051               820              1066   \n",
       "4              976320427               126               180   \n",
       "..                   ...               ...               ...   \n",
       "145             41367356               231               276   \n",
       "146   808659382783344640               349               223   \n",
       "147  1275794852437950464              1732               322   \n",
       "148              6342462              2959              4169   \n",
       "149  1432705381134917648               242               421   \n",
       "\n",
       "    Twitter Reply Count  Twitter Retweet of  Twitter Retweets Twitter Likes  \\\n",
       "0                     0                 NaN                 0           NaN   \n",
       "1                     1                 NaN                 0           NaN   \n",
       "2                     2                 NaN                 0           NaN   \n",
       "3                     0                 NaN                 0           NaN   \n",
       "4                     0                 NaN                 0           NaN   \n",
       "..                  ...                 ...               ...           ...   \n",
       "145                   0                 NaN                 0           NaN   \n",
       "146                   2                 NaN                 0          12.0   \n",
       "147                   1                 NaN                 1           NaN   \n",
       "148                   2                 NaN                 0           NaN   \n",
       "149                   0                 NaN                 0           NaN   \n",
       "\n",
       "    Twitter Tweets Twitter Verified Reach (new)  \n",
       "0             1197            False           0  \n",
       "1             1864            False          73  \n",
       "2            24473            False        2259  \n",
       "3             3623            False           0  \n",
       "4             4342            False           0  \n",
       "..             ...              ...         ...  \n",
       "145          21500            False           0  \n",
       "146            795            False        1797  \n",
       "147          14573            False        2806  \n",
       "148         188864            False        4703  \n",
       "149           1366            False           0  \n",
       "\n",
       "[150 rows x 35 columns]"
      ]
     },
     "execution_count": 24,
     "metadata": {},
     "output_type": "execute_result"
    }
   ],
   "source": [
    "df"
   ]
  },
  {
   "cell_type": "code",
   "execution_count": 119,
   "metadata": {},
   "outputs": [
    {
     "data": {
      "image/png": "[encoded data removed]",
      "text/plain": [
       "<Figure size 432x288 with 1 Axes>"
      ]
     },
     "metadata": {},
     "output_type": "display_data"
    }
   ],
   "source": [
    "import matplotlib.pyplot as plt\n",
    "\n",
    "# Your data\n",
    "# emotions = ['Joy', 'Love', 'Anger', 'Sadness', 'Fear', 'Disgust', 'Surprise']\n",
    "# counts = [71, 28, 25, 22, 2, 1, 1]\n",
    "\n",
    "# Joy         71\n",
    "# Love        28\n",
    "# Anger       25\n",
    "# Sadness     22\n",
    "# Fear         2\n",
    "# Disgust      1\n",
    "# Surprise     1\n",
    "emotions = ['Joy', 'Surprise', 'Love', 'Disgust', 'Anger','Sadness', 'Fear']\n",
    "counts = [71, 1, 28, 1, 25, 22, 2]\n",
    "\n",
    "# Explode the 'Joy' slice\n",
    "explode = (0.1, 0.1, 0.1, 0.1, 0.1, 0.1, 0.1)\n",
    "\n",
    "# Plotting the pie chart with exploded slice\n",
    "plt.pie(counts, labels=emotions, autopct='%1.1f%%', startangle=140, explode=explode, colors=['yellow', 'orange', 'pink', 'darkred', 'red', 'blue', 'purple'],textprops={'color': 'black'})\n",
    "\n",
    "# Adding a title\n",
    "plt.title('Emotion Distribution', fontsize=16, fontweight='bold', pad=30)\n",
    "# Display the plot\n",
    "plt.show()\n"
   ]
  },
  {
   "cell_type": "code",
   "execution_count": 118,
   "metadata": {},
   "outputs": [
    {
     "data": {
      "image/png": "[encoded data removed]",
      "text/plain": [
       "<Figure size 432x288 with 1 Axes>"
      ]
     },
     "metadata": {},
     "output_type": "display_data"
    }
   ],
   "source": [
    "import matplotlib.pyplot as plt\n",
    "\n",
    "# Assuming you have defined the explode variable\n",
    "explode = (0.1, 0.1, 0.1, 0.1, 0.1, 0.1, 0.1)\n",
    "\n",
    "# Create the pie chart\n",
    "plt.pie(df['Category Details'].value_counts(), \n",
    "        labels=df['Category Details'].value_counts().index, \n",
    "        autopct='%1.1f%%', \n",
    "        startangle=140, \n",
    "        explode=explode, \n",
    "        colors=['green', 'red', 'orange', 'blue', 'purple', 'brown', 'pink'], \n",
    "        wedgeprops=dict(width=0.9, edgecolor='white'),  # Set the background color\n",
    "        textprops={'color': 'black'})  # Set the text color\n",
    "\n",
    "# Display the pie chart\n",
    "plt.title('Reasons for consumption(Fig.2)', fontsize=16, fontweight='bold', pad=30, color='black')\n",
    "plt.show()\n"
   ]
  },
  {
   "cell_type": "code",
   "execution_count": 38,
   "metadata": {},
   "outputs": [
    {
     "data": {
      "text/html": [
       "<div>\n",
       "<style scoped>\n",
       "    .dataframe tbody tr th:only-of-type {\n",
       "        vertical-align: middle;\n",
       "    }\n",
       "\n",
       "    .dataframe tbody tr th {\n",
       "        vertical-align: top;\n",
       "    }\n",
       "\n",
       "    .dataframe thead th {\n",
       "        text-align: right;\n",
       "    }\n",
       "</style>\n",
       "<table border=\"1\" class=\"dataframe\">\n",
       "  <thead>\n",
       "    <tr style=\"text-align: right;\">\n",
       "      <th></th>\n",
       "      <th>Date</th>\n",
       "      <th>Social Mention/Comment</th>\n",
       "      <th>Sentiment</th>\n",
       "      <th>Emotion</th>\n",
       "      <th>Region Code</th>\n",
       "      <th>Region</th>\n",
       "      <th>City Code</th>\n",
       "      <th>Account Type</th>\n",
       "      <th>Author</th>\n",
       "      <th>Category Details</th>\n",
       "      <th>...</th>\n",
       "      <th>Twitter Author ID</th>\n",
       "      <th>Twitter Followers</th>\n",
       "      <th>Twitter Following</th>\n",
       "      <th>Twitter Reply Count</th>\n",
       "      <th>Twitter Retweet of</th>\n",
       "      <th>Twitter Retweets</th>\n",
       "      <th>Twitter Likes</th>\n",
       "      <th>Twitter Tweets</th>\n",
       "      <th>Twitter Verified</th>\n",
       "      <th>Reach (new)</th>\n",
       "    </tr>\n",
       "  </thead>\n",
       "  <tbody>\n",
       "    <tr>\n",
       "      <th>0</th>\n",
       "      <td>2021-10-01 20:40:13.000</td>\n",
       "      <td>@R1100GSBlueNose I'm on the Leffe. Yum!</td>\n",
       "      <td>positive</td>\n",
       "      <td>Joy</td>\n",
       "      <td>GBR.North West</td>\n",
       "      <td>North West England</td>\n",
       "      <td>GBR.North West.Liverpool</td>\n",
       "      <td>individual</td>\n",
       "      <td>ChrisScanlan13</td>\n",
       "      <td>Favorite/Preference</td>\n",
       "      <td>...</td>\n",
       "      <td>1252181417926307840</td>\n",
       "      <td>12</td>\n",
       "      <td>23</td>\n",
       "      <td>0</td>\n",
       "      <td>NaN</td>\n",
       "      <td>0</td>\n",
       "      <td>NaN</td>\n",
       "      <td>1197</td>\n",
       "      <td>False</td>\n",
       "      <td>0</td>\n",
       "    </tr>\n",
       "    <tr>\n",
       "      <th>1</th>\n",
       "      <td>2021-03-15 21:59:55.000</td>\n",
       "      <td>@vonney88 No difference in taste at all, first...</td>\n",
       "      <td>neutral</td>\n",
       "      <td>Anger</td>\n",
       "      <td>NaN</td>\n",
       "      <td>NaN</td>\n",
       "      <td>NaN</td>\n",
       "      <td>individual</td>\n",
       "      <td>fitzy_ge</td>\n",
       "      <td>Consumption and food pairing</td>\n",
       "      <td>...</td>\n",
       "      <td>1327251761040592900</td>\n",
       "      <td>236</td>\n",
       "      <td>816</td>\n",
       "      <td>1</td>\n",
       "      <td>NaN</td>\n",
       "      <td>0</td>\n",
       "      <td>NaN</td>\n",
       "      <td>1864</td>\n",
       "      <td>False</td>\n",
       "      <td>73</td>\n",
       "    </tr>\n",
       "    <tr>\n",
       "      <th>2</th>\n",
       "      <td>2021-11-20 21:09:54.000</td>\n",
       "      <td>Watching In Brugges and not opening the big bo...</td>\n",
       "      <td>negative</td>\n",
       "      <td>Joy</td>\n",
       "      <td>GBR.North East</td>\n",
       "      <td>North East England</td>\n",
       "      <td>GBR.North East.Newcastle</td>\n",
       "      <td>individual</td>\n",
       "      <td>chris_wilkin</td>\n",
       "      <td>Consumption and food pairing</td>\n",
       "      <td>...</td>\n",
       "      <td>28124440</td>\n",
       "      <td>561</td>\n",
       "      <td>393</td>\n",
       "      <td>2</td>\n",
       "      <td>NaN</td>\n",
       "      <td>0</td>\n",
       "      <td>NaN</td>\n",
       "      <td>24473</td>\n",
       "      <td>False</td>\n",
       "      <td>2259</td>\n",
       "    </tr>\n",
       "    <tr>\n",
       "      <th>3</th>\n",
       "      <td>2022-03-12 18:44:09.000</td>\n",
       "      <td>@jules_wink Fist time I ordered a Leffe, I dra...</td>\n",
       "      <td>negative</td>\n",
       "      <td>Joy</td>\n",
       "      <td>NaN</td>\n",
       "      <td>NaN</td>\n",
       "      <td>NaN</td>\n",
       "      <td>individual</td>\n",
       "      <td>BiscuitVanGuy</td>\n",
       "      <td>Opinions</td>\n",
       "      <td>...</td>\n",
       "      <td>938512271076098051</td>\n",
       "      <td>820</td>\n",
       "      <td>1066</td>\n",
       "      <td>0</td>\n",
       "      <td>NaN</td>\n",
       "      <td>0</td>\n",
       "      <td>NaN</td>\n",
       "      <td>3623</td>\n",
       "      <td>False</td>\n",
       "      <td>0</td>\n",
       "    </tr>\n",
       "    <tr>\n",
       "      <th>4</th>\n",
       "      <td>2022-01-20 18:11:03.000</td>\n",
       "      <td>This is lovely!! - Drinking a Leffe Blonde / B...</td>\n",
       "      <td>positive</td>\n",
       "      <td>Love</td>\n",
       "      <td>GBR.South East</td>\n",
       "      <td>South East England</td>\n",
       "      <td>GBR.South East.Reading</td>\n",
       "      <td>individual</td>\n",
       "      <td>ETumman</td>\n",
       "      <td>Consumption and food pairing</td>\n",
       "      <td>...</td>\n",
       "      <td>976320427</td>\n",
       "      <td>126</td>\n",
       "      <td>180</td>\n",
       "      <td>0</td>\n",
       "      <td>NaN</td>\n",
       "      <td>0</td>\n",
       "      <td>NaN</td>\n",
       "      <td>4342</td>\n",
       "      <td>False</td>\n",
       "      <td>0</td>\n",
       "    </tr>\n",
       "  </tbody>\n",
       "</table>\n",
       "<p>5 rows × 35 columns</p>\n",
       "</div>"
      ],
      "text/plain": [
       "                      Date                             Social Mention/Comment  \\\n",
       "0  2021-10-01 20:40:13.000            @R1100GSBlueNose I'm on the Leffe. Yum!   \n",
       "1  2021-03-15 21:59:55.000  @vonney88 No difference in taste at all, first...   \n",
       "2  2021-11-20 21:09:54.000  Watching In Brugges and not opening the big bo...   \n",
       "3  2022-03-12 18:44:09.000  @jules_wink Fist time I ordered a Leffe, I dra...   \n",
       "4  2022-01-20 18:11:03.000  This is lovely!! - Drinking a Leffe Blonde / B...   \n",
       "\n",
       "  Sentiment Emotion     Region Code              Region  \\\n",
       "0  positive     Joy  GBR.North West  North West England   \n",
       "1   neutral   Anger             NaN                 NaN   \n",
       "2  negative     Joy  GBR.North East  North East England   \n",
       "3  negative     Joy             NaN                 NaN   \n",
       "4  positive    Love  GBR.South East  South East England   \n",
       "\n",
       "                  City Code Account Type          Author  \\\n",
       "0  GBR.North West.Liverpool   individual  ChrisScanlan13   \n",
       "1                       NaN   individual        fitzy_ge   \n",
       "2  GBR.North East.Newcastle   individual    chris_wilkin   \n",
       "3                       NaN   individual   BiscuitVanGuy   \n",
       "4    GBR.South East.Reading   individual         ETumman   \n",
       "\n",
       "               Category Details  ...    Twitter Author ID Twitter Followers  \\\n",
       "0           Favorite/Preference  ...  1252181417926307840                12   \n",
       "1  Consumption and food pairing  ...  1327251761040592900               236   \n",
       "2  Consumption and food pairing  ...             28124440               561   \n",
       "3                      Opinions  ...   938512271076098051               820   \n",
       "4  Consumption and food pairing  ...            976320427               126   \n",
       "\n",
       "  Twitter Following Twitter Reply Count  Twitter Retweet of  Twitter Retweets  \\\n",
       "0                23                   0                 NaN                 0   \n",
       "1               816                   1                 NaN                 0   \n",
       "2               393                   2                 NaN                 0   \n",
       "3              1066                   0                 NaN                 0   \n",
       "4               180                   0                 NaN                 0   \n",
       "\n",
       "  Twitter Likes Twitter Tweets Twitter Verified Reach (new)  \n",
       "0           NaN           1197            False           0  \n",
       "1           NaN           1864            False          73  \n",
       "2           NaN          24473            False        2259  \n",
       "3           NaN           3623            False           0  \n",
       "4           NaN           4342            False           0  \n",
       "\n",
       "[5 rows x 35 columns]"
      ]
     },
     "execution_count": 38,
     "metadata": {},
     "output_type": "execute_result"
    }
   ],
   "source": [
    "df.head()"
   ]
  },
  {
   "cell_type": "code",
   "execution_count": null,
   "metadata": {},
   "outputs": [],
   "source": []
  },
  {
   "cell_type": "code",
   "execution_count": 47,
   "metadata": {},
   "outputs": [
    {
     "data": {
      "text/plain": [
       "holiday\n",
       "No holiday or festival                 146\n",
       "State Funeral of Queen Elizabeth II      1\n",
       "New Year's Day                           1\n",
       "Boxing Day                               1\n",
       "Good Friday                              1\n",
       "Name: count, dtype: int64"
      ]
     },
     "execution_count": 47,
     "metadata": {},
     "output_type": "execute_result"
    }
   ],
   "source": [
    "import holidays\n",
    "import pandas as pd\n",
    "\n",
    "\n",
    "df['Date'] = pd.to_datetime(df['Date'])\n",
    "\n",
    "# Get the holidays for the United Kingdom\n",
    "uk_holidays = holidays.UnitedKingdom(years=df['Date'].dt.year)\n",
    "\n",
    "# Function to check if a date is a holiday or festival\n",
    "def find_holiday(date):\n",
    "    # Check if the date is a holiday\n",
    "    holiday = uk_holidays.get(date)\n",
    "    if holiday:\n",
    "        return holiday\n",
    "\n",
    "    # If no holiday or festival found\n",
    "    return 'No holiday or festival'\n",
    "\n",
    "# Apply the function to create a new column with the holiday names\n",
    "df['holiday'] = df['Date'].apply(find_holiday)\n",
    "\n",
    "df['holiday'].value_counts()\n"
   ]
  },
  {
   "cell_type": "code",
   "execution_count": 122,
   "metadata": {},
   "outputs": [
    {
     "name": "stderr",
     "output_type": "stream",
     "text": [
      "C:\\Users\\Sahas Vivek\\AppData\\Local\\Temp\\ipykernel_35320\\2543155098.py:19: FutureWarning: Series.__getitem__ treating keys as positions is deprecated. In a future version, integer keys will always be treated as labels (consistent with DataFrame behavior). To access a value by position, use `ser.iloc[pos]`\n",
      "  plt.text(i, count + 1, f'{sentiment_percentages[i]:.2f}%', ha='center', va='bottom', fontsize=10)\n"
     ]
    },
    {
     "data": {
      "image/png": "[encoded data removed]",
      "text/plain": [
       "<Figure size 720x432 with 1 Axes>"
      ]
     },
     "metadata": {
      "needs_background": "light"
     },
     "output_type": "display_data"
    }
   ],
   "source": [
    "import matplotlib.pyplot as plt\n",
    "\n",
    "# Count the occurrences of each sentiment\n",
    "sentiment_counts = df['Sentiment'].value_counts()\n",
    "\n",
    "# Calculate the percentage for each sentiment\n",
    "total_tweets = len(df)\n",
    "sentiment_percentages = (sentiment_counts / total_tweets) * 100\n",
    "\n",
    "# Plot the bar graph\n",
    "sentiment_counts.plot(kind='bar', color=['lightblue', 'green', 'red'], figsize=(10, 6))\n",
    "\n",
    "# Add labels and title\n",
    "plt.xlabel('Sentiment', labelpad=10, fontweight='bold')  # Adjust labelpad and fontweight\n",
    "plt.ylabel('Percentage of Tweets', labelpad=10, fontweight='bold')\n",
    "\n",
    "# Add the percentage values on top of the bars\n",
    "for i, count in enumerate(sentiment_counts):\n",
    "    plt.text(i, count + 1, f'{sentiment_percentages[i]:.2f}%', ha='center', va='bottom', fontsize=10)\n",
    "\n",
    "# Show the plot\n",
    "plt.xticks(rotation=0)\n",
    "plt.ylim(0, sentiment_counts.max() + 20)\n",
    "plt.show()\n"
   ]
  },
  {
   "cell_type": "code",
   "execution_count": 90,
   "metadata": {},
   "outputs": [
    {
     "data": {
      "image/png": "[encoded data removed]",
      "text/plain": [
       "<Figure size 864x432 with 1 Axes>"
      ]
     },
     "metadata": {
      "needs_background": "light"
     },
     "output_type": "display_data"
    }
   ],
   "source": [
    "import pandas as pd\n",
    "import matplotlib.pyplot as plt\n",
    "\n",
    "# Assuming df is your DataFrame with columns 'Date' and 'Emotion'\n",
    "# If 'Date' is not in datetime format, convert it\n",
    "df['Date'] = pd.to_datetime(df['Date'])\n",
    "\n",
    "# Extract the year from the 'Date' column\n",
    "df['Year'] = df['Date'].dt.year\n",
    "\n",
    "colors = {'Anger': 'red', 'Disgust': 'darkred', 'Joy': 'yellow', 'Sadness': 'blue', 'Love': 'pink', 'Fear': 'purple'}\n",
    "\n",
    "# Count occurrences of each emotion in each year\n",
    "emotion_counts = df.groupby(['Year', 'Emotion']).size().unstack(fill_value=0)\n",
    "\n",
    "# Plot the bar graph\n",
    "ax = emotion_counts.plot(kind='bar', figsize=(12, 6), width=0.8, color=[colors[col] for col in emotion_counts.columns])\n",
    "\n",
    "# Add labels and title\n",
    "plt.xlabel('Year', labelpad=10, fontweight='bold',fontsize=14)  # Adjust labelpad and fontweight\n",
    "plt.ylabel('Emotion count', labelpad=10, fontweight='bold',fontsize=14)\n",
    "plt.title('Emotions Over Years')\n",
    "plt.legend(title='Emotion', bbox_to_anchor=(1, 1))\n",
    "plt.ylim(0, max(emotion_counts.max())+20)\n",
    "plt.xticks(rotation=0)\n",
    "plt.title('Emotion over the years', fontsize=16, fontweight='bold', pad=30)\n",
    "# Show the plot\n",
    "plt.show()\n"
   ]
  },
  {
   "cell_type": "code",
   "execution_count": 109,
   "metadata": {},
   "outputs": [
    {
     "data": {
      "image/png": "[encoded data removed]",
      "text/plain": [
       "<Figure size 576x432 with 1 Axes>"
      ]
     },
     "metadata": {
      "needs_background": "light"
     },
     "output_type": "display_data"
    }
   ],
   "source": [
    "# Convert 'Date' column to datetime format\n",
    "df['Date'] = pd.to_datetime(df['Date'])\n",
    "\n",
    "# Create a new column 'Day' with the day of the week\n",
    "df['Day'] = df['Date'].dt.day_name()\n",
    "\n",
    "# Define the order of days\n",
    "day_order = ['Monday', 'Tuesday', 'Wednesday', 'Thursday', 'Friday', 'Saturday', 'Sunday']\n",
    "\n",
    "# Calculate the percentage of occurrences for each day\n",
    "day_percentage = df['Day'].value_counts(normalize=True) * 100\n",
    "\n",
    "# Plot the bar graph with specified order\n",
    "day_percentage[day_order].plot(kind='bar', color='skyblue', figsize=(8, 6))\n",
    "\n",
    "# Add labels and title\n",
    "plt.xlabel('Day', labelpad=10, fontweight='bold', fontsize=14)\n",
    "plt.xticks(rotation=0)\n",
    "plt.ylim(0, 30)\n",
    "plt.ylabel('Percentage', labelpad=10, fontweight='bold', fontsize=14)\n",
    "plt.title('Percentage of Occurrences for Each Day', fontsize=16, fontweight='bold', pad=20)\n",
    "\n",
    "# Display the percentages on top of each bar\n",
    "for idx, value in enumerate(day_percentage[day_order]):\n",
    "    plt.text(idx, value + 1, f'{value:.1f}%', ha='center', va='bottom')\n",
    "\n",
    "# Show the plot\n",
    "plt.show()\n"
   ]
  },
  {
   "cell_type": "code",
   "execution_count": 148,
   "metadata": {},
   "outputs": [
    {
     "data": {
      "text/plain": [
       "Region Code\n",
       "GBR.Greater London                18\n",
       "GBR.South East                    15\n",
       "GBR.North West                    14\n",
       "GBR.East                          12\n",
       "GBR.South Western                 10\n",
       "GBR.Yorkshire and the Humber       9\n",
       "GBR.South West                     8\n",
       "GBR.North East                     6\n",
       "GBR.West Midlands                  6\n",
       "GBR.Eastern                        5\n",
       "GBR.East Midlands                  4\n",
       "GBR.Northern Ireland               3\n",
       "GBR.West Wales and the Valleys     3\n",
       "GBR.Highlands and Islands          2\n",
       "GBR.East Wales                     1\n",
       "Name: count, dtype: int64"
      ]
     },
     "execution_count": 148,
     "metadata": {},
     "output_type": "execute_result"
    }
   ],
   "source": [
    "df['Region Code'].value_counts()"
   ]
  },
  {
   "cell_type": "code",
   "execution_count": null,
   "metadata": {},
   "outputs": [],
   "source": []
  },
  {
   "cell_type": "code",
   "execution_count": 160,
   "metadata": {},
   "outputs": [
    {
     "data": {
      "text/plain": [
       "Index(['Date', 'Social Mention/Comment', 'Sentiment', 'Emotion', 'Region Code',\n",
       "       'Region', 'City Code', 'Account Type', 'Author', 'Category Details',\n",
       "       'City', 'Full Name', 'Gender', 'Hashtags', 'Impact', 'Impressions',\n",
       "       'Interest', 'Location Name', 'Mentioned Authors', 'Professions', 'Tags',\n",
       "       'Thread Author', 'Thread Created Date', 'Thread Entry Type',\n",
       "       'Thread Id', 'Twitter Author ID', 'Twitter Followers',\n",
       "       'Twitter Following', 'Twitter Reply Count', 'Twitter Retweet of',\n",
       "       'Twitter Retweets', 'Twitter Likes', 'Twitter Tweets',\n",
       "       'Twitter Verified', 'Reach (new)', 'holiday', 'Year', 'Day',\n",
       "       'IsWeekend'],\n",
       "      dtype='object')"
      ]
     },
     "execution_count": 160,
     "metadata": {},
     "output_type": "execute_result"
    }
   ],
   "source": [
    "df.columns"
   ]
  },
  {
   "cell_type": "code",
   "execution_count": 177,
   "metadata": {},
   "outputs": [
    {
     "data": {
      "text/plain": [
       "Tags\n",
       "Aperitivo & Drinks _ Italy, AB InBev_EU, Aperitivo & Drinks _ Spain, IBD Branded Drink_ NL, IBD Branded_BE, IBD Branded_UK, NOT RT, 100%_Beer&Alcohol_UK, Total Volume By Query Group                                                              117\n",
       "Aperitivo & Drinks _ Italy, AB InBev_EU, Aperitivo & Drinks _ Spain, IBD Branded Drink_ NL, IBD Branded_BE, IBD Branded_UK, 100%_Beer&Alcohol_UK, Total Volume By Query Group                                                                       10\n",
       "Aperitivo & Drinks _ Italy, AB InBev_EU, Aperitivo & Drinks _ Spain, Sample Tag 2, IBD Branded Drink_ NL, IBD Branded_BE, IBD Branded_UK, NOT RT, 100%_Beer&Alcohol_UK, Total Volume By Query Group                                                  5\n",
       "Aperitivo & Drinks _ Italy, AB InBev_EU, Aperitivo & Drinks _ Spain, Unfiltered Beer Competitors UK, IBD Branded Drink_ NL, IBD Branded_BE, IBD Branded_UK, NOT RT, 100%_Beer&Alcohol_UK, Total Volume By Query Group                                4\n",
       "Aperitivo & Drinks _ Italy, AB InBev_EU, Aperitivo & Drinks _ Spain, World Cup + Euro -Belgium, IBD Branded Drink_ NL, IBD Branded_BE, IBD Branded_UK, 100%_Beer&Alcohol_UK, Total Volume By Query Group                                             2\n",
       "Aperitivo & Drinks _ Italy, AB InBev_EU, Aperitivo & Drinks _ Spain, World Cup + Euro -Belgium, IBD Branded Drink_ NL, IBD Branded_BE, IBD Branded_UK, NOT RT, 100%_Beer&Alcohol_UK, Total Volume By Query Group                                     2\n",
       "Aperitivo & Drinks _ Italy, AB InBev_EU, Aperitivo & Drinks _ Spain, IBD Branded Drink_ NL, IBD Branded_BE, IBD Branded_UK, 100% food BE, NOT RT, 100%_Dairy_UK, 100%_Beer&Alcohol_UK, Total Volume By Query Group                                   2\n",
       "NOT RT, Total Volume By Query Group                                                                                                                                                                                                                  2\n",
       "World Cup + Euro -Belgium, NOT RT, Total Volume By Query Group                                                                                                                                                                                       1\n",
       "Aperitivo & Drinks _ Italy, AB InBev_EU, Aperitivo & Drinks _ Spain, hate, IBD Branded Drink_ NL, IBD Branded_BE, IBD Branded_UK, NOT RT, 100%_Beer&Alcohol_UK, Total Volume By Query Group                                                          1\n",
       "Aperitivo & Drinks _ Italy, AB InBev_EU, Aperitivo & Drinks _ Spain, IBD Branded Drink_ NL, IBD Branded_BE, IBD Branded_UK, 100% Apparel BE, NOT RT, 100%_Beer&Alcohol_UK, Total Volume By Query Group                                               1\n",
       "Aperitivo & Drinks _ Italy, AB InBev_EU, Aperitivo & Drinks _ Spain, World Cup + Euro -Belgium, IBD Branded Drink_ NL, IBD Branded_BE, IBD Branded_UK, 100% food BE, NOT RT, 100%_Dairy_UK, 100%_Beer&Alcohol_UK, Total Volume By Query Group        1\n",
       "Aperitivo & Drinks _ Italy, AB InBev_EU, Aperitivo & Drinks _ Spain, Unfiltered Beer Competitors UK, IBD Branded Drink_ NL, IBD Branded_BE, IBD Branded_UK, 100% Apparel BE, 100%_Beer&Alcohol_UK, 100%_Apparel_UK, Total Volume By Query Group      1\n",
       "Aperitivo & Drinks _ Italy, AB InBev_EU, Aperitivo & Drinks _ Spain, World Cup + Euro -Belgium, Sample Tag 2, IBD Branded Drink_ NL, IBD Branded_BE, IBD Branded_UK, NOT RT, 100%_Beer&Alcohol_UK, Total Volume By Query Group                       1\n",
       "Name: count, dtype: int64"
      ]
     },
     "execution_count": 177,
     "metadata": {},
     "output_type": "execute_result"
    }
   ],
   "source": [
    "df['Tags'].value_counts()"
   ]
  },
  {
   "cell_type": "code",
   "execution_count": 158,
   "metadata": {},
   "outputs": [
    {
     "data": {
      "image/png": "[encoded data removed]",
      "text/plain": [
       "<Figure size 720x432 with 1 Axes>"
      ]
     },
     "metadata": {
      "needs_background": "light"
     },
     "output_type": "display_data"
    }
   ],
   "source": [
    "import pandas as pd\n",
    "import matplotlib.pyplot as plt\n",
    "\n",
    "# Assuming 'df' is your DataFrame\n",
    "df['Region Code'] = df['Region Code'].astype(str)\n",
    "\n",
    "# Filter out NaN values before plotting a horizontal bar graph\n",
    "plt.figure(figsize=(10, 6))\n",
    "df['Region Code'].value_counts().dropna().plot(kind='barh', color='skyblue')\n",
    "plt.title('Region Code Distribution (Excluding NaN Values)')\n",
    "plt.xlabel('Count')\n",
    "plt.ylabel('Region Code')\n",
    "plt.show()\n"
   ]
  },
  {
   "cell_type": "code",
   "execution_count": 176,
   "metadata": {},
   "outputs": [
    {
     "name": "stderr",
     "output_type": "stream",
     "text": [
      "C:\\Users\\Sahas Vivek\\AppData\\Local\\Temp\\ipykernel_35320\\1816497625.py:11: FutureWarning: The default of observed=False is deprecated and will be changed to True in a future version of pandas. Pass observed=False to retain current behavior or observed=True to adopt the future default and silence this warning.\n",
      "  df_region_sentiment_counts = df.dropna(subset=['Sentiment']).groupby(['Region Code', 'Sentiment']).size().unstack(fill_value=0)\n"
     ]
    },
    {
     "ename": "TypeError",
     "evalue": "no numeric data to plot",
     "output_type": "error",
     "traceback": [
      "\u001b[1;31m---------------------------------------------------------------------------\u001b[0m",
      "\u001b[1;31mTypeError\u001b[0m                                 Traceback (most recent call last)",
      "\u001b[1;32m~\\AppData\\Local\\Temp\\ipykernel_35320\\1816497625.py\u001b[0m in \u001b[0;36m<module>\u001b[1;34m\u001b[0m\n\u001b[0;32m     12\u001b[0m \u001b[1;33m\u001b[0m\u001b[0m\n\u001b[0;32m     13\u001b[0m \u001b[1;31m# Plotting a bar plot\u001b[0m\u001b[1;33m\u001b[0m\u001b[1;33m\u001b[0m\u001b[0m\n\u001b[1;32m---> 14\u001b[1;33m \u001b[0mdf_region_sentiment_counts\u001b[0m\u001b[1;33m.\u001b[0m\u001b[0mplot\u001b[0m\u001b[1;33m(\u001b[0m\u001b[0mkind\u001b[0m\u001b[1;33m=\u001b[0m\u001b[1;34m'bar'\u001b[0m\u001b[1;33m,\u001b[0m \u001b[0mstacked\u001b[0m\u001b[1;33m=\u001b[0m\u001b[1;32mTrue\u001b[0m\u001b[1;33m,\u001b[0m \u001b[0mfigsize\u001b[0m\u001b[1;33m=\u001b[0m\u001b[1;33m(\u001b[0m\u001b[1;36m12\u001b[0m\u001b[1;33m,\u001b[0m \u001b[1;36m6\u001b[0m\u001b[1;33m)\u001b[0m\u001b[1;33m,\u001b[0m \u001b[0mcolormap\u001b[0m\u001b[1;33m=\u001b[0m\u001b[1;34m'viridis'\u001b[0m\u001b[1;33m)\u001b[0m\u001b[1;33m\u001b[0m\u001b[1;33m\u001b[0m\u001b[0m\n\u001b[0m\u001b[0;32m     15\u001b[0m \u001b[0mplt\u001b[0m\u001b[1;33m.\u001b[0m\u001b[0mtitle\u001b[0m\u001b[1;33m(\u001b[0m\u001b[1;34m'Sentiment Distribution by Region Code'\u001b[0m\u001b[1;33m)\u001b[0m\u001b[1;33m\u001b[0m\u001b[1;33m\u001b[0m\u001b[0m\n\u001b[0;32m     16\u001b[0m \u001b[0mplt\u001b[0m\u001b[1;33m.\u001b[0m\u001b[0mxlabel\u001b[0m\u001b[1;33m(\u001b[0m\u001b[1;34m'Region Code'\u001b[0m\u001b[1;33m)\u001b[0m\u001b[1;33m\u001b[0m\u001b[1;33m\u001b[0m\u001b[0m\n",
      "\u001b[1;32mc:\\Program Files\\Python39\\lib\\site-packages\\pandas\\plotting\\_core.py\u001b[0m in \u001b[0;36m__call__\u001b[1;34m(self, *args, **kwargs)\u001b[0m\n\u001b[0;32m   1029\u001b[0m                     \u001b[0mdata\u001b[0m\u001b[1;33m.\u001b[0m\u001b[0mcolumns\u001b[0m \u001b[1;33m=\u001b[0m \u001b[0mlabel_name\u001b[0m\u001b[1;33m\u001b[0m\u001b[1;33m\u001b[0m\u001b[0m\n\u001b[0;32m   1030\u001b[0m \u001b[1;33m\u001b[0m\u001b[0m\n\u001b[1;32m-> 1031\u001b[1;33m         \u001b[1;32mreturn\u001b[0m \u001b[0mplot_backend\u001b[0m\u001b[1;33m.\u001b[0m\u001b[0mplot\u001b[0m\u001b[1;33m(\u001b[0m\u001b[0mdata\u001b[0m\u001b[1;33m,\u001b[0m \u001b[0mkind\u001b[0m\u001b[1;33m=\u001b[0m\u001b[0mkind\u001b[0m\u001b[1;33m,\u001b[0m \u001b[1;33m**\u001b[0m\u001b[0mkwargs\u001b[0m\u001b[1;33m)\u001b[0m\u001b[1;33m\u001b[0m\u001b[1;33m\u001b[0m\u001b[0m\n\u001b[0m\u001b[0;32m   1032\u001b[0m \u001b[1;33m\u001b[0m\u001b[0m\n\u001b[0;32m   1033\u001b[0m     \u001b[0m__call__\u001b[0m\u001b[1;33m.\u001b[0m\u001b[0m__doc__\u001b[0m \u001b[1;33m=\u001b[0m \u001b[0m__doc__\u001b[0m\u001b[1;33m\u001b[0m\u001b[1;33m\u001b[0m\u001b[0m\n",
      "\u001b[1;32mc:\\Program Files\\Python39\\lib\\site-packages\\pandas\\plotting\\_matplotlib\\__init__.py\u001b[0m in \u001b[0;36mplot\u001b[1;34m(data, kind, **kwargs)\u001b[0m\n\u001b[0;32m     69\u001b[0m             \u001b[0mkwargs\u001b[0m\u001b[1;33m[\u001b[0m\u001b[1;34m\"ax\"\u001b[0m\u001b[1;33m]\u001b[0m \u001b[1;33m=\u001b[0m \u001b[0mgetattr\u001b[0m\u001b[1;33m(\u001b[0m\u001b[0max\u001b[0m\u001b[1;33m,\u001b[0m \u001b[1;34m\"left_ax\"\u001b[0m\u001b[1;33m,\u001b[0m \u001b[0max\u001b[0m\u001b[1;33m)\u001b[0m\u001b[1;33m\u001b[0m\u001b[1;33m\u001b[0m\u001b[0m\n\u001b[0;32m     70\u001b[0m     \u001b[0mplot_obj\u001b[0m \u001b[1;33m=\u001b[0m \u001b[0mPLOT_CLASSES\u001b[0m\u001b[1;33m[\u001b[0m\u001b[0mkind\u001b[0m\u001b[1;33m]\u001b[0m\u001b[1;33m(\u001b[0m\u001b[0mdata\u001b[0m\u001b[1;33m,\u001b[0m \u001b[1;33m**\u001b[0m\u001b[0mkwargs\u001b[0m\u001b[1;33m)\u001b[0m\u001b[1;33m\u001b[0m\u001b[1;33m\u001b[0m\u001b[0m\n\u001b[1;32m---> 71\u001b[1;33m     \u001b[0mplot_obj\u001b[0m\u001b[1;33m.\u001b[0m\u001b[0mgenerate\u001b[0m\u001b[1;33m(\u001b[0m\u001b[1;33m)\u001b[0m\u001b[1;33m\u001b[0m\u001b[1;33m\u001b[0m\u001b[0m\n\u001b[0m\u001b[0;32m     72\u001b[0m     \u001b[0mplot_obj\u001b[0m\u001b[1;33m.\u001b[0m\u001b[0mdraw\u001b[0m\u001b[1;33m(\u001b[0m\u001b[1;33m)\u001b[0m\u001b[1;33m\u001b[0m\u001b[1;33m\u001b[0m\u001b[0m\n\u001b[0;32m     73\u001b[0m     \u001b[1;32mreturn\u001b[0m \u001b[0mplot_obj\u001b[0m\u001b[1;33m.\u001b[0m\u001b[0mresult\u001b[0m\u001b[1;33m\u001b[0m\u001b[1;33m\u001b[0m\u001b[0m\n",
      "\u001b[1;32mc:\\Program Files\\Python39\\lib\\site-packages\\pandas\\plotting\\_matplotlib\\core.py\u001b[0m in \u001b[0;36mgenerate\u001b[1;34m(self)\u001b[0m\n\u001b[0;32m    449\u001b[0m     \u001b[1;32mdef\u001b[0m \u001b[0mgenerate\u001b[0m\u001b[1;33m(\u001b[0m\u001b[0mself\u001b[0m\u001b[1;33m)\u001b[0m \u001b[1;33m->\u001b[0m \u001b[1;32mNone\u001b[0m\u001b[1;33m:\u001b[0m\u001b[1;33m\u001b[0m\u001b[1;33m\u001b[0m\u001b[0m\n\u001b[0;32m    450\u001b[0m         \u001b[0mself\u001b[0m\u001b[1;33m.\u001b[0m\u001b[0m_args_adjust\u001b[0m\u001b[1;33m(\u001b[0m\u001b[1;33m)\u001b[0m\u001b[1;33m\u001b[0m\u001b[1;33m\u001b[0m\u001b[0m\n\u001b[1;32m--> 451\u001b[1;33m         \u001b[0mself\u001b[0m\u001b[1;33m.\u001b[0m\u001b[0m_compute_plot_data\u001b[0m\u001b[1;33m(\u001b[0m\u001b[1;33m)\u001b[0m\u001b[1;33m\u001b[0m\u001b[1;33m\u001b[0m\u001b[0m\n\u001b[0m\u001b[0;32m    452\u001b[0m         \u001b[0mself\u001b[0m\u001b[1;33m.\u001b[0m\u001b[0m_setup_subplots\u001b[0m\u001b[1;33m(\u001b[0m\u001b[1;33m)\u001b[0m\u001b[1;33m\u001b[0m\u001b[1;33m\u001b[0m\u001b[0m\n\u001b[0;32m    453\u001b[0m         \u001b[0mself\u001b[0m\u001b[1;33m.\u001b[0m\u001b[0m_make_plot\u001b[0m\u001b[1;33m(\u001b[0m\u001b[1;33m)\u001b[0m\u001b[1;33m\u001b[0m\u001b[1;33m\u001b[0m\u001b[0m\n",
      "\u001b[1;32mc:\\Program Files\\Python39\\lib\\site-packages\\pandas\\plotting\\_matplotlib\\core.py\u001b[0m in \u001b[0;36m_compute_plot_data\u001b[1;34m(self)\u001b[0m\n\u001b[0;32m    634\u001b[0m         \u001b[1;31m# no non-numeric frames or series allowed\u001b[0m\u001b[1;33m\u001b[0m\u001b[1;33m\u001b[0m\u001b[0m\n\u001b[0;32m    635\u001b[0m         \u001b[1;32mif\u001b[0m \u001b[0mis_empty\u001b[0m\u001b[1;33m:\u001b[0m\u001b[1;33m\u001b[0m\u001b[1;33m\u001b[0m\u001b[0m\n\u001b[1;32m--> 636\u001b[1;33m             \u001b[1;32mraise\u001b[0m \u001b[0mTypeError\u001b[0m\u001b[1;33m(\u001b[0m\u001b[1;34m\"no numeric data to plot\"\u001b[0m\u001b[1;33m)\u001b[0m\u001b[1;33m\u001b[0m\u001b[1;33m\u001b[0m\u001b[0m\n\u001b[0m\u001b[0;32m    637\u001b[0m \u001b[1;33m\u001b[0m\u001b[0m\n\u001b[0;32m    638\u001b[0m         \u001b[0mself\u001b[0m\u001b[1;33m.\u001b[0m\u001b[0mdata\u001b[0m \u001b[1;33m=\u001b[0m \u001b[0mnumeric_data\u001b[0m\u001b[1;33m.\u001b[0m\u001b[0mapply\u001b[0m\u001b[1;33m(\u001b[0m\u001b[0mself\u001b[0m\u001b[1;33m.\u001b[0m\u001b[0m_convert_to_ndarray\u001b[0m\u001b[1;33m)\u001b[0m\u001b[1;33m\u001b[0m\u001b[1;33m\u001b[0m\u001b[0m\n",
      "\u001b[1;31mTypeError\u001b[0m: no numeric data to plot"
     ]
    }
   ],
   "source": [
    "import pandas as pd\n",
    "import matplotlib.pyplot as plt\n",
    "\n",
    "# Assuming 'df' is your DataFrame with 'Region Code' and 'Sentiment' columns\n",
    "# Replace 'Region Code' and 'Sentiment' with your actual column names\n",
    "\n",
    "# Convert 'Sentiment' to categorical data\n",
    "df['Sentiment'] = pd.Categorical(df['Sentiment'])\n",
    "\n",
    "# Create a new DataFrame with unique 'Region Code' and corresponding sentiment counts\n",
    "df_region_sentiment_counts = df.dropna(subset=['Sentiment']).groupby(['Region Code', 'Sentiment']).size().unstack(fill_value=0)\n",
    "\n",
    "# Plotting a bar plot\n",
    "df_region_sentiment_counts.plot(kind='bar', stacked=True, figsize=(12, 6), colormap='viridis')\n",
    "plt.title('Sentiment Distribution by Region Code')\n",
    "plt.xlabel('Region Code')\n",
    "plt.ylabel('Count')\n",
    "plt.legend(title='Sentiment', bbox_to_anchor=(1.05, 1), loc='upper left')\n",
    "plt.show()\n"
   ]
  }
 ],
 "metadata": {
  "kernelspec": {
   "display_name": "Python 3",
   "language": "python",
   "name": "python3"
  },
  "language_info": {
   "codemirror_mode": {
    "name": "ipython",
    "version": 3
   },
   "file_extension": ".py",
   "mimetype": "text/x-python",
   "name": "python",
   "nbconvert_exporter": "python",
   "pygments_lexer": "ipython3",
   "version": "3.9.7"
  }
 },
 "nbformat": 4,
 "nbformat_minor": 2
}
